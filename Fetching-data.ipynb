{
  "nbformat": 4,
  "nbformat_minor": 0,
  "metadata": {
    "colab": {
      "provenance": [],
      "collapsed_sections": [
        "vJdl-3j0WDZi",
        "e_69z4vq4o2R"
      ]
    },
    "kernelspec": {
      "name": "python3",
      "display_name": "Python 3"
    },
    "language_info": {
      "name": "python"
    }
  },
  "cells": [
    {
      "cell_type": "code",
      "execution_count": null,
      "metadata": {
        "colab": {
          "base_uri": "https://localhost:8080/"
        },
        "id": "DdDFaxad4K3O",
        "outputId": "7b926ad9-74fc-4e73-a742-e76d479da2dc"
      },
      "outputs": [
        {
          "output_type": "stream",
          "name": "stdout",
          "text": [
            "Looking in indexes: https://pypi.org/simple, https://us-python.pkg.dev/colab-wheels/public/simple/\n",
            "Collecting nilearn\n",
            "  Downloading nilearn-0.9.2-py3-none-any.whl (9.6 MB)\n",
            "\u001b[K     |████████████████████████████████| 9.6 MB 4.7 MB/s \n",
            "\u001b[?25hRequirement already satisfied: pandas>=1.0 in /usr/local/lib/python3.8/dist-packages (from nilearn) (1.3.5)\n",
            "Requirement already satisfied: scipy>=1.5 in /usr/local/lib/python3.8/dist-packages (from nilearn) (1.7.3)\n",
            "Requirement already satisfied: requests>=2 in /usr/local/lib/python3.8/dist-packages (from nilearn) (2.23.0)\n",
            "Requirement already satisfied: joblib>=0.15 in /usr/local/lib/python3.8/dist-packages (from nilearn) (1.2.0)\n",
            "Requirement already satisfied: numpy>=1.18 in /usr/local/lib/python3.8/dist-packages (from nilearn) (1.21.6)\n",
            "Requirement already satisfied: lxml in /usr/local/lib/python3.8/dist-packages (from nilearn) (4.9.1)\n",
            "Requirement already satisfied: nibabel>=3.0.0 in /usr/local/lib/python3.8/dist-packages (from nilearn) (3.0.2)\n",
            "Requirement already satisfied: scikit-learn>=0.22 in /usr/local/lib/python3.8/dist-packages (from nilearn) (1.0.2)\n",
            "Requirement already satisfied: python-dateutil>=2.7.3 in /usr/local/lib/python3.8/dist-packages (from pandas>=1.0->nilearn) (2.8.2)\n",
            "Requirement already satisfied: pytz>=2017.3 in /usr/local/lib/python3.8/dist-packages (from pandas>=1.0->nilearn) (2022.6)\n",
            "Requirement already satisfied: six>=1.5 in /usr/local/lib/python3.8/dist-packages (from python-dateutil>=2.7.3->pandas>=1.0->nilearn) (1.15.0)\n",
            "Requirement already satisfied: idna<3,>=2.5 in /usr/local/lib/python3.8/dist-packages (from requests>=2->nilearn) (2.10)\n",
            "Requirement already satisfied: urllib3!=1.25.0,!=1.25.1,<1.26,>=1.21.1 in /usr/local/lib/python3.8/dist-packages (from requests>=2->nilearn) (1.24.3)\n",
            "Requirement already satisfied: chardet<4,>=3.0.2 in /usr/local/lib/python3.8/dist-packages (from requests>=2->nilearn) (3.0.4)\n",
            "Requirement already satisfied: certifi>=2017.4.17 in /usr/local/lib/python3.8/dist-packages (from requests>=2->nilearn) (2022.9.24)\n",
            "Requirement already satisfied: threadpoolctl>=2.0.0 in /usr/local/lib/python3.8/dist-packages (from scikit-learn>=0.22->nilearn) (3.1.0)\n",
            "Installing collected packages: nilearn\n",
            "Successfully installed nilearn-0.9.2\n"
          ]
        }
      ],
      "source": [
        "!pip install nilearn"
      ]
    },
    {
      "cell_type": "code",
      "source": [],
      "metadata": {
        "id": "6OHLxnZ94Y4_"
      },
      "execution_count": null,
      "outputs": []
    },
    {
      "cell_type": "code",
      "source": [
        "from google.colab import drive\n",
        "drive.mount('/content/gdrive')"
      ],
      "metadata": {
        "colab": {
          "base_uri": "https://localhost:8080/"
        },
        "id": "imzUUdAe4ZEX",
        "outputId": "f20e66ce-9690-4d81-cc07-12e900b60307"
      },
      "execution_count": null,
      "outputs": [
        {
          "output_type": "stream",
          "name": "stdout",
          "text": [
            "Mounted at /content/gdrive\n"
          ]
        }
      ]
    },
    {
      "cell_type": "code",
      "source": [
        "!touch \"/content/gdrive/MyDrive/NIM project/wuarun-7.nii\"\n"
      ],
      "metadata": {
        "id": "bZHXE0Ff4ZHZ",
        "colab": {
          "base_uri": "https://localhost:8080/"
        },
        "outputId": "06419c41-c9f2-45be-c551-244a79853573"
      },
      "execution_count": null,
      "outputs": [
        {
          "output_type": "stream",
          "name": "stdout",
          "text": [
            "touch: cannot touch '/content/gdrive/MyDrive/NIM project/wuarun-7.nii': No such file or directory\n"
          ]
        }
      ]
    },
    {
      "cell_type": "code",
      "source": [
        "!pip install nibabel"
      ],
      "metadata": {
        "colab": {
          "base_uri": "https://localhost:8080/"
        },
        "id": "CrRtOCw2B2N8",
        "outputId": "7545788c-db05-4d11-850f-5bcef91e0dc7"
      },
      "execution_count": null,
      "outputs": [
        {
          "output_type": "stream",
          "name": "stdout",
          "text": [
            "Looking in indexes: https://pypi.org/simple, https://us-python.pkg.dev/colab-wheels/public/simple/\n",
            "Requirement already satisfied: nibabel in /usr/local/lib/python3.8/dist-packages (3.0.2)\n",
            "Requirement already satisfied: numpy>=1.12 in /usr/local/lib/python3.8/dist-packages (from nibabel) (1.21.6)\n"
          ]
        }
      ]
    },
    {
      "cell_type": "code",
      "source": [
        "import nilearn as nl\n",
        "import os\n",
        "from nilearn import image \n",
        "import nibabel as nib\n",
        "import numpy as np\n",
        "import pandas as pd\n",
        "import matplotlib.pyplot as plt\n",
        "%matplotlib inline"
      ],
      "metadata": {
        "id": "mp_u6I9g4ZKi"
      },
      "execution_count": null,
      "outputs": []
    },
    {
      "cell_type": "code",
      "source": [
        "\n",
        "nl.masking.apply_mask(data, MASK_ICV, dtype='f', smoothing_fwhm=None, ensure_finite=True)"
      ],
      "metadata": {
        "colab": {
          "base_uri": "https://localhost:8080/",
          "height": 169
        },
        "id": "hmKpZDv_3H0R",
        "outputId": "cecc136e-1ee3-4693-99e6-1f84f4beb04f"
      },
      "execution_count": null,
      "outputs": [
        {
          "output_type": "error",
          "ename": "AttributeError",
          "evalue": "ignored",
          "traceback": [
            "\u001b[0;31m---------------------------------------------------------------------------\u001b[0m",
            "\u001b[0;31mAttributeError\u001b[0m                            Traceback (most recent call last)",
            "\u001b[0;32m<ipython-input-7-67fab1ccc3a7>\u001b[0m in \u001b[0;36m<module>\u001b[0;34m\u001b[0m\n\u001b[0;32m----> 1\u001b[0;31m \u001b[0mnl\u001b[0m\u001b[0;34m.\u001b[0m\u001b[0mapply_mask\u001b[0m\u001b[0;34m(\u001b[0m\u001b[0mdata\u001b[0m\u001b[0;34m,\u001b[0m \u001b[0mMASK_ICV\u001b[0m\u001b[0;34m,\u001b[0m \u001b[0mdtype\u001b[0m\u001b[0;34m=\u001b[0m\u001b[0;34m'f'\u001b[0m\u001b[0;34m,\u001b[0m \u001b[0msmoothing_fwhm\u001b[0m\u001b[0;34m=\u001b[0m\u001b[0;32mNone\u001b[0m\u001b[0;34m,\u001b[0m \u001b[0mensure_finite\u001b[0m\u001b[0;34m=\u001b[0m\u001b[0;32mTrue\u001b[0m\u001b[0;34m)\u001b[0m\u001b[0;34m\u001b[0m\u001b[0;34m\u001b[0m\u001b[0m\n\u001b[0m",
            "\u001b[0;31mAttributeError\u001b[0m: module 'nilearn' has no attribute 'apply_mask'"
          ]
        }
      ]
    },
    {
      "cell_type": "markdown",
      "source": [
        "# New Section"
      ],
      "metadata": {
        "id": "Sk92u5lV4nDK"
      }
    },
    {
      "cell_type": "code",
      "source": [
        "data = nib.load( \"/content/gdrive/MyDrive/NIM_project/Coding and Data/wuarun-7.nii\")"
      ],
      "metadata": {
        "id": "R6fgj5RC4ZN2",
        "colab": {
          "base_uri": "https://localhost:8080/",
          "height": 446
        },
        "outputId": "f8aaf5c3-ad18-4959-f22b-4736b46167b9"
      },
      "execution_count": null,
      "outputs": [
        {
          "output_type": "error",
          "ename": "FileNotFoundError",
          "evalue": "ignored",
          "traceback": [
            "\u001b[0;31m---------------------------------------------------------------------------\u001b[0m",
            "\u001b[0;31mFileNotFoundError\u001b[0m                         Traceback (most recent call last)",
            "\u001b[0;32m/usr/local/lib/python3.8/dist-packages/nibabel/loadsave.py\u001b[0m in \u001b[0;36mload\u001b[0;34m(filename, **kwargs)\u001b[0m\n\u001b[1;32m     41\u001b[0m     \u001b[0;32mtry\u001b[0m\u001b[0;34m:\u001b[0m\u001b[0;34m\u001b[0m\u001b[0;34m\u001b[0m\u001b[0m\n\u001b[0;32m---> 42\u001b[0;31m         \u001b[0mstat_result\u001b[0m \u001b[0;34m=\u001b[0m \u001b[0mos\u001b[0m\u001b[0;34m.\u001b[0m\u001b[0mstat\u001b[0m\u001b[0;34m(\u001b[0m\u001b[0mfilename\u001b[0m\u001b[0;34m)\u001b[0m\u001b[0;34m\u001b[0m\u001b[0;34m\u001b[0m\u001b[0m\n\u001b[0m\u001b[1;32m     43\u001b[0m     \u001b[0;32mexcept\u001b[0m \u001b[0mOSError\u001b[0m\u001b[0;34m:\u001b[0m\u001b[0;34m\u001b[0m\u001b[0;34m\u001b[0m\u001b[0m\n",
            "\u001b[0;31mFileNotFoundError\u001b[0m: [Errno 2] No such file or directory: '/content/gdrive/MyDrive/NIM_project/Coding and Data/wuarun-7.nii'",
            "\nDuring handling of the above exception, another exception occurred:\n",
            "\u001b[0;31mFileNotFoundError\u001b[0m                         Traceback (most recent call last)",
            "\u001b[0;32m<ipython-input-11-27b9094a50c6>\u001b[0m in \u001b[0;36m<module>\u001b[0;34m\u001b[0m\n\u001b[0;32m----> 1\u001b[0;31m \u001b[0mdata\u001b[0m \u001b[0;34m=\u001b[0m \u001b[0mnib\u001b[0m\u001b[0;34m.\u001b[0m\u001b[0mload\u001b[0m\u001b[0;34m(\u001b[0m \u001b[0;34m\"/content/gdrive/MyDrive/NIM_project/Coding and Data/wuarun-7.nii\"\u001b[0m\u001b[0;34m)\u001b[0m\u001b[0;34m\u001b[0m\u001b[0;34m\u001b[0m\u001b[0m\n\u001b[0m",
            "\u001b[0;32m/usr/local/lib/python3.8/dist-packages/nibabel/loadsave.py\u001b[0m in \u001b[0;36mload\u001b[0;34m(filename, **kwargs)\u001b[0m\n\u001b[1;32m     42\u001b[0m         \u001b[0mstat_result\u001b[0m \u001b[0;34m=\u001b[0m \u001b[0mos\u001b[0m\u001b[0;34m.\u001b[0m\u001b[0mstat\u001b[0m\u001b[0;34m(\u001b[0m\u001b[0mfilename\u001b[0m\u001b[0;34m)\u001b[0m\u001b[0;34m\u001b[0m\u001b[0;34m\u001b[0m\u001b[0m\n\u001b[1;32m     43\u001b[0m     \u001b[0;32mexcept\u001b[0m \u001b[0mOSError\u001b[0m\u001b[0;34m:\u001b[0m\u001b[0;34m\u001b[0m\u001b[0;34m\u001b[0m\u001b[0m\n\u001b[0;32m---> 44\u001b[0;31m         \u001b[0;32mraise\u001b[0m \u001b[0mFileNotFoundError\u001b[0m\u001b[0;34m(\u001b[0m\u001b[0;34m\"No such file or no access: '%s'\"\u001b[0m \u001b[0;34m%\u001b[0m \u001b[0mfilename\u001b[0m\u001b[0;34m)\u001b[0m\u001b[0;34m\u001b[0m\u001b[0;34m\u001b[0m\u001b[0m\n\u001b[0m\u001b[1;32m     45\u001b[0m     \u001b[0;32mif\u001b[0m \u001b[0mstat_result\u001b[0m\u001b[0;34m.\u001b[0m\u001b[0mst_size\u001b[0m \u001b[0;34m<=\u001b[0m \u001b[0;36m0\u001b[0m\u001b[0;34m:\u001b[0m\u001b[0;34m\u001b[0m\u001b[0;34m\u001b[0m\u001b[0m\n\u001b[1;32m     46\u001b[0m         \u001b[0;32mraise\u001b[0m \u001b[0mImageFileError\u001b[0m\u001b[0;34m(\u001b[0m\u001b[0;34m\"Empty file: '%s'\"\u001b[0m \u001b[0;34m%\u001b[0m \u001b[0mfilename\u001b[0m\u001b[0;34m)\u001b[0m\u001b[0;34m\u001b[0m\u001b[0;34m\u001b[0m\u001b[0m\n",
            "\u001b[0;31mFileNotFoundError\u001b[0m: No such file or no access: '/content/gdrive/MyDrive/NIM_project/Coding and Data/wuarun-7.nii'"
          ]
        }
      ]
    },
    {
      "cell_type": "markdown",
      "source": [
        "# New Section"
      ],
      "metadata": {
        "id": "TzWqJTfeIBKq"
      }
    },
    {
      "cell_type": "code",
      "source": [
        "d = data.get_fdata()\n",
        "# d.shape\n",
        "from nilearn.maskers import NiftiMasker\n",
        "import nilearn.image as image\n",
        "from nilearn.plotting import plot_roi, plot_epi, show\n",
        "\n",
        "\n",
        "masker = NiftiMasker()\n",
        "masker.fit(data)\n",
        "\n",
        "\n",
        "data_mean_img = image.mean_img(data)\n",
        "plot_roi(masker.mask_img_,data_mean_img)"
      ],
      "metadata": {
        "colab": {
          "base_uri": "https://localhost:8080/",
          "height": 236
        },
        "id": "WoiFKTFyk_ne",
        "outputId": "ec8a5d57-c091-4a09-f8ae-0e22a6121074"
      },
      "execution_count": null,
      "outputs": [
        {
          "output_type": "execute_result",
          "data": {
            "text/plain": [
              "<nilearn.plotting.displays._slicers.OrthoSlicer at 0x7f71fc398a30>"
            ]
          },
          "metadata": {},
          "execution_count": 10
        },
        {
          "output_type": "display_data",
          "data": {
            "text/plain": [
              "<Figure size 475.2x187.2 with 4 Axes>"
            ],
            "image/png": "[encoded data removed]"
          },
          "metadata": {}
        }
      ]
    },
    {
      "cell_type": "markdown",
      "source": [
        "# Masking data\n",
        "\n",
        " link for the below code:\n",
        "\n",
        " https://nilearn.github.io/dev/auto_examples/06_manipulating_images/plot_nifti_simple.html"
      ],
      "metadata": {
        "id": "H1kp0iOmpam8"
      }
    },
    {
      "cell_type": "code",
      "source": [],
      "metadata": {
        "id": "EI0fReN12tod"
      },
      "execution_count": null,
      "outputs": []
    },
    {
      "cell_type": "code",
      "source": [
        "from nilearn.maskers import NiftiMasker\n",
        "\n",
        "# we can change mask_strategy with : whole-brain-template > uses MNI , gm-template > for gray matter\n",
        "nifti_masker = NiftiMasker(standardize=True, mask_strategy='epi',\n",
        "                           memory=\"nilearn_cache\", memory_level=2,\n",
        "                           smoothing_fwhm=8, verbose=True, detrend= True)\n",
        "\n",
        "nifti_masker.fit(data)\n",
        "mask_img = nifti_masker.mask_img_\n",
        "nifti_masker.fit(data)\n",
        "fmri_masked = nifti_masker.transform(data)\n",
        "# fmri_masked is now a 2D matrix, (n_voxels x n_time_points)"
      ],
      "metadata": {
        "colab": {
          "base_uri": "https://localhost:8080/"
        },
        "id": "TQi-2IenomVE",
        "outputId": "08bb682d-b789-43e1-8e82-4b997a709059"
      },
      "execution_count": null,
      "outputs": [
        {
          "output_type": "stream",
          "name": "stdout",
          "text": [
            "[NiftiMasker.fit] Loading data from Nifti1Image('/content/gdrive/MyDrive/NIM project/Coding and Data/wuarun-7.nii')\n",
            "[NiftiMasker.fit] Computing the mask\n",
            "________________________________________________________________________________\n",
            "[Memory] Calling nilearn.masking.compute_epi_mask...\n",
            "compute_epi_mask(<nibabel.nifti1.Nifti1Image object at 0x7f7203032640>, verbose=0)\n"
          ]
        },
        {
          "output_type": "stream",
          "name": "stderr",
          "text": [
            "/usr/local/lib/python3.8/dist-packages/nilearn/maskers/nifti_masker.py:452: UserWarning: Persisting input arguments took 0.88s to run.\n",
            "If this happens often in your code, it can cause performance problems \n",
            "(results will be correct in all cases). \n",
            "The reason for this is probably some large input arguments for a wrapped\n",
            " function (e.g. large strings).\n",
            "THIS IS A JOBLIB ISSUE. If you can, kindly provide the joblib's team with an\n",
            " example so that they can fix the problem.\n",
            "  self.mask_img_ = self._cache(compute_mask, ignore=['verbose'])(\n"
          ]
        },
        {
          "output_type": "stream",
          "name": "stdout",
          "text": [
            "_________________________________________________compute_epi_mask - 1.1s, 0.0min\n",
            "[NiftiMasker.fit] Resampling mask\n",
            "________________________________________________________________________________\n",
            "[Memory] Calling nilearn.image.resampling.resample_img...\n",
            "resample_img(<nibabel.nifti1.Nifti1Image object at 0x7f71fc356ac0>, target_affine=None, target_shape=None, copy=False, interpolation='nearest')\n",
            "_____________________________________________________resample_img - 0.0s, 0.0min\n",
            "[NiftiMasker.fit] Loading data from Nifti1Image('/content/gdrive/MyDrive/NIM project/Coding and Data/wuarun-7.nii')\n",
            "[NiftiMasker.fit] Computing the mask\n",
            "[NiftiMasker.fit] Resampling mask\n",
            "________________________________________________________________________________\n",
            "[Memory] Calling nilearn.maskers.nifti_masker._filter_and_mask...\n",
            "_filter_and_mask(<nibabel.nifti1.Nifti1Image object at 0x7f7203032640>, <nibabel.nifti1.Nifti1Image object at 0x7f720309be50>, { 'detrend': True,\n",
            "  'dtype': None,\n",
            "  'high_pass': None,\n",
            "  'high_variance_confounds': False,\n",
            "  'low_pass': None,\n",
            "  'reports': True,\n",
            "  'runs': None,\n",
            "  'smoothing_fwhm': 8,\n",
            "  'standardize': True,\n",
            "  'standardize_confounds': True,\n",
            "  't_r': None,\n",
            "  'target_affine': None,\n",
            "  'target_shape': None}, memory_level=2, memory=Memory(location=nilearn_cache/joblib), verbose=True, confounds=None, sample_mask=None, copy=True, dtype=None)\n",
            "[NiftiMasker.transform_single_imgs] Loading data from Nifti1Image('/content/gdrive/MyDrive/NIM project/Coding and Data/wuarun-7.nii')\n",
            "[NiftiMasker.transform_single_imgs] Smoothing images\n",
            "________________________________________________________________________________\n",
            "[Memory] Calling nilearn.image.image.smooth_img...\n",
            "smooth_img(<nibabel.nifti1.Nifti1Image object at 0x7f7203032640>, 8)\n"
          ]
        },
        {
          "output_type": "stream",
          "name": "stderr",
          "text": [
            "/usr/local/lib/python3.8/dist-packages/nilearn/maskers/base_masker.py:105: UserWarning: Persisting input arguments took 0.87s to run.\n",
            "If this happens often in your code, it can cause performance problems \n",
            "(results will be correct in all cases). \n",
            "The reason for this is probably some large input arguments for a wrapped\n",
            " function (e.g. large strings).\n",
            "THIS IS A JOBLIB ISSUE. If you can, kindly provide the joblib's team with an\n",
            " example so that they can fix the problem.\n",
            "  imgs = cache(\n"
          ]
        },
        {
          "output_type": "stream",
          "name": "stdout",
          "text": [
            "_______________________________________________________smooth_img - 3.2s, 0.1min\n",
            "[NiftiMasker.transform_single_imgs] Extracting region signals\n",
            "________________________________________________________________________________\n",
            "[Memory] Calling nilearn.maskers.nifti_masker.nifti_masker_extractor...\n",
            "nifti_masker_extractor(<nibabel.nifti1.Nifti1Image object at 0x7f7201c5cd30>)\n",
            "___________________________________________nifti_masker_extractor - 0.5s, 0.0min\n",
            "[NiftiMasker.transform_single_imgs] Cleaning extracted signals\n",
            "________________________________________________________________________________\n",
            "[Memory] Calling nilearn.signal.clean...\n",
            "clean(array([[415, ..., 404],\n",
            "       ...,\n",
            "       [391, ..., 381]], dtype=uint16), detrend=True, standardize=True, standardize_confounds=True, t_r=None, low_pass=None, high_pass=None, confounds=None, sample_mask=None, runs=None)\n",
            "____________________________________________________________clean - 0.3s, 0.0min\n",
            "__________________________________________________filter_and_mask - 7.4s, 0.1min\n"
          ]
        },
        {
          "output_type": "stream",
          "name": "stderr",
          "text": [
            "/usr/local/lib/python3.8/dist-packages/nilearn/maskers/nifti_masker.py:570: UserWarning: Persisting input arguments took 0.88s to run.\n",
            "If this happens often in your code, it can cause performance problems \n",
            "(results will be correct in all cases). \n",
            "The reason for this is probably some large input arguments for a wrapped\n",
            " function (e.g. large strings).\n",
            "THIS IS A JOBLIB ISSUE. If you can, kindly provide the joblib's team with an\n",
            " example so that they can fix the problem.\n",
            "  data = self._cache(\n"
          ]
        }
      ]
    },
    {
      "cell_type": "code",
      "source": [
        "report = nifti_masker.generate_report()\n",
        "report\n",
        "# fmri_masked.shape"
      ],
      "metadata": {
        "colab": {
          "base_uri": "https://localhost:8080/",
          "height": 336
        },
        "id": "EsMGzhHFpGxZ",
        "outputId": "c53a9113-b72a-414b-b0b1-53c0d433971e"
      },
      "execution_count": null,
      "outputs": [
        {
          "output_type": "execute_result",
          "data": {
            "text/plain": [
              "<nilearn.reporting.html_report.HTMLReport at 0x7f71f9d338e0>"
            ],
            "text/html": [
              "<!-- CSS for the report -->\n",
              "<link rel=\"stylesheet\" href=\"https://unpkg.com/purecss@1.0.0/build/pure-min.css\" integrity=\"sha384-nn4HPE8lTHyVtfCBi5yW9d20FjT8BJwUXyWZT9InLYax14RDjBj46LmSztkmNP9w\" crossorigin=\"anonymous\">\n",
              "<link rel=\"stylesheet\" href=\"https://unpkg.com/purecss@1.0.0/build/grids-responsive-min.css\">\n",
              "<style type=\"text/css\">\n",
              "\n",
              "/* Add a gutter to Pure's Columns */\n",
              ".pure-g > div {\n",
              "  -webkit-box-sizing: border-box;\n",
              "  -moz-box-sizing: border-box;\n",
              "  box-sizing: border-box;\n",
              "}\n",
              "\n",
              ".pure-g > div {\n",
              "  padding: 0 0.5em;\n",
              "}\n",
              "\n",
              "/*!\n",
              "Pure-button class copied from pure-min.css,\n",
              "in case reports are displayed offline.\n",
              "\n",
              "Pure v1.0.0\n",
              "Copyright 2013 Yahoo!\n",
              "Licensed under the BSD License.\n",
              "https://github.com/yahoo/pure/blob/master/LICENSE.md\n",
              "*/\n",
              "\n",
              ".pure-button {\n",
              "    /* Structure */\n",
              "    display: inline-block;\n",
              "    zoom: 1;\n",
              "    line-height: normal;\n",
              "    white-space: nowrap;\n",
              "    vertical-align: middle;\n",
              "    text-align: center;\n",
              "    cursor: pointer;\n",
              "    -webkit-user-drag: none;\n",
              "    -webkit-user-select: none;\n",
              "       -moz-user-select: none;\n",
              "        -ms-user-select: none;\n",
              "            user-select: none;\n",
              "    box-sizing: border-box;\n",
              "}\n",
              "\n",
              ".pure-button {\n",
              "    /* Button styling */\n",
              "    font-family: inherit;\n",
              "    font-size: 100%;\n",
              "    padding: 0.5em 1em;\n",
              "    color: #444; /* rgba not supported (IE 8) */\n",
              "    color: rgba(0, 0, 0, 0.80); /* rgba supported */\n",
              "    border: 1px solid #999;  /*IE 6/7/8*/\n",
              "    border: none rgba(0, 0, 0, 0);  /*IE9 + everything else*/\n",
              "    background-color: #E6E6E6;\n",
              "    text-decoration: none;\n",
              "    border-radius: 2px;\n",
              "}\n",
              "\n",
              "/*!\n",
              "End pure-button class definition from pure-min.css\n",
              "*/\n",
              "\n",
              "div.nilearn_report {\n",
              "    padding-top: 0px;\n",
              "    border: solid rgb(150, 150, 150);\n",
              "    border-width: 1pt;\n",
              "    border-radius: 6pt;\n",
              "    overflow: hidden;  /* Needed to avoid scrolling in jupyter :( */\n",
              "    color: black;\n",
              "    background-color: white;\n",
              "}\n",
              "\n",
              ".terminal div.nilearn_report {\n",
              "    max-width: min(50ex, 100vw); /* Needed in vscode */\n",
              "}\n",
              "\n",
              "/* Isolate us a bit from the styles specified by other stylesheets */\n",
              "\n",
              "div.nilearn_report h1 {\n",
              "    text-align: left;\n",
              "    margin-left: 0pt;\n",
              "    margin-right: 0pt;\n",
              "    padding-top: 5pt;\n",
              "    font-size: 1.8em;\n",
              "    padding-left: 5pt;\n",
              "}\n",
              "\n",
              "div.nilearn_report h1:first-child {\n",
              "    margin-top: 0pt;\n",
              "    background-color: #f5f5f5;\n",
              "    border-radius: 6pt 6pt 0pt 0pt;\n",
              "    padding-left: 5pt;\n",
              "}\n",
              "\n",
              "div.nilearn_report summary::-webkit-details-marker {\n",
              "    margin-right: 2px;\n",
              "}\n",
              "\n",
              "div.nilearn_report summary:focus {\n",
              "    outline-style: none;\n",
              "}\n",
              "\n",
              "div.nilearn_report table {\n",
              "    max-width: 100%;\n",
              "    border-collapse: collapse;\n",
              "    margin:50px auto;\n",
              "    float: right;\n",
              "}\n",
              "\n",
              "div.nilearn_report thead th {\n",
              "  text-align: center;\n",
              "}\n",
              "\n",
              "div.nilearn_report tbody tr:nth-child(even) {\n",
              "   background-color: #ddd;\n",
              "}\n",
              "\n",
              "div.nilearn_report details {\n",
              "    overflow-x: visible;\n",
              "}\n",
              "\n",
              "div.nilearn_report div.raise {\n",
              "    z-index: 1;\n",
              "\n",
              "}\n",
              "\n",
              "/* Tooltip container */\n",
              "div.nilearn_report .withtooltip {\n",
              "  position: relative;\n",
              "  border-bottom: 1px dotted black; /* If you want dots under the hoverable text */\n",
              "}\n",
              "\n",
              "/* Tooltip text */\n",
              "div.nilearn_report .withtooltip .tooltiptext {\n",
              "  visibility: hidden;\n",
              "  max-width: 35em;\n",
              "  width: 90%;\n",
              "  background-color: rgba(24,24,24,0.9);\n",
              "  color: #fff;\n",
              "  text-align: left;\n",
              "  font-size: 12pt;\n",
              "  font-weight: 200;\n",
              "  border-radius: 6px;\n",
              "  padding: 5px;css=resource_path.joinpath('css'),\n",
              "\n",
              "  margin-left: 3pt;\n",
              "\n",
              "  /* Position the tooltip text - see examples below! */\n",
              "  position: absolute;\n",
              "  z-index: 2;\n",
              "\n",
              "  width: 99%;\n",
              "  left: 2pt;\n",
              "  top: 133%;\n",
              "}\n",
              "\n",
              "/* Show the tooltip text when you mouse over the tooltip container */\n",
              "div.nilearn_report .withtooltip:hover .tooltiptext {\n",
              "  visibility: visible;\n",
              "}\n",
              "\n",
              "div.nilearn_report .image {\n",
              "  position: relative;\n",
              "  height: auto;\n",
              "  width: 100%;\n",
              "}\n",
              "\n",
              "div.nilearn_report .image .overlay {\n",
              "  position: absolute;\n",
              "  top: 0;\n",
              "  left: 0;\n",
              "  opacity: 0;\n",
              "  transition: .5s ease;\n",
              "  height: auto;\n",
              "  width: 100%;\n",
              "  -webkit-transition: .5s ease;\n",
              "}\n",
              "\n",
              "div.nilearn_report .image:hover .overlay {\n",
              "  opacity: 1;\n",
              "}\n",
              "\n",
              ".elem-warn {\n",
              "    color: #FF0000;\n",
              "    font-weight: bold;\n",
              "}\n",
              "\n",
              "</style>\n",
              "<div class=\"nilearn_report\">\n",
              "  <h1 class=\"withtooltip\">\n",
              "    NiftiMasker\n",
              "    <span class=\"tooltiptext\">Applying a mask to extract time-series from Niimg-like objects.\n",
              "\n",
              "    NiftiMasker is useful when preprocessing (detrending, standardization,\n",
              "    resampling, etc.) of in-mask :term:`voxels&lt;voxel&gt;` is necessary.\n",
              "    Use case: working with time series of resting-state or task maps.\n",
              "\n",
              "    </span>\n",
              "  </h1>\n",
              "  <div class=\"pure-g\">\n",
              "  <div class=\"pure-u-1 pure-u-md-2-3\">\n",
              "      <div class=\"image\">\n",
              "      <img class=\"pure-img\" width=\"100%\" src=\"data:image/svg+xml;base64,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\" alt=\"image\"/>\n",
              "      </div>\n",
              "  </div>\n",
              "  <div class=\"pure-u-1 pure-u-md-1-3 raise\">\n",
              "      <p class=\"elem-desc\">This report shows the input Nifti image overlaid with the outlines of the mask (in green). We recommend to inspect the report for the overlap between the mask and its input image. </p>\n",
              "    <p></p>\n",
              "    <details>\n",
              "      <summary class=\"pure-button\">Parameters</summary>\n",
              "      <table class=\"pure-table\">\n",
              "        <thead>\n",
              "          <tr>\n",
              "            <th>Parameter</th>\n",
              "            <th>Value</th>\n",
              "          </tr>\n",
              "        </thead>\n",
              "\n",
              "        <tbody>\n",
              "            <tr>\n",
              "              <td data-column=\"Parameter\">detrend</td>\n",
              "              <td data-column=\"Value\">True</td>\n",
              "            </tr>\n",
              "            <tr>\n",
              "              <td data-column=\"Parameter\">dtype</td>\n",
              "              <td data-column=\"Value\">None</td>\n",
              "            </tr>\n",
              "            <tr>\n",
              "              <td data-column=\"Parameter\">high_pass</td>\n",
              "              <td data-column=\"Value\">None</td>\n",
              "            </tr>\n",
              "            <tr>\n",
              "              <td data-column=\"Parameter\">high_variance_confounds</td>\n",
              "              <td data-column=\"Value\">False</td>\n",
              "            </tr>\n",
              "            <tr>\n",
              "              <td data-column=\"Parameter\">low_pass</td>\n",
              "              <td data-column=\"Value\">None</td>\n",
              "            </tr>\n",
              "            <tr>\n",
              "              <td data-column=\"Parameter\">mask_args</td>\n",
              "              <td data-column=\"Value\">None</td>\n",
              "            </tr>\n",
              "            <tr>\n",
              "              <td data-column=\"Parameter\">mask_img</td>\n",
              "              <td data-column=\"Value\">None</td>\n",
              "            </tr>\n",
              "            <tr>\n",
              "              <td data-column=\"Parameter\">mask_strategy</td>\n",
              "              <td data-column=\"Value\">epi</td>\n",
              "            </tr>\n",
              "            <tr>\n",
              "              <td data-column=\"Parameter\">memory</td>\n",
              "              <td data-column=\"Value\">Memory(location=nilearn_cache/joblib)</td>\n",
              "            </tr>\n",
              "            <tr>\n",
              "              <td data-column=\"Parameter\">memory_level</td>\n",
              "              <td data-column=\"Value\">2</td>\n",
              "            </tr>\n",
              "            <tr>\n",
              "              <td data-column=\"Parameter\">reports</td>\n",
              "              <td data-column=\"Value\">True</td>\n",
              "            </tr>\n",
              "            <tr>\n",
              "              <td data-column=\"Parameter\">runs</td>\n",
              "              <td data-column=\"Value\">None</td>\n",
              "            </tr>\n",
              "            <tr>\n",
              "              <td data-column=\"Parameter\">smoothing_fwhm</td>\n",
              "              <td data-column=\"Value\">8</td>\n",
              "            </tr>\n",
              "            <tr>\n",
              "              <td data-column=\"Parameter\">standardize</td>\n",
              "              <td data-column=\"Value\">True</td>\n",
              "            </tr>\n",
              "            <tr>\n",
              "              <td data-column=\"Parameter\">standardize_confounds</td>\n",
              "              <td data-column=\"Value\">True</td>\n",
              "            </tr>\n",
              "            <tr>\n",
              "              <td data-column=\"Parameter\">t_r</td>\n",
              "              <td data-column=\"Value\">None</td>\n",
              "            </tr>\n",
              "            <tr>\n",
              "              <td data-column=\"Parameter\">target_affine</td>\n",
              "              <td data-column=\"Value\">None</td>\n",
              "            </tr>\n",
              "            <tr>\n",
              "              <td data-column=\"Parameter\">target_shape</td>\n",
              "              <td data-column=\"Value\">None</td>\n",
              "            </tr>\n",
              "            <tr>\n",
              "              <td data-column=\"Parameter\">verbose</td>\n",
              "              <td data-column=\"Value\">True</td>\n",
              "            </tr>\n",
              "        </tbody>\n",
              "      </table>\n",
              "\n",
              "    </details>\n",
              "    </div>\n",
              "  </div>\n",
              "</div>\n"
            ]
          },
          "metadata": {},
          "execution_count": 12
        }
      ]
    },
    {
      "cell_type": "code",
      "source": [
        "fmri_masked.shape"
      ],
      "metadata": {
        "colab": {
          "base_uri": "https://localhost:8080/"
        },
        "id": "Tqyp8Qy2qTjC",
        "outputId": "24dae951-4bd0-4cb1-8e42-294bd44c2c2d"
      },
      "execution_count": null,
      "outputs": [
        {
          "output_type": "execute_result",
          "data": {
            "text/plain": [
              "(170, 64516)"
            ]
          },
          "metadata": {},
          "execution_count": 13
        }
      ]
    },
    {
      "cell_type": "code",
      "source": [],
      "metadata": {
        "id": "RB1lWeS9omff"
      },
      "execution_count": null,
      "outputs": []
    },
    {
      "cell_type": "code",
      "source": [
        "print(masker.fit(data))\n"
      ],
      "metadata": {
        "colab": {
          "base_uri": "https://localhost:8080/"
        },
        "id": "_wB1mvOVnQ-g",
        "outputId": "14cba574-278b-4fae-b937-24213772efd9"
      },
      "execution_count": null,
      "outputs": [
        {
          "output_type": "stream",
          "name": "stdout",
          "text": [
            "NiftiMasker()\n"
          ]
        }
      ]
    },
    {
      "cell_type": "code",
      "source": [
        "d = data.get_fdata()\n",
        "d.shape\n",
        "# d[1][1][1][:]"
      ],
      "metadata": {
        "id": "x74vyXuL4ZUI",
        "colab": {
          "base_uri": "https://localhost:8080/"
        },
        "outputId": "d5c2388b-0ca7-4ea2-8967-53e5fbd1be50"
      },
      "execution_count": null,
      "outputs": [
        {
          "output_type": "execute_result",
          "data": {
            "text/plain": [
              "(61, 73, 61, 170)"
            ]
          },
          "metadata": {},
          "execution_count": 15
        }
      ]
    },
    {
      "cell_type": "code",
      "source": [
        "data.ndim"
      ],
      "metadata": {
        "id": "JDCg1-PH4ZXo",
        "colab": {
          "base_uri": "https://localhost:8080/"
        },
        "outputId": "35d386e7-68aa-4a35-841d-83fbce831e6b"
      },
      "execution_count": null,
      "outputs": [
        {
          "output_type": "execute_result",
          "data": {
            "text/plain": [
              "4"
            ]
          },
          "metadata": {},
          "execution_count": 16
        }
      ]
    },
    {
      "cell_type": "code",
      "source": [
        "type(data)"
      ],
      "metadata": {
        "id": "4Rnph3tL64L9",
        "colab": {
          "base_uri": "https://localhost:8080/"
        },
        "outputId": "6fac66b6-c31c-4744-a500-f782a6dce30d"
      },
      "execution_count": null,
      "outputs": [
        {
          "output_type": "execute_result",
          "data": {
            "text/plain": [
              "nibabel.nifti1.Nifti1Image"
            ]
          },
          "metadata": {},
          "execution_count": 17
        }
      ]
    },
    {
      "cell_type": "code",
      "source": [
        "from nilearn.masking import compute_epi_mask\n",
        "mask_img = compute_epi_mask(data)\n",
        "print(mask_img)"
      ],
      "metadata": {
        "colab": {
          "base_uri": "https://localhost:8080/"
        },
        "id": "_8aUkI8UDQQw",
        "outputId": "9f37d7ad-1f2a-445a-8b43-cdf4e98afad8"
      },
      "execution_count": null,
      "outputs": [
        {
          "output_type": "stream",
          "name": "stdout",
          "text": [
            "<class 'nibabel.nifti1.Nifti1Image'>\n",
            "data shape (61, 73, 61)\n",
            "affine: \n",
            "[[  -3.    0.    0.   90.]\n",
            " [   0.    3.    0. -126.]\n",
            " [   0.    0.    3.  -72.]\n",
            " [   0.    0.    0.    1.]]\n",
            "metadata:\n",
            "<class 'nibabel.nifti1.Nifti1Header'> object, endian='<'\n",
            "sizeof_hdr      : 348\n",
            "data_type       : b''\n",
            "db_name         : b''\n",
            "extents         : 0\n",
            "session_error   : 0\n",
            "regular         : b''\n",
            "dim_info        : 0\n",
            "dim             : [ 3 61 73 61  1  1  1  1]\n",
            "intent_p1       : 0.0\n",
            "intent_p2       : 0.0\n",
            "intent_p3       : 0.0\n",
            "intent_code     : none\n",
            "datatype        : uint8\n",
            "bitpix          : 8\n",
            "slice_start     : 0\n",
            "pixdim          : [-1.  3.  3.  3.  1.  1.  1.  1.]\n",
            "vox_offset      : 0.0\n",
            "scl_slope       : nan\n",
            "scl_inter       : nan\n",
            "slice_end       : 0\n",
            "slice_code      : unknown\n",
            "xyzt_units      : 0\n",
            "cal_max         : 0.0\n",
            "cal_min         : 0.0\n",
            "slice_duration  : 0.0\n",
            "toffset         : 0.0\n",
            "glmax           : 0\n",
            "glmin           : 0\n",
            "descrip         : b''\n",
            "aux_file        : b''\n",
            "qform_code      : unknown\n",
            "sform_code      : aligned\n",
            "quatern_b       : 0.0\n",
            "quatern_c       : 1.0\n",
            "quatern_d       : 0.0\n",
            "qoffset_x       : 90.0\n",
            "qoffset_y       : -126.0\n",
            "qoffset_z       : -72.0\n",
            "srow_x          : [-3.  0.  0. 90.]\n",
            "srow_y          : [   0.    3.    0. -126.]\n",
            "srow_z          : [  0.   0.   3. -72.]\n",
            "intent_name     : b''\n",
            "magic           : b'n+1'\n"
          ]
        }
      ]
    },
    {
      "cell_type": "code",
      "source": [
        "from nilearn.masking import apply_mask\n",
        "masked_data = apply_mask(data, mask_img)\n"
      ],
      "metadata": {
        "id": "q8_AZFqiDQWS"
      },
      "execution_count": null,
      "outputs": []
    },
    {
      "cell_type": "code",
      "source": [],
      "metadata": {
        "id": "sEMox6ltDQZS"
      },
      "execution_count": null,
      "outputs": []
    },
    {
      "cell_type": "code",
      "source": [],
      "metadata": {
        "id": "MUPI2ek0DQbr"
      },
      "execution_count": null,
      "outputs": []
    },
    {
      "cell_type": "code",
      "source": [
        "from nilearn.masking import compute_epi_mask\n",
        "mask_img = compute_epi_mask(data)\n",
        "\n",
        "# Visualize it as an ROI\n",
        "from nilearn.plotting import plot_roi\n",
        "# plot_roi(mask_img, 12)\n"
      ],
      "metadata": {
        "id": "A2GOuoBSDIai"
      },
      "execution_count": null,
      "outputs": []
    },
    {
      "cell_type": "code",
      "source": [
        "mask_img.shape"
      ],
      "metadata": {
        "colab": {
          "base_uri": "https://localhost:8080/"
        },
        "id": "O8K96vqljwAo",
        "outputId": "42cb0b03-03d1-4e60-f58d-a9bf3cde3f27"
      },
      "execution_count": null,
      "outputs": [
        {
          "output_type": "execute_result",
          "data": {
            "text/plain": [
              "(61, 73, 61)"
            ]
          },
          "metadata": {},
          "execution_count": 22
        }
      ]
    },
    {
      "cell_type": "code",
      "source": [],
      "metadata": {
        "id": "RCzhvUYFjwFQ"
      },
      "execution_count": null,
      "outputs": []
    },
    {
      "cell_type": "code",
      "source": [],
      "metadata": {
        "id": "Ugo6QGwpjwI6"
      },
      "execution_count": null,
      "outputs": []
    },
    {
      "cell_type": "code",
      "source": [],
      "metadata": {
        "id": "3elrL0SjjwMC"
      },
      "execution_count": null,
      "outputs": []
    },
    {
      "cell_type": "code",
      "source": [
        "# ----------------------------------------------------------\n",
        "from nilearn.masking import apply_mask\n",
        "masked_data = apply_mask(data, mask_img)\n",
        "\n",
        "# masked_data shape is (timepoints, voxels). We can plot the first 150\n",
        "# timepoints from two voxels\n",
        "\n",
        "# And now plot a few of these\n",
        "import matplotlib.pyplot as plt\n",
        "plt.figure(figsize=(7, 5))\n",
        "plt.plot(masked_data[:, :])\n",
        "plt.xlabel('Time [TRs]', fontsize=16)\n",
        "plt.ylabel('Intensity', fontsize=16)\n",
        "# plt.xlim(0, 150)\n",
        "plt.subplots_adjust(bottom=.12, top=.95, right=.95, left=.12)\n",
        "\n",
        "plt.show()"
      ],
      "metadata": {
        "colab": {
          "base_uri": "https://localhost:8080/",
          "height": 366
        },
        "id": "aCVFLxD_E4pO",
        "outputId": "92aa5db9-b07b-4e44-a4d0-e9b49d670f57"
      },
      "execution_count": null,
      "outputs": [
        {
          "output_type": "display_data",
          "data": {
            "text/plain": [
              "<Figure size 504x360 with 1 Axes>"
            ],
            "image/png": "[encoded data removed]"
          },
          "metadata": {
            "needs_background": "light"
          }
        }
      ]
    },
    {
      "cell_type": "code",
      "source": [],
      "metadata": {
        "id": "EgLdssz6ed8m"
      },
      "execution_count": null,
      "outputs": []
    },
    {
      "cell_type": "code",
      "source": [],
      "metadata": {
        "id": "f4w2e-gfE4s9"
      },
      "execution_count": null,
      "outputs": []
    },
    {
      "cell_type": "code",
      "source": [],
      "metadata": {
        "id": "lXAj43RXE4v5"
      },
      "execution_count": null,
      "outputs": []
    },
    {
      "cell_type": "code",
      "source": [
        "from nilearn import image\n",
        "smoothed_img = image.smooth_img(\"/content/gdrive/MyDrive/NIM project/Coding and Data/wuarun-7.nii\",fwhm=3)  \n",
        "smoothed_img"
      ],
      "metadata": {
        "colab": {
          "base_uri": "https://localhost:8080/"
        },
        "id": "aPbpxiFRFToX",
        "outputId": "52a284a6-ea2e-445e-b125-b45e1212a04e"
      },
      "execution_count": null,
      "outputs": [
        {
          "output_type": "execute_result",
          "data": {
            "text/plain": [
              "<nibabel.nifti1.Nifti1Image at 0x7f72173301c0>"
            ]
          },
          "metadata": {},
          "execution_count": 21
        }
      ]
    },
    {
      "cell_type": "code",
      "source": [
        "smooth_anat_img = image.smooth_img(\"/content/gdrive/MyDrive/NIM project/Coding and Data/wuarun-7.nii\", fwhm=3)\n",
        "plotting.plot_img(smooth_anat_img)"
      ],
      "metadata": {
        "colab": {
          "base_uri": "https://localhost:8080/",
          "height": 187
        },
        "id": "mQ8UP-U8FTrB",
        "outputId": "e29aecfb-6bb1-4616-fba6-7033bcac982d"
      },
      "execution_count": null,
      "outputs": [
        {
          "output_type": "error",
          "ename": "NameError",
          "evalue": "ignored",
          "traceback": [
            "\u001b[0;31m---------------------------------------------------------------------------\u001b[0m",
            "\u001b[0;31mNameError\u001b[0m                                 Traceback (most recent call last)",
            "\u001b[0;32m<ipython-input-22-509a2698eb18>\u001b[0m in \u001b[0;36m<module>\u001b[0;34m\u001b[0m\n\u001b[1;32m      1\u001b[0m \u001b[0msmooth_anat_img\u001b[0m \u001b[0;34m=\u001b[0m \u001b[0mimage\u001b[0m\u001b[0;34m.\u001b[0m\u001b[0msmooth_img\u001b[0m\u001b[0;34m(\u001b[0m\u001b[0;34m\"/content/gdrive/MyDrive/NIM project/Coding and Data/wuarun-7.nii\"\u001b[0m\u001b[0;34m,\u001b[0m \u001b[0mfwhm\u001b[0m\u001b[0;34m=\u001b[0m\u001b[0;36m3\u001b[0m\u001b[0;34m)\u001b[0m\u001b[0;34m\u001b[0m\u001b[0;34m\u001b[0m\u001b[0m\n\u001b[0;32m----> 2\u001b[0;31m \u001b[0mplotting\u001b[0m\u001b[0;34m.\u001b[0m\u001b[0mplot_img\u001b[0m\u001b[0;34m(\u001b[0m\u001b[0msmooth_anat_img\u001b[0m\u001b[0;34m)\u001b[0m\u001b[0;34m\u001b[0m\u001b[0;34m\u001b[0m\u001b[0m\n\u001b[0m",
            "\u001b[0;31mNameError\u001b[0m: name 'plotting' is not defined"
          ]
        }
      ]
    },
    {
      "cell_type": "code",
      "source": [
        "from nilearn import plotting\n",
        "plotting.plot_img(data)"
      ],
      "metadata": {
        "colab": {
          "base_uri": "https://localhost:8080/",
          "height": 371
        },
        "id": "6eFLjG3OFTwq",
        "outputId": "8515352f-2a91-4e20-917f-fd778fbabad5"
      },
      "execution_count": null,
      "outputs": [
        {
          "output_type": "error",
          "ename": "DimensionError",
          "evalue": "ignored",
          "traceback": [
            "\u001b[0;31m---------------------------------------------------------------------------\u001b[0m",
            "\u001b[0;31mDimensionError\u001b[0m                            Traceback (most recent call last)",
            "\u001b[0;32m<ipython-input-23-3546202861e2>\u001b[0m in \u001b[0;36m<module>\u001b[0;34m\u001b[0m\n\u001b[1;32m      1\u001b[0m \u001b[0;32mfrom\u001b[0m \u001b[0mnilearn\u001b[0m \u001b[0;32mimport\u001b[0m \u001b[0mplotting\u001b[0m\u001b[0;34m\u001b[0m\u001b[0;34m\u001b[0m\u001b[0m\n\u001b[0;32m----> 2\u001b[0;31m \u001b[0mplotting\u001b[0m\u001b[0;34m.\u001b[0m\u001b[0mplot_img\u001b[0m\u001b[0;34m(\u001b[0m\u001b[0mdata\u001b[0m\u001b[0;34m)\u001b[0m\u001b[0;34m\u001b[0m\u001b[0;34m\u001b[0m\u001b[0m\n\u001b[0m",
            "\u001b[0;32m/usr/local/lib/python3.8/dist-packages/nilearn/plotting/img_plotting.py\u001b[0m in \u001b[0;36mplot_img\u001b[0;34m(img, cut_coords, output_file, display_mode, figure, axes, title, threshold, annotate, draw_cross, black_bg, colorbar, cbar_tick_format, resampling_interpolation, bg_img, vmin, vmax, **kwargs)\u001b[0m\n\u001b[1;32m    262\u001b[0m \u001b[0;34m\u001b[0m\u001b[0m\n\u001b[1;32m    263\u001b[0m     \"\"\"  # noqa: E501\n\u001b[0;32m--> 264\u001b[0;31m     display = _plot_img_with_bg(\n\u001b[0m\u001b[1;32m    265\u001b[0m         \u001b[0mimg\u001b[0m\u001b[0;34m,\u001b[0m \u001b[0mcut_coords\u001b[0m\u001b[0;34m=\u001b[0m\u001b[0mcut_coords\u001b[0m\u001b[0;34m,\u001b[0m\u001b[0;34m\u001b[0m\u001b[0;34m\u001b[0m\u001b[0m\n\u001b[1;32m    266\u001b[0m         \u001b[0moutput_file\u001b[0m\u001b[0;34m=\u001b[0m\u001b[0moutput_file\u001b[0m\u001b[0;34m,\u001b[0m \u001b[0mdisplay_mode\u001b[0m\u001b[0;34m=\u001b[0m\u001b[0mdisplay_mode\u001b[0m\u001b[0;34m,\u001b[0m\u001b[0;34m\u001b[0m\u001b[0;34m\u001b[0m\u001b[0m\n",
            "\u001b[0;32m/usr/local/lib/python3.8/dist-packages/nilearn/plotting/img_plotting.py\u001b[0m in \u001b[0;36m_plot_img_with_bg\u001b[0;34m(img, bg_img, cut_coords, output_file, display_mode, colorbar, figure, axes, title, threshold, annotate, draw_cross, black_bg, vmin, vmax, bg_vmin, bg_vmax, interpolation, display_factory, cbar_vmin, cbar_vmax, cbar_tick_format, brain_color, decimals, **kwargs)\u001b[0m\n\u001b[1;32m    168\u001b[0m \u001b[0;34m\u001b[0m\u001b[0m\n\u001b[1;32m    169\u001b[0m     \u001b[0;32mif\u001b[0m \u001b[0mimg\u001b[0m \u001b[0;32mis\u001b[0m \u001b[0;32mnot\u001b[0m \u001b[0;32mFalse\u001b[0m \u001b[0;32mand\u001b[0m \u001b[0mimg\u001b[0m \u001b[0;32mis\u001b[0m \u001b[0;32mnot\u001b[0m \u001b[0;32mNone\u001b[0m\u001b[0;34m:\u001b[0m\u001b[0;34m\u001b[0m\u001b[0;34m\u001b[0m\u001b[0m\n\u001b[0;32m--> 170\u001b[0;31m         \u001b[0mimg\u001b[0m \u001b[0;34m=\u001b[0m \u001b[0m_utils\u001b[0m\u001b[0;34m.\u001b[0m\u001b[0mcheck_niimg_3d\u001b[0m\u001b[0;34m(\u001b[0m\u001b[0mimg\u001b[0m\u001b[0;34m,\u001b[0m \u001b[0mdtype\u001b[0m\u001b[0;34m=\u001b[0m\u001b[0;34m'auto'\u001b[0m\u001b[0;34m)\u001b[0m\u001b[0;34m\u001b[0m\u001b[0;34m\u001b[0m\u001b[0m\n\u001b[0m\u001b[1;32m    171\u001b[0m         \u001b[0mdata\u001b[0m \u001b[0;34m=\u001b[0m \u001b[0m_safe_get_data\u001b[0m\u001b[0;34m(\u001b[0m\u001b[0mimg\u001b[0m\u001b[0;34m,\u001b[0m \u001b[0mensure_finite\u001b[0m\u001b[0;34m=\u001b[0m\u001b[0;32mTrue\u001b[0m\u001b[0;34m)\u001b[0m\u001b[0;34m\u001b[0m\u001b[0;34m\u001b[0m\u001b[0m\n\u001b[1;32m    172\u001b[0m         \u001b[0maffine\u001b[0m \u001b[0;34m=\u001b[0m \u001b[0mimg\u001b[0m\u001b[0;34m.\u001b[0m\u001b[0maffine\u001b[0m\u001b[0;34m\u001b[0m\u001b[0;34m\u001b[0m\u001b[0m\n",
            "\u001b[0;32m/usr/local/lib/python3.8/dist-packages/nilearn/_utils/niimg_conversions.py\u001b[0m in \u001b[0;36mcheck_niimg_3d\u001b[0;34m(niimg, dtype)\u001b[0m\n\u001b[1;32m    339\u001b[0m \u001b[0;34m\u001b[0m\u001b[0m\n\u001b[1;32m    340\u001b[0m     \"\"\"\n\u001b[0;32m--> 341\u001b[0;31m     \u001b[0;32mreturn\u001b[0m \u001b[0mcheck_niimg\u001b[0m\u001b[0;34m(\u001b[0m\u001b[0mniimg\u001b[0m\u001b[0;34m,\u001b[0m \u001b[0mensure_ndim\u001b[0m\u001b[0;34m=\u001b[0m\u001b[0;36m3\u001b[0m\u001b[0;34m,\u001b[0m \u001b[0mdtype\u001b[0m\u001b[0;34m=\u001b[0m\u001b[0mdtype\u001b[0m\u001b[0;34m)\u001b[0m\u001b[0;34m\u001b[0m\u001b[0;34m\u001b[0m\u001b[0m\n\u001b[0m\u001b[1;32m    342\u001b[0m \u001b[0;34m\u001b[0m\u001b[0m\n\u001b[1;32m    343\u001b[0m \u001b[0;34m\u001b[0m\u001b[0m\n",
            "\u001b[0;32m/usr/local/lib/python3.8/dist-packages/nilearn/_utils/niimg_conversions.py\u001b[0m in \u001b[0;36mcheck_niimg\u001b[0;34m(niimg, ensure_ndim, atleast_4d, dtype, return_iterator, wildcards)\u001b[0m\n\u001b[1;32m    297\u001b[0m \u001b[0;34m\u001b[0m\u001b[0m\n\u001b[1;32m    298\u001b[0m     \u001b[0;32mif\u001b[0m \u001b[0mensure_ndim\u001b[0m \u001b[0;32mis\u001b[0m \u001b[0;32mnot\u001b[0m \u001b[0;32mNone\u001b[0m \u001b[0;32mand\u001b[0m \u001b[0mlen\u001b[0m\u001b[0;34m(\u001b[0m\u001b[0mniimg\u001b[0m\u001b[0;34m.\u001b[0m\u001b[0mshape\u001b[0m\u001b[0;34m)\u001b[0m \u001b[0;34m!=\u001b[0m \u001b[0mensure_ndim\u001b[0m\u001b[0;34m:\u001b[0m\u001b[0;34m\u001b[0m\u001b[0;34m\u001b[0m\u001b[0m\n\u001b[0;32m--> 299\u001b[0;31m         \u001b[0;32mraise\u001b[0m \u001b[0mDimensionError\u001b[0m\u001b[0;34m(\u001b[0m\u001b[0mlen\u001b[0m\u001b[0;34m(\u001b[0m\u001b[0mniimg\u001b[0m\u001b[0;34m.\u001b[0m\u001b[0mshape\u001b[0m\u001b[0;34m)\u001b[0m\u001b[0;34m,\u001b[0m \u001b[0mensure_ndim\u001b[0m\u001b[0;34m)\u001b[0m\u001b[0;34m\u001b[0m\u001b[0;34m\u001b[0m\u001b[0m\n\u001b[0m\u001b[1;32m    300\u001b[0m \u001b[0;34m\u001b[0m\u001b[0m\n\u001b[1;32m    301\u001b[0m     \u001b[0;32mif\u001b[0m \u001b[0mreturn_iterator\u001b[0m\u001b[0;34m:\u001b[0m\u001b[0;34m\u001b[0m\u001b[0;34m\u001b[0m\u001b[0m\n",
            "\u001b[0;31mDimensionError\u001b[0m: Input data has incompatible dimensionality: Expected dimension is 3D and you provided a 4D image. See https://nilearn.github.io/stable/manipulating_images/input_output.html."
          ]
        }
      ]
    },
    {
      "cell_type": "code",
      "source": [
        "d"
      ],
      "metadata": {
        "colab": {
          "base_uri": "https://localhost:8080/"
        },
        "id": "aFdEymVfYeWX",
        "outputId": "5dadc1a4-513c-4519-9e81-08b8ae9ba51d"
      },
      "execution_count": null,
      "outputs": [
        {
          "output_type": "execute_result",
          "data": {
            "text/plain": [
              "memmap([[[[0., 0., 0., ..., 0., 0., 0.],\n",
              "          [0., 0., 0., ..., 0., 0., 0.],\n",
              "          [0., 0., 0., ..., 0., 0., 0.],\n",
              "          ...,\n",
              "          [0., 0., 0., ..., 0., 0., 0.],\n",
              "          [0., 0., 0., ..., 0., 0., 0.],\n",
              "          [0., 0., 0., ..., 0., 0., 0.]],\n",
              "\n",
              "         [[0., 0., 0., ..., 0., 0., 0.],\n",
              "          [0., 0., 0., ..., 0., 0., 0.],\n",
              "          [0., 0., 0., ..., 0., 0., 0.],\n",
              "          ...,\n",
              "          [0., 0., 0., ..., 0., 0., 0.],\n",
              "          [0., 0., 0., ..., 0., 0., 0.],\n",
              "          [0., 0., 0., ..., 0., 0., 0.]],\n",
              "\n",
              "         [[0., 0., 0., ..., 0., 0., 0.],\n",
              "          [0., 0., 0., ..., 0., 0., 0.],\n",
              "          [0., 0., 0., ..., 0., 0., 0.],\n",
              "          ...,\n",
              "          [0., 0., 0., ..., 0., 0., 0.],\n",
              "          [0., 0., 0., ..., 0., 0., 0.],\n",
              "          [0., 0., 0., ..., 0., 0., 0.]],\n",
              "\n",
              "         ...,\n",
              "\n",
              "         [[0., 0., 0., ..., 0., 0., 0.],\n",
              "          [0., 0., 0., ..., 0., 0., 0.],\n",
              "          [1., 1., 1., ..., 1., 1., 1.],\n",
              "          ...,\n",
              "          [0., 0., 0., ..., 0., 0., 0.],\n",
              "          [0., 0., 0., ..., 0., 0., 0.],\n",
              "          [0., 0., 0., ..., 0., 0., 0.]],\n",
              "\n",
              "         [[0., 0., 0., ..., 0., 0., 0.],\n",
              "          [0., 0., 0., ..., 0., 0., 0.],\n",
              "          [2., 2., 2., ..., 2., 2., 2.],\n",
              "          ...,\n",
              "          [0., 0., 0., ..., 0., 0., 0.],\n",
              "          [0., 0., 0., ..., 0., 0., 0.],\n",
              "          [0., 0., 0., ..., 0., 0., 0.]],\n",
              "\n",
              "         [[0., 0., 0., ..., 0., 0., 0.],\n",
              "          [0., 0., 0., ..., 0., 0., 0.],\n",
              "          [1., 1., 1., ..., 1., 1., 1.],\n",
              "          ...,\n",
              "          [0., 0., 0., ..., 0., 0., 0.],\n",
              "          [0., 0., 0., ..., 0., 0., 0.],\n",
              "          [0., 0., 0., ..., 0., 0., 0.]]],\n",
              "\n",
              "\n",
              "        [[[0., 0., 0., ..., 0., 0., 0.],\n",
              "          [0., 0., 0., ..., 0., 0., 0.],\n",
              "          [0., 0., 0., ..., 0., 0., 0.],\n",
              "          ...,\n",
              "          [0., 0., 0., ..., 0., 0., 0.],\n",
              "          [0., 0., 0., ..., 0., 0., 0.],\n",
              "          [0., 0., 0., ..., 0., 0., 0.]],\n",
              "\n",
              "         [[0., 0., 0., ..., 0., 0., 0.],\n",
              "          [0., 0., 0., ..., 0., 0., 0.],\n",
              "          [0., 0., 0., ..., 0., 0., 0.],\n",
              "          ...,\n",
              "          [0., 0., 0., ..., 0., 0., 0.],\n",
              "          [0., 0., 0., ..., 0., 0., 0.],\n",
              "          [0., 0., 0., ..., 0., 0., 0.]],\n",
              "\n",
              "         [[0., 0., 0., ..., 0., 0., 0.],\n",
              "          [0., 0., 0., ..., 0., 0., 0.],\n",
              "          [0., 0., 0., ..., 0., 0., 0.],\n",
              "          ...,\n",
              "          [0., 0., 0., ..., 0., 0., 0.],\n",
              "          [0., 0., 0., ..., 0., 0., 0.],\n",
              "          [0., 0., 0., ..., 0., 0., 0.]],\n",
              "\n",
              "         ...,\n",
              "\n",
              "         [[0., 0., 0., ..., 0., 0., 0.],\n",
              "          [0., 0., 0., ..., 0., 0., 0.],\n",
              "          [1., 1., 1., ..., 1., 1., 1.],\n",
              "          ...,\n",
              "          [0., 0., 0., ..., 0., 0., 0.],\n",
              "          [0., 0., 0., ..., 0., 0., 0.],\n",
              "          [0., 0., 0., ..., 0., 0., 0.]],\n",
              "\n",
              "         [[0., 0., 0., ..., 0., 0., 0.],\n",
              "          [0., 0., 0., ..., 0., 0., 0.],\n",
              "          [2., 2., 1., ..., 1., 2., 1.],\n",
              "          ...,\n",
              "          [0., 0., 0., ..., 0., 0., 0.],\n",
              "          [0., 0., 0., ..., 0., 0., 0.],\n",
              "          [0., 0., 0., ..., 0., 0., 0.]],\n",
              "\n",
              "         [[0., 0., 0., ..., 0., 0., 0.],\n",
              "          [0., 0., 0., ..., 0., 0., 0.],\n",
              "          [1., 1., 1., ..., 1., 1., 1.],\n",
              "          ...,\n",
              "          [0., 0., 0., ..., 0., 0., 0.],\n",
              "          [0., 0., 0., ..., 0., 0., 0.],\n",
              "          [0., 0., 0., ..., 0., 0., 0.]]],\n",
              "\n",
              "\n",
              "        [[[0., 0., 0., ..., 0., 0., 0.],\n",
              "          [0., 0., 0., ..., 0., 0., 0.],\n",
              "          [0., 0., 0., ..., 0., 0., 0.],\n",
              "          ...,\n",
              "          [0., 0., 0., ..., 0., 0., 0.],\n",
              "          [0., 0., 0., ..., 0., 0., 0.],\n",
              "          [0., 0., 0., ..., 0., 0., 0.]],\n",
              "\n",
              "         [[0., 0., 0., ..., 0., 0., 0.],\n",
              "          [0., 0., 0., ..., 0., 0., 0.],\n",
              "          [0., 0., 0., ..., 0., 0., 0.],\n",
              "          ...,\n",
              "          [0., 0., 0., ..., 0., 0., 0.],\n",
              "          [0., 0., 0., ..., 0., 0., 0.],\n",
              "          [0., 0., 0., ..., 0., 0., 0.]],\n",
              "\n",
              "         [[0., 0., 0., ..., 0., 0., 0.],\n",
              "          [0., 0., 0., ..., 0., 0., 0.],\n",
              "          [0., 0., 0., ..., 0., 0., 0.],\n",
              "          ...,\n",
              "          [0., 0., 0., ..., 0., 0., 0.],\n",
              "          [0., 0., 0., ..., 0., 0., 0.],\n",
              "          [0., 0., 0., ..., 0., 0., 0.]],\n",
              "\n",
              "         ...,\n",
              "\n",
              "         [[0., 0., 0., ..., 0., 0., 0.],\n",
              "          [0., 0., 0., ..., 0., 0., 0.],\n",
              "          [1., 1., 1., ..., 1., 1., 0.],\n",
              "          ...,\n",
              "          [0., 0., 0., ..., 0., 0., 0.],\n",
              "          [0., 0., 0., ..., 0., 0., 0.],\n",
              "          [0., 0., 0., ..., 0., 0., 0.]],\n",
              "\n",
              "         [[0., 0., 0., ..., 0., 0., 0.],\n",
              "          [0., 0., 0., ..., 0., 0., 0.],\n",
              "          [1., 1., 1., ..., 1., 1., 1.],\n",
              "          ...,\n",
              "          [0., 0., 0., ..., 0., 0., 0.],\n",
              "          [0., 0., 0., ..., 0., 0., 0.],\n",
              "          [0., 0., 0., ..., 0., 0., 0.]],\n",
              "\n",
              "         [[0., 0., 0., ..., 0., 0., 0.],\n",
              "          [0., 0., 0., ..., 0., 0., 0.],\n",
              "          [1., 1., 1., ..., 1., 1., 1.],\n",
              "          ...,\n",
              "          [0., 0., 0., ..., 0., 0., 0.],\n",
              "          [0., 0., 0., ..., 0., 0., 0.],\n",
              "          [0., 0., 0., ..., 0., 0., 0.]]],\n",
              "\n",
              "\n",
              "        ...,\n",
              "\n",
              "\n",
              "        [[[0., 0., 0., ..., 0., 0., 0.],\n",
              "          [0., 0., 0., ..., 0., 0., 0.],\n",
              "          [0., 0., 0., ..., 0., 0., 0.],\n",
              "          ...,\n",
              "          [0., 0., 0., ..., 0., 0., 0.],\n",
              "          [0., 0., 0., ..., 0., 0., 0.],\n",
              "          [0., 0., 0., ..., 0., 0., 0.]],\n",
              "\n",
              "         [[0., 0., 0., ..., 0., 0., 0.],\n",
              "          [0., 0., 0., ..., 0., 0., 0.],\n",
              "          [0., 0., 0., ..., 0., 0., 0.],\n",
              "          ...,\n",
              "          [0., 0., 0., ..., 0., 0., 0.],\n",
              "          [0., 0., 0., ..., 0., 0., 0.],\n",
              "          [0., 0., 0., ..., 0., 0., 0.]],\n",
              "\n",
              "         [[0., 0., 0., ..., 0., 0., 0.],\n",
              "          [0., 0., 0., ..., 0., 0., 0.],\n",
              "          [0., 0., 0., ..., 0., 0., 0.],\n",
              "          ...,\n",
              "          [0., 0., 0., ..., 0., 0., 0.],\n",
              "          [0., 0., 0., ..., 0., 0., 0.],\n",
              "          [0., 0., 0., ..., 0., 0., 0.]],\n",
              "\n",
              "         ...,\n",
              "\n",
              "         [[0., 0., 0., ..., 0., 0., 0.],\n",
              "          [0., 0., 0., ..., 0., 0., 0.],\n",
              "          [0., 0., 0., ..., 0., 0., 0.],\n",
              "          ...,\n",
              "          [0., 0., 0., ..., 0., 0., 0.],\n",
              "          [0., 0., 0., ..., 0., 0., 0.],\n",
              "          [0., 0., 0., ..., 0., 0., 0.]],\n",
              "\n",
              "         [[0., 0., 0., ..., 0., 0., 0.],\n",
              "          [0., 0., 0., ..., 0., 0., 0.],\n",
              "          [0., 0., 0., ..., 0., 0., 0.],\n",
              "          ...,\n",
              "          [0., 0., 0., ..., 0., 0., 0.],\n",
              "          [0., 0., 0., ..., 0., 0., 0.],\n",
              "          [0., 0., 0., ..., 0., 0., 0.]],\n",
              "\n",
              "         [[0., 0., 0., ..., 0., 0., 0.],\n",
              "          [0., 0., 0., ..., 0., 0., 0.],\n",
              "          [0., 0., 0., ..., 0., 0., 0.],\n",
              "          ...,\n",
              "          [0., 0., 0., ..., 0., 0., 0.],\n",
              "          [0., 0., 0., ..., 0., 0., 0.],\n",
              "          [0., 0., 0., ..., 0., 0., 0.]]],\n",
              "\n",
              "\n",
              "        [[[0., 0., 0., ..., 0., 0., 0.],\n",
              "          [0., 0., 0., ..., 0., 0., 0.],\n",
              "          [0., 0., 0., ..., 0., 0., 0.],\n",
              "          ...,\n",
              "          [0., 0., 0., ..., 0., 0., 0.],\n",
              "          [0., 0., 0., ..., 0., 0., 0.],\n",
              "          [0., 0., 0., ..., 0., 0., 0.]],\n",
              "\n",
              "         [[0., 0., 0., ..., 0., 0., 0.],\n",
              "          [0., 0., 0., ..., 0., 0., 0.],\n",
              "          [0., 0., 0., ..., 0., 0., 0.],\n",
              "          ...,\n",
              "          [0., 0., 0., ..., 0., 0., 0.],\n",
              "          [0., 0., 0., ..., 0., 0., 0.],\n",
              "          [0., 0., 0., ..., 0., 0., 0.]],\n",
              "\n",
              "         [[0., 0., 0., ..., 0., 0., 0.],\n",
              "          [0., 0., 0., ..., 0., 0., 0.],\n",
              "          [0., 0., 0., ..., 0., 0., 0.],\n",
              "          ...,\n",
              "          [0., 0., 0., ..., 0., 0., 0.],\n",
              "          [0., 0., 0., ..., 0., 0., 0.],\n",
              "          [0., 0., 0., ..., 0., 0., 0.]],\n",
              "\n",
              "         ...,\n",
              "\n",
              "         [[0., 0., 0., ..., 0., 0., 0.],\n",
              "          [0., 0., 0., ..., 0., 0., 0.],\n",
              "          [0., 0., 0., ..., 0., 0., 0.],\n",
              "          ...,\n",
              "          [0., 0., 0., ..., 0., 0., 0.],\n",
              "          [0., 0., 0., ..., 0., 0., 0.],\n",
              "          [0., 0., 0., ..., 0., 0., 0.]],\n",
              "\n",
              "         [[0., 0., 0., ..., 0., 0., 0.],\n",
              "          [0., 0., 0., ..., 0., 0., 0.],\n",
              "          [0., 0., 0., ..., 0., 0., 0.],\n",
              "          ...,\n",
              "          [0., 0., 0., ..., 0., 0., 0.],\n",
              "          [0., 0., 0., ..., 0., 0., 0.],\n",
              "          [0., 0., 0., ..., 0., 0., 0.]],\n",
              "\n",
              "         [[0., 0., 0., ..., 0., 0., 0.],\n",
              "          [0., 0., 0., ..., 0., 0., 0.],\n",
              "          [0., 0., 0., ..., 0., 0., 0.],\n",
              "          ...,\n",
              "          [0., 0., 0., ..., 0., 0., 0.],\n",
              "          [0., 0., 0., ..., 0., 0., 0.],\n",
              "          [0., 0., 0., ..., 0., 0., 0.]]],\n",
              "\n",
              "\n",
              "        [[[0., 0., 0., ..., 0., 0., 0.],\n",
              "          [0., 0., 0., ..., 0., 0., 0.],\n",
              "          [0., 0., 0., ..., 0., 0., 0.],\n",
              "          ...,\n",
              "          [0., 0., 0., ..., 0., 0., 0.],\n",
              "          [0., 0., 0., ..., 0., 0., 0.],\n",
              "          [0., 0., 0., ..., 0., 0., 0.]],\n",
              "\n",
              "         [[0., 0., 0., ..., 0., 0., 0.],\n",
              "          [0., 0., 0., ..., 0., 0., 0.],\n",
              "          [0., 0., 0., ..., 0., 0., 0.],\n",
              "          ...,\n",
              "          [0., 0., 0., ..., 0., 0., 0.],\n",
              "          [0., 0., 0., ..., 0., 0., 0.],\n",
              "          [0., 0., 0., ..., 0., 0., 0.]],\n",
              "\n",
              "         [[0., 0., 0., ..., 0., 0., 0.],\n",
              "          [0., 0., 0., ..., 0., 0., 0.],\n",
              "          [0., 0., 0., ..., 0., 0., 0.],\n",
              "          ...,\n",
              "          [0., 0., 0., ..., 0., 0., 0.],\n",
              "          [0., 0., 0., ..., 0., 0., 0.],\n",
              "          [0., 0., 0., ..., 0., 0., 0.]],\n",
              "\n",
              "         ...,\n",
              "\n",
              "         [[0., 0., 0., ..., 0., 0., 0.],\n",
              "          [0., 0., 0., ..., 0., 0., 0.],\n",
              "          [0., 0., 0., ..., 0., 0., 0.],\n",
              "          ...,\n",
              "          [0., 0., 0., ..., 0., 0., 0.],\n",
              "          [0., 0., 0., ..., 0., 0., 0.],\n",
              "          [0., 0., 0., ..., 0., 0., 0.]],\n",
              "\n",
              "         [[0., 0., 0., ..., 0., 0., 0.],\n",
              "          [0., 0., 0., ..., 0., 0., 0.],\n",
              "          [0., 0., 0., ..., 0., 0., 0.],\n",
              "          ...,\n",
              "          [0., 0., 0., ..., 0., 0., 0.],\n",
              "          [0., 0., 0., ..., 0., 0., 0.],\n",
              "          [0., 0., 0., ..., 0., 0., 0.]],\n",
              "\n",
              "         [[0., 0., 0., ..., 0., 0., 0.],\n",
              "          [0., 0., 0., ..., 0., 0., 0.],\n",
              "          [0., 0., 0., ..., 0., 0., 0.],\n",
              "          ...,\n",
              "          [0., 0., 0., ..., 0., 0., 0.],\n",
              "          [0., 0., 0., ..., 0., 0., 0.],\n",
              "          [0., 0., 0., ..., 0., 0., 0.]]]])"
            ]
          },
          "metadata": {},
          "execution_count": 25
        }
      ]
    },
    {
      "cell_type": "code",
      "source": [
        "d[0][1][1]"
      ],
      "metadata": {
        "colab": {
          "base_uri": "https://localhost:8080/"
        },
        "id": "fJksS4OEYeY6",
        "outputId": "0b2d77b4-13b8-4b28-9e27-b95e6bb8db3a"
      },
      "execution_count": null,
      "outputs": [
        {
          "output_type": "execute_result",
          "data": {
            "text/plain": [
              "array([0., 0., 0., 0., 0., 0., 0., 0., 0., 0., 0., 0., 0., 0., 0., 0., 0.,\n",
              "       0., 0., 0., 0., 0., 0., 0., 0., 0., 0., 0., 0., 0., 0., 0., 0., 0.,\n",
              "       0., 0., 0., 0., 0., 0., 0., 0., 0., 0., 0., 0., 0., 0., 0., 0., 0.,\n",
              "       0., 0., 0., 0., 0., 0., 0., 0., 0., 0., 0., 0., 0., 0., 0., 0., 0.,\n",
              "       0., 0., 0., 0., 0., 0., 0., 0., 0., 0., 0., 0., 0., 0., 0., 0., 0.,\n",
              "       0., 0., 0., 0., 0., 0., 0., 0., 0., 0., 0., 0., 0., 0., 0., 0., 0.,\n",
              "       0., 0., 0., 0., 0., 0., 0., 0., 0., 0., 0., 0., 0., 0., 0., 0., 0.,\n",
              "       0., 0., 0., 0., 0., 0., 0., 0., 0., 0., 0., 0., 0., 0., 0., 0., 0.,\n",
              "       0., 0., 0., 0., 0., 0., 0., 0., 0., 0., 0., 0., 0., 0., 0., 0., 0.,\n",
              "       0., 0., 0., 0., 0., 0., 0., 0., 0., 0., 0., 0., 0., 0., 0., 0., 0.])"
            ]
          },
          "metadata": {},
          "execution_count": 26
        }
      ]
    },
    {
      "cell_type": "code",
      "source": [],
      "metadata": {
        "id": "IriLoi3hYedf"
      },
      "execution_count": null,
      "outputs": []
    },
    {
      "cell_type": "code",
      "source": [],
      "metadata": {
        "id": "aQTul8ZMxd2p"
      },
      "execution_count": null,
      "outputs": []
    },
    {
      "cell_type": "markdown",
      "source": [
        "# SAVING DATA"
      ],
      "metadata": {
        "id": "vJdl-3j0WDZi"
      }
    },
    {
      "cell_type": "code",
      "source": [
        "#NIM fMRI data analysis\n",
        "#Working with preprocessed data\n",
        "#Reading Nifti data of subjects into a dictionary\n",
        "\n",
        "def read_prep_data( sub ):\n",
        "\n",
        "    #reading the data from nifti files\n",
        "    rest1 = nib.load( \"/workspace3/data/nim_fmri_nemo/data/sub-00{}/wuarun-7.nii\".format(sub)).get_fdata()        \n",
        "    run1 = nib.load( \"/workspace3/data/nim_fmri_nemo/data/sub-00{}/wuarun-8.nii\".format(sub)).get_fdata()\n",
        "    run2 = nib.load( \"/workspace3/data/nim_fmri_nemo/data/sub-00{}/wuarun-9.nii\".format(sub)).get_fdata()\n",
        "    rest2 = nib.load( \"/workspace3/data/nim_fmri_nemo/data/sub-00{}/wuarun-10.nii\".format(sub)).get_fdata()\n",
        "\n",
        "    #reading specific mask files\n",
        "    path = '/workspace3/data/nim_fmri_nemo/data/sub-00{}/'.format(sub)\n",
        "    g_mask = 0\n",
        "    w_mask = 0\n",
        "    csf_mask = 0\n",
        "    for i in os.listdir(path):\n",
        "        if os.path.isfile(os.path.join(path,i)) and 'wc1art_mean_' in i:\n",
        "            g_mask=i \n",
        "        if os.path.isfile(os.path.join(path,i)) and 'wc2art_mean_' in i:\n",
        "            w_mask=i\n",
        "        if os.path.isfile(os.path.join(path,i)) and 'wc3art_mean_' in i:\n",
        "            csf_mask=i \n",
        "    \n",
        "    masks = [g_mask, w_mask, csf_mask]\n",
        "    intersected_maske = nl.masking.intersect_masks(masks, threshold=0.1, connected=True)\n",
        "    \n",
        "    #making a masker specific to the subject from its file\n",
        "    masker = NiftiMasker(mask_img= intersected_maske, standardize=True)\n",
        "    \n",
        "\n",
        "    # We give the masker a filename and retrieve a 2D array\n",
        "    rest1_masked = masker.fit_transform(rest1)\n",
        "    run1_masked = masker.fit_transform(run1)\n",
        "    run2_masked = masker.fit_transform(run2)\n",
        "    rest2_masked = masker.fit_transform(rest2)"
      ],
      "metadata": {
        "id": "8iri4fySL4Cz"
      },
      "execution_count": null,
      "outputs": []
    },
    {
      "cell_type": "code",
      "source": [],
      "metadata": {
        "id": "2-lanCC4MLFU"
      },
      "execution_count": null,
      "outputs": []
    },
    {
      "cell_type": "code",
      "source": [],
      "metadata": {
        "id": "9eL4rLZqMLJA"
      },
      "execution_count": null,
      "outputs": []
    },
    {
      "cell_type": "code",
      "source": [
        "#NIM fMRI data analysis\n",
        "#Working with preprocessed data\n",
        "#Reading Nifti data of subjects into a dictionary\n",
        "\n",
        "\n",
        "import nibabel as nib\n",
        "import numpy as np\n",
        "\n",
        "\n",
        "\n",
        "#we want to store our data from different folders to a single dictionary separated by subjects and sessions\n",
        "DATA = dict()\n",
        "\n",
        "for sub in range(0,9) :\n",
        "\n",
        "    rest1 = nib.load( \"workspace3/data/nim_fmri_nemo/data/sub-000{}/wuarun-7.nii\".format(sub+1)).get_fdata()\n",
        "    keys = 'subject{}_rest1'.format(sub+1)\n",
        "    DATA[keys] =  rest1\n",
        "\n",
        "    \n",
        "    run1 = nib.load( \"workspace3/data/nim_fmri_nemo/data/sub-000{}/wuarun-8.nii\".format(sub+1)).get_fdata()\n",
        "    keys = 'subject{}_run1'.format(sub+1)\n",
        "    DATA[keys] =  run1\n",
        "\n",
        "    run2 = nib.load( \"workspace3/data/nim_fmri_nemo/data/sub-000{}/wuarun-9.nii\".format(sub+1)).get_fdata()\n",
        "    keys = 'subject{}_run2'.format(sub+1)\n",
        "    DATA[keys] = run2\n",
        "\n",
        "\n",
        "    rest2 = nib.load( \"workspace3/data/nim_fmri_nemo/data/sub-000{}/wuarun-10.nii\".format(sub+1)).get_fdata()\n",
        "    keys = 'subject{}_rest2'.format(sub+1)\n",
        "    DATA[keys] =  rest2\n",
        "\n",
        "\n",
        "for sub in range(10,36):\n",
        "\n",
        "    if sub == 16 :\n",
        "\n",
        "        run1 = nib.load( \"workspace3/data/nim_fmri_nemo/data/sub-00{}/wuarun-8.nii\".format(sub)).get_fdata()\n",
        "        keys = 'subject{}_run1'.format(sub)\n",
        "        DATA[keys] =  run1\n",
        "\n",
        "        run2 = nib.load( \"workspace3/data/nim_fmri_nemo/data/sub-00{}/wuarun-9.nii\".format(sub)).get_fdata()\n",
        "        keys = 'subject{}_run2'.format(sub)\n",
        "        DATA[keys] = run2\n",
        "\n",
        "\n",
        "        rest2 = nib.load( \"workspace3/data/nim_fmri_nemo/data/sub-00{}/wuarun-10.nii\".format(sub)).get_fdata()\n",
        "        keys = 'subject{}_rest2'.format(sub)\n",
        "        DATA[keys] =  rest2\n",
        "\n",
        "    \n",
        "    else: \n",
        "  \n",
        "        rest1 = nib.load( \"workspace3/data/nim_fmri_nemo/data/sub-00{}/wuarun-7.nii\".format(sub)).get_fdata()\n",
        "        keys = 'subject{}_rest1'.format(sub)\n",
        "        DATA[keys] =  rest1\n",
        "\n",
        "        run1 = nib.load( \"workspace3/data/nim_fmri_nemo/data/sub-00{}/wuarun-8.nii\".format(sub)).get_fdata()\n",
        "        keys = 'subject{}_run1'.format(sub)\n",
        "        DATA[keys] =  run1\n",
        "\n",
        "        run2 = nib.load( \"workspace3/data/nim_fmri_nemo/data/sub-00{}/wuarun-9.nii\".format(sub)).get_fdata()\n",
        "        keys = 'subject{}_run2'.format(sub)\n",
        "        DATA[keys] = run2\n",
        "\n",
        "        rest2 = nib.load( \"workspace3/data/nim_fmri_nemo/data/sub-00{}/wuarun-10.nii\".format(sub)).get_fdata()\n",
        "        keys = 'subject{}_rest2'.format(sub)\n",
        "        DATA[keys] =  rest2\n",
        "\n",
        "\n",
        "try:\n",
        "    geeky_file = open('DATA_FILE.txt', 'wt')\n",
        "    geeky_file.write(str(DATA))\n",
        "    geeky_file.close()\n",
        "  \n",
        "except:\n",
        "    print(\"Unable to write to file\")\n",
        "\n",
        "\n",
        "\n",
        "\n",
        "\n",
        "\n",
        "\n",
        "\n",
        "\n",
        "\n",
        "\n"
      ],
      "metadata": {
        "id": "kv2Y1R-vxU05"
      },
      "execution_count": null,
      "outputs": []
    },
    {
      "cell_type": "code",
      "source": [],
      "metadata": {
        "id": "00OEu9YfWMPD"
      },
      "execution_count": null,
      "outputs": []
    },
    {
      "cell_type": "code",
      "source": [],
      "metadata": {
        "id": "8zBxzoG_WMSR"
      },
      "execution_count": null,
      "outputs": []
    },
    {
      "cell_type": "code",
      "source": [],
      "metadata": {
        "id": "hr2KEMI4WMVq"
      },
      "execution_count": null,
      "outputs": []
    },
    {
      "cell_type": "code",
      "source": [],
      "metadata": {
        "id": "VRjQ1OmmWMYj"
      },
      "execution_count": null,
      "outputs": []
    },
    {
      "cell_type": "code",
      "source": [
        "data = nib.load( \"/content/gdrive/MyDrive/NIM project/Coding and Data/wuarun-7.nii\")"
      ],
      "metadata": {
        "id": "mBzxeQUoWMbc"
      },
      "execution_count": null,
      "outputs": []
    },
    {
      "cell_type": "code",
      "source": [
        "rest1 = nib.load( \"/content/gdrive/MyDrive/NIM project/Coding and Data/wuarun-7.nii\").get_fdata()"
      ],
      "metadata": {
        "id": "j4rN-qRCWMeT"
      },
      "execution_count": null,
      "outputs": []
    },
    {
      "cell_type": "code",
      "source": [
        "rest1"
      ],
      "metadata": {
        "colab": {
          "base_uri": "https://localhost:8080/"
        },
        "id": "O7oZqoPtW7Rn",
        "outputId": "cd767113-ec54-4273-f0d8-76d5caf7af99"
      },
      "execution_count": null,
      "outputs": [
        {
          "output_type": "execute_result",
          "data": {
            "text/plain": [
              "memmap([[[[0., 0., 0., ..., 0., 0., 0.],\n",
              "          [0., 0., 0., ..., 0., 0., 0.],\n",
              "          [0., 0., 0., ..., 0., 0., 0.],\n",
              "          ...,\n",
              "          [0., 0., 0., ..., 0., 0., 0.],\n",
              "          [0., 0., 0., ..., 0., 0., 0.],\n",
              "          [0., 0., 0., ..., 0., 0., 0.]],\n",
              "\n",
              "         [[0., 0., 0., ..., 0., 0., 0.],\n",
              "          [0., 0., 0., ..., 0., 0., 0.],\n",
              "          [0., 0., 0., ..., 0., 0., 0.],\n",
              "          ...,\n",
              "          [0., 0., 0., ..., 0., 0., 0.],\n",
              "          [0., 0., 0., ..., 0., 0., 0.],\n",
              "          [0., 0., 0., ..., 0., 0., 0.]],\n",
              "\n",
              "         [[0., 0., 0., ..., 0., 0., 0.],\n",
              "          [0., 0., 0., ..., 0., 0., 0.],\n",
              "          [0., 0., 0., ..., 0., 0., 0.],\n",
              "          ...,\n",
              "          [0., 0., 0., ..., 0., 0., 0.],\n",
              "          [0., 0., 0., ..., 0., 0., 0.],\n",
              "          [0., 0., 0., ..., 0., 0., 0.]],\n",
              "\n",
              "         ...,\n",
              "\n",
              "         [[0., 0., 0., ..., 0., 0., 0.],\n",
              "          [0., 0., 0., ..., 0., 0., 0.],\n",
              "          [1., 1., 1., ..., 1., 1., 1.],\n",
              "          ...,\n",
              "          [0., 0., 0., ..., 0., 0., 0.],\n",
              "          [0., 0., 0., ..., 0., 0., 0.],\n",
              "          [0., 0., 0., ..., 0., 0., 0.]],\n",
              "\n",
              "         [[0., 0., 0., ..., 0., 0., 0.],\n",
              "          [0., 0., 0., ..., 0., 0., 0.],\n",
              "          [2., 2., 2., ..., 2., 2., 2.],\n",
              "          ...,\n",
              "          [0., 0., 0., ..., 0., 0., 0.],\n",
              "          [0., 0., 0., ..., 0., 0., 0.],\n",
              "          [0., 0., 0., ..., 0., 0., 0.]],\n",
              "\n",
              "         [[0., 0., 0., ..., 0., 0., 0.],\n",
              "          [0., 0., 0., ..., 0., 0., 0.],\n",
              "          [1., 1., 1., ..., 1., 1., 1.],\n",
              "          ...,\n",
              "          [0., 0., 0., ..., 0., 0., 0.],\n",
              "          [0., 0., 0., ..., 0., 0., 0.],\n",
              "          [0., 0., 0., ..., 0., 0., 0.]]],\n",
              "\n",
              "\n",
              "        [[[0., 0., 0., ..., 0., 0., 0.],\n",
              "          [0., 0., 0., ..., 0., 0., 0.],\n",
              "          [0., 0., 0., ..., 0., 0., 0.],\n",
              "          ...,\n",
              "          [0., 0., 0., ..., 0., 0., 0.],\n",
              "          [0., 0., 0., ..., 0., 0., 0.],\n",
              "          [0., 0., 0., ..., 0., 0., 0.]],\n",
              "\n",
              "         [[0., 0., 0., ..., 0., 0., 0.],\n",
              "          [0., 0., 0., ..., 0., 0., 0.],\n",
              "          [0., 0., 0., ..., 0., 0., 0.],\n",
              "          ...,\n",
              "          [0., 0., 0., ..., 0., 0., 0.],\n",
              "          [0., 0., 0., ..., 0., 0., 0.],\n",
              "          [0., 0., 0., ..., 0., 0., 0.]],\n",
              "\n",
              "         [[0., 0., 0., ..., 0., 0., 0.],\n",
              "          [0., 0., 0., ..., 0., 0., 0.],\n",
              "          [0., 0., 0., ..., 0., 0., 0.],\n",
              "          ...,\n",
              "          [0., 0., 0., ..., 0., 0., 0.],\n",
              "          [0., 0., 0., ..., 0., 0., 0.],\n",
              "          [0., 0., 0., ..., 0., 0., 0.]],\n",
              "\n",
              "         ...,\n",
              "\n",
              "         [[0., 0., 0., ..., 0., 0., 0.],\n",
              "          [0., 0., 0., ..., 0., 0., 0.],\n",
              "          [1., 1., 1., ..., 1., 1., 1.],\n",
              "          ...,\n",
              "          [0., 0., 0., ..., 0., 0., 0.],\n",
              "          [0., 0., 0., ..., 0., 0., 0.],\n",
              "          [0., 0., 0., ..., 0., 0., 0.]],\n",
              "\n",
              "         [[0., 0., 0., ..., 0., 0., 0.],\n",
              "          [0., 0., 0., ..., 0., 0., 0.],\n",
              "          [2., 2., 1., ..., 1., 2., 1.],\n",
              "          ...,\n",
              "          [0., 0., 0., ..., 0., 0., 0.],\n",
              "          [0., 0., 0., ..., 0., 0., 0.],\n",
              "          [0., 0., 0., ..., 0., 0., 0.]],\n",
              "\n",
              "         [[0., 0., 0., ..., 0., 0., 0.],\n",
              "          [0., 0., 0., ..., 0., 0., 0.],\n",
              "          [1., 1., 1., ..., 1., 1., 1.],\n",
              "          ...,\n",
              "          [0., 0., 0., ..., 0., 0., 0.],\n",
              "          [0., 0., 0., ..., 0., 0., 0.],\n",
              "          [0., 0., 0., ..., 0., 0., 0.]]],\n",
              "\n",
              "\n",
              "        [[[0., 0., 0., ..., 0., 0., 0.],\n",
              "          [0., 0., 0., ..., 0., 0., 0.],\n",
              "          [0., 0., 0., ..., 0., 0., 0.],\n",
              "          ...,\n",
              "          [0., 0., 0., ..., 0., 0., 0.],\n",
              "          [0., 0., 0., ..., 0., 0., 0.],\n",
              "          [0., 0., 0., ..., 0., 0., 0.]],\n",
              "\n",
              "         [[0., 0., 0., ..., 0., 0., 0.],\n",
              "          [0., 0., 0., ..., 0., 0., 0.],\n",
              "          [0., 0., 0., ..., 0., 0., 0.],\n",
              "          ...,\n",
              "          [0., 0., 0., ..., 0., 0., 0.],\n",
              "          [0., 0., 0., ..., 0., 0., 0.],\n",
              "          [0., 0., 0., ..., 0., 0., 0.]],\n",
              "\n",
              "         [[0., 0., 0., ..., 0., 0., 0.],\n",
              "          [0., 0., 0., ..., 0., 0., 0.],\n",
              "          [0., 0., 0., ..., 0., 0., 0.],\n",
              "          ...,\n",
              "          [0., 0., 0., ..., 0., 0., 0.],\n",
              "          [0., 0., 0., ..., 0., 0., 0.],\n",
              "          [0., 0., 0., ..., 0., 0., 0.]],\n",
              "\n",
              "         ...,\n",
              "\n",
              "         [[0., 0., 0., ..., 0., 0., 0.],\n",
              "          [0., 0., 0., ..., 0., 0., 0.],\n",
              "          [1., 1., 1., ..., 1., 1., 0.],\n",
              "          ...,\n",
              "          [0., 0., 0., ..., 0., 0., 0.],\n",
              "          [0., 0., 0., ..., 0., 0., 0.],\n",
              "          [0., 0., 0., ..., 0., 0., 0.]],\n",
              "\n",
              "         [[0., 0., 0., ..., 0., 0., 0.],\n",
              "          [0., 0., 0., ..., 0., 0., 0.],\n",
              "          [1., 1., 1., ..., 1., 1., 1.],\n",
              "          ...,\n",
              "          [0., 0., 0., ..., 0., 0., 0.],\n",
              "          [0., 0., 0., ..., 0., 0., 0.],\n",
              "          [0., 0., 0., ..., 0., 0., 0.]],\n",
              "\n",
              "         [[0., 0., 0., ..., 0., 0., 0.],\n",
              "          [0., 0., 0., ..., 0., 0., 0.],\n",
              "          [1., 1., 1., ..., 1., 1., 1.],\n",
              "          ...,\n",
              "          [0., 0., 0., ..., 0., 0., 0.],\n",
              "          [0., 0., 0., ..., 0., 0., 0.],\n",
              "          [0., 0., 0., ..., 0., 0., 0.]]],\n",
              "\n",
              "\n",
              "        ...,\n",
              "\n",
              "\n",
              "        [[[0., 0., 0., ..., 0., 0., 0.],\n",
              "          [0., 0., 0., ..., 0., 0., 0.],\n",
              "          [0., 0., 0., ..., 0., 0., 0.],\n",
              "          ...,\n",
              "          [0., 0., 0., ..., 0., 0., 0.],\n",
              "          [0., 0., 0., ..., 0., 0., 0.],\n",
              "          [0., 0., 0., ..., 0., 0., 0.]],\n",
              "\n",
              "         [[0., 0., 0., ..., 0., 0., 0.],\n",
              "          [0., 0., 0., ..., 0., 0., 0.],\n",
              "          [0., 0., 0., ..., 0., 0., 0.],\n",
              "          ...,\n",
              "          [0., 0., 0., ..., 0., 0., 0.],\n",
              "          [0., 0., 0., ..., 0., 0., 0.],\n",
              "          [0., 0., 0., ..., 0., 0., 0.]],\n",
              "\n",
              "         [[0., 0., 0., ..., 0., 0., 0.],\n",
              "          [0., 0., 0., ..., 0., 0., 0.],\n",
              "          [0., 0., 0., ..., 0., 0., 0.],\n",
              "          ...,\n",
              "          [0., 0., 0., ..., 0., 0., 0.],\n",
              "          [0., 0., 0., ..., 0., 0., 0.],\n",
              "          [0., 0., 0., ..., 0., 0., 0.]],\n",
              "\n",
              "         ...,\n",
              "\n",
              "         [[0., 0., 0., ..., 0., 0., 0.],\n",
              "          [0., 0., 0., ..., 0., 0., 0.],\n",
              "          [0., 0., 0., ..., 0., 0., 0.],\n",
              "          ...,\n",
              "          [0., 0., 0., ..., 0., 0., 0.],\n",
              "          [0., 0., 0., ..., 0., 0., 0.],\n",
              "          [0., 0., 0., ..., 0., 0., 0.]],\n",
              "\n",
              "         [[0., 0., 0., ..., 0., 0., 0.],\n",
              "          [0., 0., 0., ..., 0., 0., 0.],\n",
              "          [0., 0., 0., ..., 0., 0., 0.],\n",
              "          ...,\n",
              "          [0., 0., 0., ..., 0., 0., 0.],\n",
              "          [0., 0., 0., ..., 0., 0., 0.],\n",
              "          [0., 0., 0., ..., 0., 0., 0.]],\n",
              "\n",
              "         [[0., 0., 0., ..., 0., 0., 0.],\n",
              "          [0., 0., 0., ..., 0., 0., 0.],\n",
              "          [0., 0., 0., ..., 0., 0., 0.],\n",
              "          ...,\n",
              "          [0., 0., 0., ..., 0., 0., 0.],\n",
              "          [0., 0., 0., ..., 0., 0., 0.],\n",
              "          [0., 0., 0., ..., 0., 0., 0.]]],\n",
              "\n",
              "\n",
              "        [[[0., 0., 0., ..., 0., 0., 0.],\n",
              "          [0., 0., 0., ..., 0., 0., 0.],\n",
              "          [0., 0., 0., ..., 0., 0., 0.],\n",
              "          ...,\n",
              "          [0., 0., 0., ..., 0., 0., 0.],\n",
              "          [0., 0., 0., ..., 0., 0., 0.],\n",
              "          [0., 0., 0., ..., 0., 0., 0.]],\n",
              "\n",
              "         [[0., 0., 0., ..., 0., 0., 0.],\n",
              "          [0., 0., 0., ..., 0., 0., 0.],\n",
              "          [0., 0., 0., ..., 0., 0., 0.],\n",
              "          ...,\n",
              "          [0., 0., 0., ..., 0., 0., 0.],\n",
              "          [0., 0., 0., ..., 0., 0., 0.],\n",
              "          [0., 0., 0., ..., 0., 0., 0.]],\n",
              "\n",
              "         [[0., 0., 0., ..., 0., 0., 0.],\n",
              "          [0., 0., 0., ..., 0., 0., 0.],\n",
              "          [0., 0., 0., ..., 0., 0., 0.],\n",
              "          ...,\n",
              "          [0., 0., 0., ..., 0., 0., 0.],\n",
              "          [0., 0., 0., ..., 0., 0., 0.],\n",
              "          [0., 0., 0., ..., 0., 0., 0.]],\n",
              "\n",
              "         ...,\n",
              "\n",
              "         [[0., 0., 0., ..., 0., 0., 0.],\n",
              "          [0., 0., 0., ..., 0., 0., 0.],\n",
              "          [0., 0., 0., ..., 0., 0., 0.],\n",
              "          ...,\n",
              "          [0., 0., 0., ..., 0., 0., 0.],\n",
              "          [0., 0., 0., ..., 0., 0., 0.],\n",
              "          [0., 0., 0., ..., 0., 0., 0.]],\n",
              "\n",
              "         [[0., 0., 0., ..., 0., 0., 0.],\n",
              "          [0., 0., 0., ..., 0., 0., 0.],\n",
              "          [0., 0., 0., ..., 0., 0., 0.],\n",
              "          ...,\n",
              "          [0., 0., 0., ..., 0., 0., 0.],\n",
              "          [0., 0., 0., ..., 0., 0., 0.],\n",
              "          [0., 0., 0., ..., 0., 0., 0.]],\n",
              "\n",
              "         [[0., 0., 0., ..., 0., 0., 0.],\n",
              "          [0., 0., 0., ..., 0., 0., 0.],\n",
              "          [0., 0., 0., ..., 0., 0., 0.],\n",
              "          ...,\n",
              "          [0., 0., 0., ..., 0., 0., 0.],\n",
              "          [0., 0., 0., ..., 0., 0., 0.],\n",
              "          [0., 0., 0., ..., 0., 0., 0.]]],\n",
              "\n",
              "\n",
              "        [[[0., 0., 0., ..., 0., 0., 0.],\n",
              "          [0., 0., 0., ..., 0., 0., 0.],\n",
              "          [0., 0., 0., ..., 0., 0., 0.],\n",
              "          ...,\n",
              "          [0., 0., 0., ..., 0., 0., 0.],\n",
              "          [0., 0., 0., ..., 0., 0., 0.],\n",
              "          [0., 0., 0., ..., 0., 0., 0.]],\n",
              "\n",
              "         [[0., 0., 0., ..., 0., 0., 0.],\n",
              "          [0., 0., 0., ..., 0., 0., 0.],\n",
              "          [0., 0., 0., ..., 0., 0., 0.],\n",
              "          ...,\n",
              "          [0., 0., 0., ..., 0., 0., 0.],\n",
              "          [0., 0., 0., ..., 0., 0., 0.],\n",
              "          [0., 0., 0., ..., 0., 0., 0.]],\n",
              "\n",
              "         [[0., 0., 0., ..., 0., 0., 0.],\n",
              "          [0., 0., 0., ..., 0., 0., 0.],\n",
              "          [0., 0., 0., ..., 0., 0., 0.],\n",
              "          ...,\n",
              "          [0., 0., 0., ..., 0., 0., 0.],\n",
              "          [0., 0., 0., ..., 0., 0., 0.],\n",
              "          [0., 0., 0., ..., 0., 0., 0.]],\n",
              "\n",
              "         ...,\n",
              "\n",
              "         [[0., 0., 0., ..., 0., 0., 0.],\n",
              "          [0., 0., 0., ..., 0., 0., 0.],\n",
              "          [0., 0., 0., ..., 0., 0., 0.],\n",
              "          ...,\n",
              "          [0., 0., 0., ..., 0., 0., 0.],\n",
              "          [0., 0., 0., ..., 0., 0., 0.],\n",
              "          [0., 0., 0., ..., 0., 0., 0.]],\n",
              "\n",
              "         [[0., 0., 0., ..., 0., 0., 0.],\n",
              "          [0., 0., 0., ..., 0., 0., 0.],\n",
              "          [0., 0., 0., ..., 0., 0., 0.],\n",
              "          ...,\n",
              "          [0., 0., 0., ..., 0., 0., 0.],\n",
              "          [0., 0., 0., ..., 0., 0., 0.],\n",
              "          [0., 0., 0., ..., 0., 0., 0.]],\n",
              "\n",
              "         [[0., 0., 0., ..., 0., 0., 0.],\n",
              "          [0., 0., 0., ..., 0., 0., 0.],\n",
              "          [0., 0., 0., ..., 0., 0., 0.],\n",
              "          ...,\n",
              "          [0., 0., 0., ..., 0., 0., 0.],\n",
              "          [0., 0., 0., ..., 0., 0., 0.],\n",
              "          [0., 0., 0., ..., 0., 0., 0.]]]])"
            ]
          },
          "metadata": {},
          "execution_count": 26
        }
      ]
    },
    {
      "cell_type": "code",
      "source": [],
      "metadata": {
        "id": "RQ0bYrIe4onL"
      },
      "execution_count": null,
      "outputs": []
    },
    {
      "cell_type": "markdown",
      "source": [
        "# to dolist:"
      ],
      "metadata": {
        "id": "e_69z4vq4o2R"
      }
    },
    {
      "cell_type": "code",
      "source": [
        "#mask and unmask, > regressout, filter, detrend\n",
        "# search states finding/\n",
        "# mask network/"
      ],
      "metadata": {
        "id": "WzpJZBCV4qnT"
      },
      "execution_count": null,
      "outputs": []
    },
    {
      "cell_type": "code",
      "source": [],
      "metadata": {
        "id": "OyIKHZm9xaCO"
      },
      "execution_count": null,
      "outputs": []
    },
    {
      "cell_type": "code",
      "source": [],
      "metadata": {
        "id": "hpCB_pnUxaNR"
      },
      "execution_count": null,
      "outputs": []
    },
    {
      "cell_type": "markdown",
      "source": [
        "# Basic codes for regress out process:\n",
        "\n",
        "$ raw - Data = \\beta \\quad MEAN(CSF-SIGNALS)+ \\beta \\quad MEAN(WHITE-MATTER-SIGNALS) + \\beta (MOTHIONS) + \\epsilon $"
      ],
      "metadata": {
        "id": "efkuvJ45u_b_"
      }
    },
    {
      "cell_type": "code",
      "source": [
        "# from google.colab import drive\n",
        "# drive.mount('/content/gdrive')\n",
        "\n",
        "# # MOTION = open(\"/content/gdrive/MyDrive/NIM project/rp_arun-7.txt\", \"r\")\n",
        "# # # print(MOTION.readline())"
      ],
      "metadata": {
        "id": "sedpZSKpxaW_"
      },
      "execution_count": null,
      "outputs": []
    },
    {
      "cell_type": "code",
      "source": [
        "# import numpy as np\n",
        "\n",
        "# import pandas as pd\n",
        "\n",
        "# read_file = pd.read_csv (r'/content/gdrive/MyDrive/NIM project/rp_arun-7.txt')\n",
        "# read_file.to_csv (r'/content/gdrive/MyDrive/NIM project/rp_arun-7.csv',)#, header= np.array(['index','x','y','z','r1','r2','r3']))\n",
        "\n",
        "# rp = pd.read_csv('/content/gdrive/MyDrive/NIM project/rp_arun-7.csv')\n",
        "# rp"
      ],
      "metadata": {
        "id": "MdT5xK4j5351"
      },
      "execution_count": null,
      "outputs": []
    },
    {
      "cell_type": "code",
      "source": [
        "# import re\n",
        "# with open('/content/gdrive/MyDrive/NIM project/rp_arun-7.txt', 'r') as reader:\n",
        "#     text = reader.read()\n",
        "\n",
        "\n",
        "# text = re.sub(r\"(...)\\n\", r\"\\1,\", text)\n",
        "# print(text)\n",
        "\n",
        "# with open('/content/gdrive/MyDrive/NIM project/output.csv', 'w') as writer:\n",
        "#     writer.write(text)"
      ],
      "metadata": {
        "id": "n_HHR6br_Jms"
      },
      "execution_count": null,
      "outputs": []
    },
    {
      "cell_type": "code",
      "source": [],
      "metadata": {
        "id": "FtvEbYLEAcwi"
      },
      "execution_count": null,
      "outputs": []
    },
    {
      "cell_type": "code",
      "source": [
        "\n",
        "\n",
        "# MOTION = open(\"/content/gdrive/MyDrive/NIM project/rp_arun-7.txt\", \"r\")\n",
        "# # print(MOTION.readline())\n",
        "# # MOTION.readlines()\n",
        "# line = MOTION.readlines()\n",
        "# # np.array(line)\n",
        "# line\n",
        "\n",
        "# /content/gdrive/MyDrive/NIM project/Coding and Data/wuarun-7.nii"
      ],
      "metadata": {
        "id": "QH28ND8k4l_V"
      },
      "execution_count": null,
      "outputs": []
    },
    {
      "cell_type": "code",
      "source": [
        "## SUBJECT1: REST1 MOTIONS\n",
        "\n",
        "import pandas as pd\n",
        "df = pd.read_csv('/content/gdrive/MyDrive/NIM project/Coding and Data/rp_arun-7.txt', sep='  ', header=None)\n",
        "df.to_csv('/content/gdrive/MyDrive/NIM project/Coding and Data/rp_arun-7.csv', index = None)\n",
        "MOTION = pd.read_csv('/content/gdrive/MyDrive/NIM project/Coding and Data/rp_arun-7.csv')\n",
        "MOTION\n",
        "\n",
        "\n",
        "# MOTION.mean(axis=1).values\n",
        "# MOTION"
      ],
      "metadata": {
        "colab": {
          "base_uri": "https://localhost:8080/",
          "height": 479
        },
        "id": "j4ryRAxAIS6L",
        "outputId": "35fcea02-b8a0-49df-cdcd-4cdea0b50f5e"
      },
      "execution_count": null,
      "outputs": [
        {
          "output_type": "stream",
          "name": "stderr",
          "text": [
            "/usr/local/lib/python3.8/dist-packages/pandas/util/_decorators.py:311: ParserWarning: Falling back to the 'python' engine because the 'c' engine does not support regex separators (separators > 1 char and different from '\\s+' are interpreted as regex); you can avoid this warning by specifying engine='python'.\n",
            "  return func(*args, **kwargs)\n"
          ]
        },
        {
          "output_type": "execute_result",
          "data": {
            "text/plain": [
              "            0         1         2         3         4             5\n",
              "0    0.000000  0.000000  0.000000  0.000000  0.000000  3.469447e-18\n",
              "1    0.014500  0.026648  0.010054 -0.000630 -0.000380 -7.348740e-04\n",
              "2    0.048873  0.100446 -0.055368 -0.001894 -0.001780 -2.340917e-03\n",
              "3    0.039873  0.053698 -0.007910 -0.000834 -0.001911 -1.662654e-03\n",
              "4    0.163431  0.209873 -0.059421 -0.006157 -0.004045 -9.816655e-04\n",
              "..        ...       ...       ...       ...       ...           ...\n",
              "165  0.522421 -0.343082 -0.155064  0.002099 -0.012165 -5.348210e-03\n",
              "166  0.539474 -0.320077 -0.170879  0.001325 -0.012265 -5.043622e-03\n",
              "167  0.556200 -0.282587 -0.184113  0.000544 -0.012411 -5.311678e-03\n",
              "168  0.546208 -0.264628 -0.175430  0.000705 -0.012355 -5.239052e-03\n",
              "169  0.548999 -0.286717 -0.191115  0.000419 -0.012560 -4.964014e-03\n",
              "\n",
              "[170 rows x 6 columns]"
            ],
            "text/html": [
              "\n",
              "  <div id=\"df-bd46cc3f-2117-4520-9f7e-fc1bf1b88901\">\n",
              "    <div class=\"colab-df-container\">\n",
              "      <div>\n",
              "<style scoped>\n",
              "    .dataframe tbody tr th:only-of-type {\n",
              "        vertical-align: middle;\n",
              "    }\n",
              "\n",
              "    .dataframe tbody tr th {\n",
              "        vertical-align: top;\n",
              "    }\n",
              "\n",
              "    .dataframe thead th {\n",
              "        text-align: right;\n",
              "    }\n",
              "</style>\n",
              "<table border=\"1\" class=\"dataframe\">\n",
              "  <thead>\n",
              "    <tr style=\"text-align: right;\">\n",
              "      <th></th>\n",
              "      <th>0</th>\n",
              "      <th>1</th>\n",
              "      <th>2</th>\n",
              "      <th>3</th>\n",
              "      <th>4</th>\n",
              "      <th>5</th>\n",
              "    </tr>\n",
              "  </thead>\n",
              "  <tbody>\n",
              "    <tr>\n",
              "      <th>0</th>\n",
              "      <td>0.000000</td>\n",
              "      <td>0.000000</td>\n",
              "      <td>0.000000</td>\n",
              "      <td>0.000000</td>\n",
              "      <td>0.000000</td>\n",
              "      <td>3.469447e-18</td>\n",
              "    </tr>\n",
              "    <tr>\n",
              "      <th>1</th>\n",
              "      <td>0.014500</td>\n",
              "      <td>0.026648</td>\n",
              "      <td>0.010054</td>\n",
              "      <td>-0.000630</td>\n",
              "      <td>-0.000380</td>\n",
              "      <td>-7.348740e-04</td>\n",
              "    </tr>\n",
              "    <tr>\n",
              "      <th>2</th>\n",
              "      <td>0.048873</td>\n",
              "      <td>0.100446</td>\n",
              "      <td>-0.055368</td>\n",
              "      <td>-0.001894</td>\n",
              "      <td>-0.001780</td>\n",
              "      <td>-2.340917e-03</td>\n",
              "    </tr>\n",
              "    <tr>\n",
              "      <th>3</th>\n",
              "      <td>0.039873</td>\n",
              "      <td>0.053698</td>\n",
              "      <td>-0.007910</td>\n",
              "      <td>-0.000834</td>\n",
              "      <td>-0.001911</td>\n",
              "      <td>-1.662654e-03</td>\n",
              "    </tr>\n",
              "    <tr>\n",
              "      <th>4</th>\n",
              "      <td>0.163431</td>\n",
              "      <td>0.209873</td>\n",
              "      <td>-0.059421</td>\n",
              "      <td>-0.006157</td>\n",
              "      <td>-0.004045</td>\n",
              "      <td>-9.816655e-04</td>\n",
              "    </tr>\n",
              "    <tr>\n",
              "      <th>...</th>\n",
              "      <td>...</td>\n",
              "      <td>...</td>\n",
              "      <td>...</td>\n",
              "      <td>...</td>\n",
              "      <td>...</td>\n",
              "      <td>...</td>\n",
              "    </tr>\n",
              "    <tr>\n",
              "      <th>165</th>\n",
              "      <td>0.522421</td>\n",
              "      <td>-0.343082</td>\n",
              "      <td>-0.155064</td>\n",
              "      <td>0.002099</td>\n",
              "      <td>-0.012165</td>\n",
              "      <td>-5.348210e-03</td>\n",
              "    </tr>\n",
              "    <tr>\n",
              "      <th>166</th>\n",
              "      <td>0.539474</td>\n",
              "      <td>-0.320077</td>\n",
              "      <td>-0.170879</td>\n",
              "      <td>0.001325</td>\n",
              "      <td>-0.012265</td>\n",
              "      <td>-5.043622e-03</td>\n",
              "    </tr>\n",
              "    <tr>\n",
              "      <th>167</th>\n",
              "      <td>0.556200</td>\n",
              "      <td>-0.282587</td>\n",
              "      <td>-0.184113</td>\n",
              "      <td>0.000544</td>\n",
              "      <td>-0.012411</td>\n",
              "      <td>-5.311678e-03</td>\n",
              "    </tr>\n",
              "    <tr>\n",
              "      <th>168</th>\n",
              "      <td>0.546208</td>\n",
              "      <td>-0.264628</td>\n",
              "      <td>-0.175430</td>\n",
              "      <td>0.000705</td>\n",
              "      <td>-0.012355</td>\n",
              "      <td>-5.239052e-03</td>\n",
              "    </tr>\n",
              "    <tr>\n",
              "      <th>169</th>\n",
              "      <td>0.548999</td>\n",
              "      <td>-0.286717</td>\n",
              "      <td>-0.191115</td>\n",
              "      <td>0.000419</td>\n",
              "      <td>-0.012560</td>\n",
              "      <td>-4.964014e-03</td>\n",
              "    </tr>\n",
              "  </tbody>\n",
              "</table>\n",
              "<p>170 rows × 6 columns</p>\n",
              "</div>\n",
              "      <button class=\"colab-df-convert\" onclick=\"convertToInteractive('df-bd46cc3f-2117-4520-9f7e-fc1bf1b88901')\"\n",
              "              title=\"Convert this dataframe to an interactive table.\"\n",
              "              style=\"display:none;\">\n",
              "        \n",
              "  <svg xmlns=\"http://www.w3.org/2000/svg\" height=\"24px\"viewBox=\"0 0 24 24\"\n",
              "       width=\"24px\">\n",
              "    <path d=\"M0 0h24v24H0V0z\" fill=\"none\"/>\n",
              "    <path d=\"M18.56 5.44l.94 2.06.94-2.06 2.06-.94-2.06-.94-.94-2.06-.94 2.06-2.06.94zm-11 1L8.5 8.5l.94-2.06 2.06-.94-2.06-.94L8.5 2.5l-.94 2.06-2.06.94zm10 10l.94 2.06.94-2.06 2.06-.94-2.06-.94-.94-2.06-.94 2.06-2.06.94z\"/><path d=\"M17.41 7.96l-1.37-1.37c-.4-.4-.92-.59-1.43-.59-.52 0-1.04.2-1.43.59L10.3 9.45l-7.72 7.72c-.78.78-.78 2.05 0 2.83L4 21.41c.39.39.9.59 1.41.59.51 0 1.02-.2 1.41-.59l7.78-7.78 2.81-2.81c.8-.78.8-2.07 0-2.86zM5.41 20L4 18.59l7.72-7.72 1.47 1.35L5.41 20z\"/>\n",
              "  </svg>\n",
              "      </button>\n",
              "      \n",
              "  <style>\n",
              "    .colab-df-container {\n",
              "      display:flex;\n",
              "      flex-wrap:wrap;\n",
              "      gap: 12px;\n",
              "    }\n",
              "\n",
              "    .colab-df-convert {\n",
              "      background-color: #E8F0FE;\n",
              "      border: none;\n",
              "      border-radius: 50%;\n",
              "      cursor: pointer;\n",
              "      display: none;\n",
              "      fill: #1967D2;\n",
              "      height: 32px;\n",
              "      padding: 0 0 0 0;\n",
              "      width: 32px;\n",
              "    }\n",
              "\n",
              "    .colab-df-convert:hover {\n",
              "      background-color: #E2EBFA;\n",
              "      box-shadow: 0px 1px 2px rgba(60, 64, 67, 0.3), 0px 1px 3px 1px rgba(60, 64, 67, 0.15);\n",
              "      fill: #174EA6;\n",
              "    }\n",
              "\n",
              "    [theme=dark] .colab-df-convert {\n",
              "      background-color: #3B4455;\n",
              "      fill: #D2E3FC;\n",
              "    }\n",
              "\n",
              "    [theme=dark] .colab-df-convert:hover {\n",
              "      background-color: #434B5C;\n",
              "      box-shadow: 0px 1px 3px 1px rgba(0, 0, 0, 0.15);\n",
              "      filter: drop-shadow(0px 1px 2px rgba(0, 0, 0, 0.3));\n",
              "      fill: #FFFFFF;\n",
              "    }\n",
              "  </style>\n",
              "\n",
              "      <script>\n",
              "        const buttonEl =\n",
              "          document.querySelector('#df-bd46cc3f-2117-4520-9f7e-fc1bf1b88901 button.colab-df-convert');\n",
              "        buttonEl.style.display =\n",
              "          google.colab.kernel.accessAllowed ? 'block' : 'none';\n",
              "\n",
              "        async function convertToInteractive(key) {\n",
              "          const element = document.querySelector('#df-bd46cc3f-2117-4520-9f7e-fc1bf1b88901');\n",
              "          const dataTable =\n",
              "            await google.colab.kernel.invokeFunction('convertToInteractive',\n",
              "                                                     [key], {});\n",
              "          if (!dataTable) return;\n",
              "\n",
              "          const docLinkHtml = 'Like what you see? Visit the ' +\n",
              "            '<a target=\"_blank\" href=https://colab.research.google.com/notebooks/data_table.ipynb>data table notebook</a>'\n",
              "            + ' to learn more about interactive tables.';\n",
              "          element.innerHTML = '';\n",
              "          dataTable['output_type'] = 'display_data';\n",
              "          await google.colab.output.renderOutput(dataTable, element);\n",
              "          const docLink = document.createElement('div');\n",
              "          docLink.innerHTML = docLinkHtml;\n",
              "          element.appendChild(docLink);\n",
              "        }\n",
              "      </script>\n",
              "    </div>\n",
              "  </div>\n",
              "  "
            ]
          },
          "metadata": {},
          "execution_count": 12
        }
      ]
    },
    {
      "cell_type": "code",
      "source": [
        "\n",
        "len(d[2,:,:,:])#-MOTION.mean(axis=1).values)\n"
      ],
      "metadata": {
        "colab": {
          "base_uri": "https://localhost:8080/"
        },
        "id": "rzz9P8epo03v",
        "outputId": "2d878534-f0fb-4f4d-a327-77ed3aa18dd0"
      },
      "execution_count": null,
      "outputs": [
        {
          "output_type": "execute_result",
          "data": {
            "text/plain": [
              "73"
            ]
          },
          "metadata": {},
          "execution_count": 33
        }
      ]
    },
    {
      "cell_type": "code",
      "source": [
        "# # len(V2)\n",
        "\n",
        "# # # len(MOTION)\n",
        "# # V2\n",
        "# V2.shape\n",
        "# len(d[i,j,k,:]-V2*beta)"
      ],
      "metadata": {
        "id": "FYGxy61GgUKU"
      },
      "execution_count": null,
      "outputs": []
    },
    {
      "cell_type": "code",
      "source": [
        "d.shape"
      ],
      "metadata": {
        "colab": {
          "base_uri": "https://localhost:8080/"
        },
        "id": "B2ozSvttd6tV",
        "outputId": "954fa728-d246-4558-dc7c-46370342e216"
      },
      "execution_count": null,
      "outputs": [
        {
          "output_type": "execute_result",
          "data": {
            "text/plain": [
              "(61, 73, 61, 170)"
            ]
          },
          "metadata": {},
          "execution_count": 80
        }
      ]
    },
    {
      "cell_type": "code",
      "source": [
        "\n",
        "D = d.copy()\n",
        "type(d)\n",
        "# np.memmap\n",
        "d\n"
      ],
      "metadata": {
        "id": "iC2yhmMpjlEl",
        "colab": {
          "base_uri": "https://localhost:8080/"
        },
        "outputId": "85a7575d-fd7a-485f-fafa-b5ca9916c24a"
      },
      "execution_count": null,
      "outputs": [
        {
          "output_type": "execute_result",
          "data": {
            "text/plain": [
              "memmap([[[[0.        , 0.        , 0.        , ..., 0.        ,\n",
              "           0.        , 0.        ],\n",
              "          [0.        , 0.        , 0.        , ..., 0.        ,\n",
              "           0.        , 0.        ],\n",
              "          [0.        , 0.        , 0.        , ..., 0.        ,\n",
              "           0.        , 0.        ],\n",
              "          ...,\n",
              "          [0.        , 0.        , 0.        , ..., 0.        ,\n",
              "           0.        , 0.        ],\n",
              "          [0.        , 0.        , 0.        , ..., 0.        ,\n",
              "           0.        , 0.        ],\n",
              "          [0.        , 0.        , 0.        , ..., 0.        ,\n",
              "           0.        , 0.        ]],\n",
              "\n",
              "         [[0.        , 0.        , 0.        , ..., 0.        ,\n",
              "           0.        , 0.        ],\n",
              "          [0.        , 0.        , 0.        , ..., 0.        ,\n",
              "           0.        , 0.        ],\n",
              "          [0.        , 0.        , 0.        , ..., 0.        ,\n",
              "           0.        , 0.        ],\n",
              "          ...,\n",
              "          [0.        , 0.        , 0.        , ..., 0.        ,\n",
              "           0.        , 0.        ],\n",
              "          [0.        , 0.        , 0.        , ..., 0.        ,\n",
              "           0.        , 0.        ],\n",
              "          [0.        , 0.        , 0.        , ..., 0.        ,\n",
              "           0.        , 0.        ]],\n",
              "\n",
              "         [[0.        , 0.        , 0.        , ..., 0.        ,\n",
              "           0.        , 0.        ],\n",
              "          [0.        , 0.        , 0.        , ..., 0.        ,\n",
              "           0.        , 0.        ],\n",
              "          [0.        , 0.        , 0.        , ..., 0.        ,\n",
              "           0.        , 0.        ],\n",
              "          ...,\n",
              "          [0.        , 0.        , 0.        , ..., 0.        ,\n",
              "           0.        , 0.        ],\n",
              "          [0.        , 0.        , 0.        , ..., 0.        ,\n",
              "           0.        , 0.        ],\n",
              "          [0.        , 0.        , 0.        , ..., 0.        ,\n",
              "           0.        , 0.        ]],\n",
              "\n",
              "         ...,\n",
              "\n",
              "         [[0.        , 0.        , 0.        , ..., 0.        ,\n",
              "           0.        , 0.        ],\n",
              "          [0.        , 0.        , 0.        , ..., 0.        ,\n",
              "           0.        , 0.        ],\n",
              "          [1.        , 1.        , 1.        , ..., 1.        ,\n",
              "           1.        , 1.        ],\n",
              "          ...,\n",
              "          [0.        , 0.        , 0.        , ..., 0.        ,\n",
              "           0.        , 0.        ],\n",
              "          [0.        , 0.        , 0.        , ..., 0.        ,\n",
              "           0.        , 0.        ],\n",
              "          [0.        , 0.        , 0.        , ..., 0.        ,\n",
              "           0.        , 0.        ]],\n",
              "\n",
              "         [[0.        , 0.        , 0.        , ..., 0.        ,\n",
              "           0.        , 0.        ],\n",
              "          [0.        , 0.        , 0.        , ..., 0.        ,\n",
              "           0.        , 0.        ],\n",
              "          [2.        , 2.00107331, 2.0019084 , ..., 2.00156952,\n",
              "           2.00193715, 2.00117326],\n",
              "          ...,\n",
              "          [0.        , 0.        , 0.        , ..., 0.        ,\n",
              "           0.        , 0.        ],\n",
              "          [0.        , 0.        , 0.        , ..., 0.        ,\n",
              "           0.        , 0.        ],\n",
              "          [0.        , 0.        , 0.        , ..., 0.        ,\n",
              "           0.        , 0.        ]],\n",
              "\n",
              "         [[0.        , 0.        , 0.        , ..., 0.        ,\n",
              "           0.        , 0.        ],\n",
              "          [0.        , 0.        , 0.        , ..., 0.        ,\n",
              "           0.        , 0.        ],\n",
              "          [1.        , 1.00442355, 1.00786531, ..., 1.00646863,\n",
              "           1.00798379, 1.0048355 ],\n",
              "          ...,\n",
              "          [0.        , 0.        , 0.        , ..., 0.        ,\n",
              "           0.        , 0.        ],\n",
              "          [0.        , 0.        , 0.        , ..., 0.        ,\n",
              "           0.        , 0.        ],\n",
              "          [0.        , 0.        , 0.        , ..., 0.        ,\n",
              "           0.        , 0.        ]]],\n",
              "\n",
              "\n",
              "        [[[0.        , 0.        , 0.        , ..., 0.        ,\n",
              "           0.        , 0.        ],\n",
              "          [0.        , 0.        , 0.        , ..., 0.        ,\n",
              "           0.        , 0.        ],\n",
              "          [0.        , 0.        , 0.        , ..., 0.        ,\n",
              "           0.        , 0.        ],\n",
              "          ...,\n",
              "          [0.        , 0.        , 0.        , ..., 0.        ,\n",
              "           0.        , 0.        ],\n",
              "          [0.        , 0.        , 0.        , ..., 0.        ,\n",
              "           0.        , 0.        ],\n",
              "          [0.        , 0.        , 0.        , ..., 0.        ,\n",
              "           0.        , 0.        ]],\n",
              "\n",
              "         [[0.        , 0.        , 0.        , ..., 0.        ,\n",
              "           0.        , 0.        ],\n",
              "          [0.        , 0.        , 0.        , ..., 0.        ,\n",
              "           0.        , 0.        ],\n",
              "          [0.        , 0.        , 0.        , ..., 0.        ,\n",
              "           0.        , 0.        ],\n",
              "          ...,\n",
              "          [0.        , 0.        , 0.        , ..., 0.        ,\n",
              "           0.        , 0.        ],\n",
              "          [0.        , 0.        , 0.        , ..., 0.        ,\n",
              "           0.        , 0.        ],\n",
              "          [0.        , 0.        , 0.        , ..., 0.        ,\n",
              "           0.        , 0.        ]],\n",
              "\n",
              "         [[0.        , 0.        , 0.        , ..., 0.        ,\n",
              "           0.        , 0.        ],\n",
              "          [0.        , 0.        , 0.        , ..., 0.        ,\n",
              "           0.        , 0.        ],\n",
              "          [0.        , 0.        , 0.        , ..., 0.        ,\n",
              "           0.        , 0.        ],\n",
              "          ...,\n",
              "          [0.        , 0.        , 0.        , ..., 0.        ,\n",
              "           0.        , 0.        ],\n",
              "          [0.        , 0.        , 0.        , ..., 0.        ,\n",
              "           0.        , 0.        ],\n",
              "          [0.        , 0.        , 0.        , ..., 0.        ,\n",
              "           0.        , 0.        ]],\n",
              "\n",
              "         ...,\n",
              "\n",
              "         [[0.        , 0.        , 0.        , ..., 0.        ,\n",
              "           0.        , 0.        ],\n",
              "          [0.        , 0.        , 0.        , ..., 0.        ,\n",
              "           0.        , 0.        ],\n",
              "          [1.        , 1.        , 1.        , ..., 1.        ,\n",
              "           1.        , 1.        ],\n",
              "          ...,\n",
              "          [0.        , 0.        , 0.        , ..., 0.        ,\n",
              "           0.        , 0.        ],\n",
              "          [0.        , 0.        , 0.        , ..., 0.        ,\n",
              "           0.        , 0.        ],\n",
              "          [0.        , 0.        , 0.        , ..., 0.        ,\n",
              "           0.        , 0.        ]],\n",
              "\n",
              "         [[0.        , 0.        , 0.        , ..., 0.        ,\n",
              "           0.        , 0.        ],\n",
              "          [0.        , 0.        , 0.        , ..., 0.        ,\n",
              "           0.        , 0.        ],\n",
              "          [2.        , 2.00818954, 1.01456143, ..., 1.01197568,\n",
              "           2.01478077, 1.0089522 ],\n",
              "          ...,\n",
              "          [0.        , 0.        , 0.        , ..., 0.        ,\n",
              "           0.        , 0.        ],\n",
              "          [0.        , 0.        , 0.        , ..., 0.        ,\n",
              "           0.        , 0.        ],\n",
              "          [0.        , 0.        , 0.        , ..., 0.        ,\n",
              "           0.        , 0.        ]],\n",
              "\n",
              "         [[0.        , 0.        , 0.        , ..., 0.        ,\n",
              "           0.        , 0.        ],\n",
              "          [0.        , 0.        , 0.        , ..., 0.        ,\n",
              "           0.        , 0.        ],\n",
              "          [1.        , 1.        , 1.        , ..., 1.        ,\n",
              "           1.        , 1.        ],\n",
              "          ...,\n",
              "          [0.        , 0.        , 0.        , ..., 0.        ,\n",
              "           0.        , 0.        ],\n",
              "          [0.        , 0.        , 0.        , ..., 0.        ,\n",
              "           0.        , 0.        ],\n",
              "          [0.        , 0.        , 0.        , ..., 0.        ,\n",
              "           0.        , 0.        ]]],\n",
              "\n",
              "\n",
              "        [[[0.        , 0.        , 0.        , ..., 0.        ,\n",
              "           0.        , 0.        ],\n",
              "          [0.        , 0.        , 0.        , ..., 0.        ,\n",
              "           0.        , 0.        ],\n",
              "          [0.        , 0.        , 0.        , ..., 0.        ,\n",
              "           0.        , 0.        ],\n",
              "          ...,\n",
              "          [0.        , 0.        , 0.        , ..., 0.        ,\n",
              "           0.        , 0.        ],\n",
              "          [0.        , 0.        , 0.        , ..., 0.        ,\n",
              "           0.        , 0.        ],\n",
              "          [0.        , 0.        , 0.        , ..., 0.        ,\n",
              "           0.        , 0.        ]],\n",
              "\n",
              "         [[0.        , 0.        , 0.        , ..., 0.        ,\n",
              "           0.        , 0.        ],\n",
              "          [0.        , 0.        , 0.        , ..., 0.        ,\n",
              "           0.        , 0.        ],\n",
              "          [0.        , 0.        , 0.        , ..., 0.        ,\n",
              "           0.        , 0.        ],\n",
              "          ...,\n",
              "          [0.        , 0.        , 0.        , ..., 0.        ,\n",
              "           0.        , 0.        ],\n",
              "          [0.        , 0.        , 0.        , ..., 0.        ,\n",
              "           0.        , 0.        ],\n",
              "          [0.        , 0.        , 0.        , ..., 0.        ,\n",
              "           0.        , 0.        ]],\n",
              "\n",
              "         [[0.        , 0.        , 0.        , ..., 0.        ,\n",
              "           0.        , 0.        ],\n",
              "          [0.        , 0.        , 0.        , ..., 0.        ,\n",
              "           0.        , 0.        ],\n",
              "          [0.        , 0.        , 0.        , ..., 0.        ,\n",
              "           0.        , 0.        ],\n",
              "          ...,\n",
              "          [0.        , 0.        , 0.        , ..., 0.        ,\n",
              "           0.        , 0.        ],\n",
              "          [0.        , 0.        , 0.        , ..., 0.        ,\n",
              "           0.        , 0.        ],\n",
              "          [0.        , 0.        , 0.        , ..., 0.        ,\n",
              "           0.        , 0.        ]],\n",
              "\n",
              "         ...,\n",
              "\n",
              "         [[0.        , 0.        , 0.        , ..., 0.        ,\n",
              "           0.        , 0.        ],\n",
              "          [0.        , 0.        , 0.        , ..., 0.        ,\n",
              "           0.        , 0.        ],\n",
              "          [1.        , 1.00360949, 1.00641786, ..., 1.0052782 ,\n",
              "           1.00651453, 0.00394562],\n",
              "          ...,\n",
              "          [0.        , 0.        , 0.        , ..., 0.        ,\n",
              "           0.        , 0.        ],\n",
              "          [0.        , 0.        , 0.        , ..., 0.        ,\n",
              "           0.        , 0.        ],\n",
              "          [0.        , 0.        , 0.        , ..., 0.        ,\n",
              "           0.        , 0.        ]],\n",
              "\n",
              "         [[0.        , 0.        , 0.        , ..., 0.        ,\n",
              "           0.        , 0.        ],\n",
              "          [0.        , 0.        , 0.        , ..., 0.        ,\n",
              "           0.        , 0.        ],\n",
              "          [1.        , 1.00495784, 1.00881529, ..., 1.00724992,\n",
              "           1.00894808, 1.00541954],\n",
              "          ...,\n",
              "          [0.        , 0.        , 0.        , ..., 0.        ,\n",
              "           0.        , 0.        ],\n",
              "          [0.        , 0.        , 0.        , ..., 0.        ,\n",
              "           0.        , 0.        ],\n",
              "          [0.        , 0.        , 0.        , ..., 0.        ,\n",
              "           0.        , 0.        ]],\n",
              "\n",
              "         [[0.        , 0.        , 0.        , ..., 0.        ,\n",
              "           0.        , 0.        ],\n",
              "          [0.        , 0.        , 0.        , ..., 0.        ,\n",
              "           0.        , 0.        ],\n",
              "          [1.        , 1.        , 1.        , ..., 1.        ,\n",
              "           1.        , 1.        ],\n",
              "          ...,\n",
              "          [0.        , 0.        , 0.        , ..., 0.        ,\n",
              "           0.        , 0.        ],\n",
              "          [0.        , 0.        , 0.        , ..., 0.        ,\n",
              "           0.        , 0.        ],\n",
              "          [0.        , 0.        , 0.        , ..., 0.        ,\n",
              "           0.        , 0.        ]]],\n",
              "\n",
              "\n",
              "        ...,\n",
              "\n",
              "\n",
              "        [[[0.        , 0.        , 0.        , ..., 0.        ,\n",
              "           0.        , 0.        ],\n",
              "          [0.        , 0.        , 0.        , ..., 0.        ,\n",
              "           0.        , 0.        ],\n",
              "          [0.        , 0.        , 0.        , ..., 0.        ,\n",
              "           0.        , 0.        ],\n",
              "          ...,\n",
              "          [0.        , 0.        , 0.        , ..., 0.        ,\n",
              "           0.        , 0.        ],\n",
              "          [0.        , 0.        , 0.        , ..., 0.        ,\n",
              "           0.        , 0.        ],\n",
              "          [0.        , 0.        , 0.        , ..., 0.        ,\n",
              "           0.        , 0.        ]],\n",
              "\n",
              "         [[0.        , 0.        , 0.        , ..., 0.        ,\n",
              "           0.        , 0.        ],\n",
              "          [0.        , 0.        , 0.        , ..., 0.        ,\n",
              "           0.        , 0.        ],\n",
              "          [0.        , 0.        , 0.        , ..., 0.        ,\n",
              "           0.        , 0.        ],\n",
              "          ...,\n",
              "          [0.        , 0.        , 0.        , ..., 0.        ,\n",
              "           0.        , 0.        ],\n",
              "          [0.        , 0.        , 0.        , ..., 0.        ,\n",
              "           0.        , 0.        ],\n",
              "          [0.        , 0.        , 0.        , ..., 0.        ,\n",
              "           0.        , 0.        ]],\n",
              "\n",
              "         [[0.        , 0.        , 0.        , ..., 0.        ,\n",
              "           0.        , 0.        ],\n",
              "          [0.        , 0.        , 0.        , ..., 0.        ,\n",
              "           0.        , 0.        ],\n",
              "          [0.        , 0.        , 0.        , ..., 0.        ,\n",
              "           0.        , 0.        ],\n",
              "          ...,\n",
              "          [0.        , 0.        , 0.        , ..., 0.        ,\n",
              "           0.        , 0.        ],\n",
              "          [0.        , 0.        , 0.        , ..., 0.        ,\n",
              "           0.        , 0.        ],\n",
              "          [0.        , 0.        , 0.        , ..., 0.        ,\n",
              "           0.        , 0.        ]],\n",
              "\n",
              "         ...,\n",
              "\n",
              "         [[0.        , 0.        , 0.        , ..., 0.        ,\n",
              "           0.        , 0.        ],\n",
              "          [0.        , 0.        , 0.        , ..., 0.        ,\n",
              "           0.        , 0.        ],\n",
              "          [0.        , 0.        , 0.        , ..., 0.        ,\n",
              "           0.        , 0.        ],\n",
              "          ...,\n",
              "          [0.        , 0.        , 0.        , ..., 0.        ,\n",
              "           0.        , 0.        ],\n",
              "          [0.        , 0.        , 0.        , ..., 0.        ,\n",
              "           0.        , 0.        ],\n",
              "          [0.        , 0.        , 0.        , ..., 0.        ,\n",
              "           0.        , 0.        ]],\n",
              "\n",
              "         [[0.        , 0.        , 0.        , ..., 0.        ,\n",
              "           0.        , 0.        ],\n",
              "          [0.        , 0.        , 0.        , ..., 0.        ,\n",
              "           0.        , 0.        ],\n",
              "          [0.        , 0.        , 0.        , ..., 0.        ,\n",
              "           0.        , 0.        ],\n",
              "          ...,\n",
              "          [0.        , 0.        , 0.        , ..., 0.        ,\n",
              "           0.        , 0.        ],\n",
              "          [0.        , 0.        , 0.        , ..., 0.        ,\n",
              "           0.        , 0.        ],\n",
              "          [0.        , 0.        , 0.        , ..., 0.        ,\n",
              "           0.        , 0.        ]],\n",
              "\n",
              "         [[0.        , 0.        , 0.        , ..., 0.        ,\n",
              "           0.        , 0.        ],\n",
              "          [0.        , 0.        , 0.        , ..., 0.        ,\n",
              "           0.        , 0.        ],\n",
              "          [0.        , 0.        , 0.        , ..., 0.        ,\n",
              "           0.        , 0.        ],\n",
              "          ...,\n",
              "          [0.        , 0.        , 0.        , ..., 0.        ,\n",
              "           0.        , 0.        ],\n",
              "          [0.        , 0.        , 0.        , ..., 0.        ,\n",
              "           0.        , 0.        ],\n",
              "          [0.        , 0.        , 0.        , ..., 0.        ,\n",
              "           0.        , 0.        ]]],\n",
              "\n",
              "\n",
              "        [[[0.        , 0.        , 0.        , ..., 0.        ,\n",
              "           0.        , 0.        ],\n",
              "          [0.        , 0.        , 0.        , ..., 0.        ,\n",
              "           0.        , 0.        ],\n",
              "          [0.        , 0.        , 0.        , ..., 0.        ,\n",
              "           0.        , 0.        ],\n",
              "          ...,\n",
              "          [0.        , 0.        , 0.        , ..., 0.        ,\n",
              "           0.        , 0.        ],\n",
              "          [0.        , 0.        , 0.        , ..., 0.        ,\n",
              "           0.        , 0.        ],\n",
              "          [0.        , 0.        , 0.        , ..., 0.        ,\n",
              "           0.        , 0.        ]],\n",
              "\n",
              "         [[0.        , 0.        , 0.        , ..., 0.        ,\n",
              "           0.        , 0.        ],\n",
              "          [0.        , 0.        , 0.        , ..., 0.        ,\n",
              "           0.        , 0.        ],\n",
              "          [0.        , 0.        , 0.        , ..., 0.        ,\n",
              "           0.        , 0.        ],\n",
              "          ...,\n",
              "          [0.        , 0.        , 0.        , ..., 0.        ,\n",
              "           0.        , 0.        ],\n",
              "          [0.        , 0.        , 0.        , ..., 0.        ,\n",
              "           0.        , 0.        ],\n",
              "          [0.        , 0.        , 0.        , ..., 0.        ,\n",
              "           0.        , 0.        ]],\n",
              "\n",
              "         [[0.        , 0.        , 0.        , ..., 0.        ,\n",
              "           0.        , 0.        ],\n",
              "          [0.        , 0.        , 0.        , ..., 0.        ,\n",
              "           0.        , 0.        ],\n",
              "          [0.        , 0.        , 0.        , ..., 0.        ,\n",
              "           0.        , 0.        ],\n",
              "          ...,\n",
              "          [0.        , 0.        , 0.        , ..., 0.        ,\n",
              "           0.        , 0.        ],\n",
              "          [0.        , 0.        , 0.        , ..., 0.        ,\n",
              "           0.        , 0.        ],\n",
              "          [0.        , 0.        , 0.        , ..., 0.        ,\n",
              "           0.        , 0.        ]],\n",
              "\n",
              "         ...,\n",
              "\n",
              "         [[0.        , 0.        , 0.        , ..., 0.        ,\n",
              "           0.        , 0.        ],\n",
              "          [0.        , 0.        , 0.        , ..., 0.        ,\n",
              "           0.        , 0.        ],\n",
              "          [0.        , 0.        , 0.        , ..., 0.        ,\n",
              "           0.        , 0.        ],\n",
              "          ...,\n",
              "          [0.        , 0.        , 0.        , ..., 0.        ,\n",
              "           0.        , 0.        ],\n",
              "          [0.        , 0.        , 0.        , ..., 0.        ,\n",
              "           0.        , 0.        ],\n",
              "          [0.        , 0.        , 0.        , ..., 0.        ,\n",
              "           0.        , 0.        ]],\n",
              "\n",
              "         [[0.        , 0.        , 0.        , ..., 0.        ,\n",
              "           0.        , 0.        ],\n",
              "          [0.        , 0.        , 0.        , ..., 0.        ,\n",
              "           0.        , 0.        ],\n",
              "          [0.        , 0.        , 0.        , ..., 0.        ,\n",
              "           0.        , 0.        ],\n",
              "          ...,\n",
              "          [0.        , 0.        , 0.        , ..., 0.        ,\n",
              "           0.        , 0.        ],\n",
              "          [0.        , 0.        , 0.        , ..., 0.        ,\n",
              "           0.        , 0.        ],\n",
              "          [0.        , 0.        , 0.        , ..., 0.        ,\n",
              "           0.        , 0.        ]],\n",
              "\n",
              "         [[0.        , 0.        , 0.        , ..., 0.        ,\n",
              "           0.        , 0.        ],\n",
              "          [0.        , 0.        , 0.        , ..., 0.        ,\n",
              "           0.        , 0.        ],\n",
              "          [0.        , 0.        , 0.        , ..., 0.        ,\n",
              "           0.        , 0.        ],\n",
              "          ...,\n",
              "          [0.        , 0.        , 0.        , ..., 0.        ,\n",
              "           0.        , 0.        ],\n",
              "          [0.        , 0.        , 0.        , ..., 0.        ,\n",
              "           0.        , 0.        ],\n",
              "          [0.        , 0.        , 0.        , ..., 0.        ,\n",
              "           0.        , 0.        ]]],\n",
              "\n",
              "\n",
              "        [[[0.        , 0.        , 0.        , ..., 0.        ,\n",
              "           0.        , 0.        ],\n",
              "          [0.        , 0.        , 0.        , ..., 0.        ,\n",
              "           0.        , 0.        ],\n",
              "          [0.        , 0.        , 0.        , ..., 0.        ,\n",
              "           0.        , 0.        ],\n",
              "          ...,\n",
              "          [0.        , 0.        , 0.        , ..., 0.        ,\n",
              "           0.        , 0.        ],\n",
              "          [0.        , 0.        , 0.        , ..., 0.        ,\n",
              "           0.        , 0.        ],\n",
              "          [0.        , 0.        , 0.        , ..., 0.        ,\n",
              "           0.        , 0.        ]],\n",
              "\n",
              "         [[0.        , 0.        , 0.        , ..., 0.        ,\n",
              "           0.        , 0.        ],\n",
              "          [0.        , 0.        , 0.        , ..., 0.        ,\n",
              "           0.        , 0.        ],\n",
              "          [0.        , 0.        , 0.        , ..., 0.        ,\n",
              "           0.        , 0.        ],\n",
              "          ...,\n",
              "          [0.        , 0.        , 0.        , ..., 0.        ,\n",
              "           0.        , 0.        ],\n",
              "          [0.        , 0.        , 0.        , ..., 0.        ,\n",
              "           0.        , 0.        ],\n",
              "          [0.        , 0.        , 0.        , ..., 0.        ,\n",
              "           0.        , 0.        ]],\n",
              "\n",
              "         [[0.        , 0.        , 0.        , ..., 0.        ,\n",
              "           0.        , 0.        ],\n",
              "          [0.        , 0.        , 0.        , ..., 0.        ,\n",
              "           0.        , 0.        ],\n",
              "          [0.        , 0.        , 0.        , ..., 0.        ,\n",
              "           0.        , 0.        ],\n",
              "          ...,\n",
              "          [0.        , 0.        , 0.        , ..., 0.        ,\n",
              "           0.        , 0.        ],\n",
              "          [0.        , 0.        , 0.        , ..., 0.        ,\n",
              "           0.        , 0.        ],\n",
              "          [0.        , 0.        , 0.        , ..., 0.        ,\n",
              "           0.        , 0.        ]],\n",
              "\n",
              "         ...,\n",
              "\n",
              "         [[0.        , 0.        , 0.        , ..., 0.        ,\n",
              "           0.        , 0.        ],\n",
              "          [0.        , 0.        , 0.        , ..., 0.        ,\n",
              "           0.        , 0.        ],\n",
              "          [0.        , 0.        , 0.        , ..., 0.        ,\n",
              "           0.        , 0.        ],\n",
              "          ...,\n",
              "          [0.        , 0.        , 0.        , ..., 0.        ,\n",
              "           0.        , 0.        ],\n",
              "          [0.        , 0.        , 0.        , ..., 0.        ,\n",
              "           0.        , 0.        ],\n",
              "          [0.        , 0.        , 0.        , ..., 0.        ,\n",
              "           0.        , 0.        ]],\n",
              "\n",
              "         [[0.        , 0.        , 0.        , ..., 0.        ,\n",
              "           0.        , 0.        ],\n",
              "          [0.        , 0.        , 0.        , ..., 0.        ,\n",
              "           0.        , 0.        ],\n",
              "          [0.        , 0.        , 0.        , ..., 0.        ,\n",
              "           0.        , 0.        ],\n",
              "          ...,\n",
              "          [0.        , 0.        , 0.        , ..., 0.        ,\n",
              "           0.        , 0.        ],\n",
              "          [0.        , 0.        , 0.        , ..., 0.        ,\n",
              "           0.        , 0.        ],\n",
              "          [0.        , 0.        , 0.        , ..., 0.        ,\n",
              "           0.        , 0.        ]],\n",
              "\n",
              "         [[0.        , 0.        , 0.        , ..., 0.        ,\n",
              "           0.        , 0.        ],\n",
              "          [0.        , 0.        , 0.        , ..., 0.        ,\n",
              "           0.        , 0.        ],\n",
              "          [0.        , 0.        , 0.        , ..., 0.        ,\n",
              "           0.        , 0.        ],\n",
              "          ...,\n",
              "          [0.        , 0.        , 0.        , ..., 0.        ,\n",
              "           0.        , 0.        ],\n",
              "          [0.        , 0.        , 0.        , ..., 0.        ,\n",
              "           0.        , 0.        ],\n",
              "          [0.        , 0.        , 0.        , ..., 0.        ,\n",
              "           0.        , 0.        ]]]])"
            ]
          },
          "metadata": {},
          "execution_count": 48
        }
      ]
    },
    {
      "cell_type": "code",
      "source": [
        "# D[1][1][1][:]= np.ones(170)\n",
        "\n",
        "# (D==d).sum()"
      ],
      "metadata": {
        "colab": {
          "base_uri": "https://localhost:8080/"
        },
        "id": "HPQhAH16azMO",
        "outputId": "518b8715-1156-4638-a15b-a400b421a550"
      },
      "execution_count": null,
      "outputs": [
        {
          "output_type": "execute_result",
          "data": {
            "text/plain": [
              "46177440"
            ]
          },
          "metadata": {},
          "execution_count": 56
        }
      ]
    },
    {
      "cell_type": "code",
      "source": [
        "\n",
        "# 73*(61**2)*170 -46177440"
      ],
      "metadata": {
        "colab": {
          "base_uri": "https://localhost:8080/"
        },
        "id": "XIE6CgQlb_7B",
        "outputId": "90e259ab-1181-4b2d-9182-f39b23b89fd1"
      },
      "execution_count": null,
      "outputs": [
        {
          "output_type": "execute_result",
          "data": {
            "text/plain": [
              "170"
            ]
          },
          "metadata": {},
          "execution_count": 58
        }
      ]
    },
    {
      "cell_type": "code",
      "source": [],
      "metadata": {
        "id": "CB7Z1Tn7b__j"
      },
      "execution_count": null,
      "outputs": []
    },
    {
      "cell_type": "code",
      "source": [
        "\n",
        "# np.set_printoptions(precision=5)\n",
        "\n",
        "# D = d.copy()\n",
        "\n",
        "\n",
        "D = rest1.copy()\n",
        "d= rest1\n",
        "from sklearn.linear_model import LinearRegression\n",
        "\n",
        "V1 = MOTION.mean(axis=1).values\n",
        "\n",
        "V2 = V1.reshape((-1,1))\n",
        "\n",
        "\n",
        "# V2 = MIXED_DATA['reappraisal'] * V1\n",
        "\n",
        "for i in range(61):\n",
        "  for j in range(73):\n",
        "    for k in range(61):\n",
        "\n",
        "          y = d[i,j,k,:]\n",
        "          model = LinearRegression()\n",
        "          model.fit(V2,y)\n",
        "          beta = model.coef_\n",
        "          # beta = np.around(beta,100)\n",
        "\n",
        "          # print(np.corrcoef(y,V1))\n",
        "          # c = model.intercept_\n",
        "\n",
        "          # .reshape((-1,1))\n",
        "          # kk = d[i,j,k,:].reshape(-1,1) -  beta*V2\n",
        "          D[i,j,k,:] = (d[i,j,k,:].reshape(-1,1) -  beta*V2).reshape(1,-1)[0]\n",
        "          # print('beta is : {0} and \\n regressour data is {1} and {2}\\n and raw data is{2} \\n'.format(beta, kk,D[i,j,k,:],d[i,j,k,:]))\n",
        "          # print(beta)\n",
        "\n",
        "\n",
        "#1/ MIXED_DATA['rumination'] .values\n",
        "\n",
        "# np.corrcoef(V1,y)"
      ],
      "metadata": {
        "id": "IJ6VChZPcw0t"
      },
      "execution_count": null,
      "outputs": []
    },
    {
      "cell_type": "code",
      "source": [
        "def linear_regression(x, y):     \n",
        "    N = len(x)\n",
        "    x_mean = x.mean()\n",
        "    y_mean = y.mean()\n",
        "    \n",
        "    B1_num = ((x - x_mean) * (y - y_mean)).sum()\n",
        "    B1_den = ((x - x_mean)**2).sum()\n",
        "    B1 = B1_num / B1_den\n",
        "    \n",
        "    B0 = y_mean - (B1*x_mean)\n",
        "    \n",
        "    reg_line = 'y = {} + {}β'.format(B0, round(B1, 3))\n",
        "    \n",
        "    return (B0, B1, reg_line)"
      ],
      "metadata": {
        "id": "9W2wc9-nly8_"
      },
      "execution_count": null,
      "outputs": []
    },
    {
      "cell_type": "code",
      "source": [
        "\n",
        "beta"
      ],
      "metadata": {
        "colab": {
          "base_uri": "https://localhost:8080/"
        },
        "id": "EAjxEjFcjUQR",
        "outputId": "518c4b8a-e7fc-4585-b72d-d752f8a78884"
      },
      "execution_count": null,
      "outputs": [
        {
          "output_type": "execute_result",
          "data": {
            "text/plain": [
              "array([-0.])"
            ]
          },
          "metadata": {},
          "execution_count": 122
        }
      ]
    },
    {
      "cell_type": "code",
      "source": [
        "linear_regression(V1,y)"
      ],
      "metadata": {
        "colab": {
          "base_uri": "https://localhost:8080/"
        },
        "id": "1nU4D-aWl3bc",
        "outputId": "0ad1f1dd-9b56-4c08-b108-46c6f2cb05fd"
      },
      "execution_count": null,
      "outputs": [
        {
          "output_type": "execute_result",
          "data": {
            "text/plain": [
              "(0.0, 0.0, 'y = 0.0 + 0.0β')"
            ]
          },
          "metadata": {},
          "execution_count": 123
        }
      ]
    },
    {
      "cell_type": "code",
      "source": [],
      "metadata": {
        "id": "mtkBjPdQl3fV"
      },
      "execution_count": null,
      "outputs": []
    },
    {
      "cell_type": "code",
      "source": [],
      "metadata": {
        "id": "gWNypWX-l3r1"
      },
      "execution_count": null,
      "outputs": []
    },
    {
      "cell_type": "code",
      "source": [],
      "metadata": {
        "id": "EDL86cIdl3ux"
      },
      "execution_count": null,
      "outputs": []
    },
    {
      "cell_type": "code",
      "source": [],
      "metadata": {
        "id": "raCfRc6Sl3x6"
      },
      "execution_count": null,
      "outputs": []
    },
    {
      "cell_type": "code",
      "source": [
        "73*(61**2)*170"
      ],
      "metadata": {
        "colab": {
          "base_uri": "https://localhost:8080/"
        },
        "id": "Rmp645t6eCFB",
        "outputId": "868b9e23-2c78-4680-8cf9-02280f508ef9"
      },
      "execution_count": null,
      "outputs": [
        {
          "output_type": "execute_result",
          "data": {
            "text/plain": [
              "46177610"
            ]
          },
          "metadata": {},
          "execution_count": 74
        }
      ]
    },
    {
      "cell_type": "code",
      "source": [
        "\n",
        "(D == d).sum()"
      ],
      "metadata": {
        "colab": {
          "base_uri": "https://localhost:8080/"
        },
        "id": "v4DdBTDAZ2eY",
        "outputId": "895d27ff-cc4f-498c-bd24-e6575d43e0ee"
      },
      "execution_count": null,
      "outputs": [
        {
          "output_type": "execute_result",
          "data": {
            "text/plain": [
              "45428361"
            ]
          },
          "metadata": {},
          "execution_count": 75
        }
      ]
    },
    {
      "cell_type": "code",
      "source": [
        "\n",
        "D[40][10][50] \n",
        "# d[40][10][50] "
      ],
      "metadata": {
        "colab": {
          "base_uri": "https://localhost:8080/"
        },
        "id": "LQ949hEhXqJq",
        "outputId": "10a5d870-5009-44aa-bb14-b9439396c2b0"
      },
      "execution_count": null,
      "outputs": [
        {
          "output_type": "execute_result",
          "data": {
            "text/plain": [
              "array([33.        , 38.72468417, 36.51047391, 36.54767667, 36.31493173,\n",
              "       39.42972779, 39.19280888, 38.64172831, 42.02743017, 42.70689786,\n",
              "       44.8512513 , 37.75993586, 42.72551359, 41.3517173 , 37.03779132,\n",
              "       36.23257921, 38.20510541, 37.45741064, 40.54235752, 45.45217981,\n",
              "       40.34331429, 43.15510082, 43.21281446, 37.19571041, 37.87953574,\n",
              "       38.77617521, 41.7660287 , 35.87390598, 40.95263636, 42.91358163,\n",
              "       39.94787035, 41.84450349, 37.51091107, 38.48880395, 38.62505869,\n",
              "       45.55048949, 40.52966323, 45.43976987, 40.38975663, 36.37960795,\n",
              "       42.18218285, 35.24512617, 39.51597791, 39.32630667, 38.39033834,\n",
              "       42.24530788, 43.28289305, 40.41481676, 41.30435897, 38.36747161,\n",
              "       42.43637119, 39.56783029, 48.67791629, 39.66210499, 42.42255839,\n",
              "       36.54185407, 37.56658661, 40.41407832, 37.53546076, 44.4793078 ,\n",
              "       38.68061576, 42.57837414, 40.42563541, 38.35101206, 43.63553175,\n",
              "       40.56538025, 40.38486513, 43.18611398, 40.17690839, 41.26647684,\n",
              "       37.06867866, 33.95398978, 39.11084019, 36.43873303, 36.12240916,\n",
              "       38.97651117, 40.83205426, 43.94463322, 39.23627715, 36.95923309,\n",
              "       40.21819491, 38.24506834, 40.82843004, 35.31423819, 38.28489906,\n",
              "       40.09722073, 38.17950968, 44.83046557, 40.10668882, 39.96963646,\n",
              "       40.04940937, 41.03260499, 39.34916851, 39.34967453, 37.17485992,\n",
              "       39.02100963, 39.70186752, 35.34302349, 38.16871345, 40.10079576,\n",
              "       33.55310711, 36.1427342 , 38.11753013, 41.17515097, 36.73430978,\n",
              "       33.00762075, 33.03743345, 33.24733665, 37.89233658, 37.44543574,\n",
              "       40.18782515, 37.11189821, 38.5076239 , 37.33739669, 37.24555828,\n",
              "       38.16822676, 37.1664258 , 37.12867092, 36.0315128 , 32.15736722,\n",
              "       35.99336437, 38.8992247 , 37.89722283, 36.83664322, 41.31066843,\n",
              "       33.41599304, 41.1331035 , 38.82004389, 39.71335306, 45.79380966,\n",
              "       44.64456466, 42.77302974, 37.79587346, 45.94971402, 37.70212847,\n",
              "       41.95287327, 41.97391341, 39.65068489, 40.73861224, 40.5163581 ,\n",
              "       39.34540032, 42.06755892, 39.77844067, 36.07392263, 38.0309019 ,\n",
              "       39.25239555, 39.97583513, 38.81541904, 39.95104519, 39.78735434,\n",
              "       43.6820822 , 38.54711281, 39.70536156, 44.72256916, 42.6680985 ,\n",
              "       38.50606012, 40.36433759, 41.4822205 , 39.34536125, 44.21436297,\n",
              "       43.25354814, 39.15646675, 43.10142156, 35.85213373, 45.8462193 ,\n",
              "       38.95067173, 38.81889075, 42.59740156, 41.5031001 , 31.69904502])"
            ]
          },
          "metadata": {},
          "execution_count": 43
        }
      ]
    },
    {
      "cell_type": "code",
      "source": [
        "\n",
        "d[0,0,1,:]"
      ],
      "metadata": {
        "colab": {
          "base_uri": "https://localhost:8080/"
        },
        "id": "9WOjpLrJaK-X",
        "outputId": "6fbeea32-b4fd-4619-b609-f9492bbfdcfe"
      },
      "execution_count": null,
      "outputs": [
        {
          "output_type": "execute_result",
          "data": {
            "text/plain": [
              "array([0., 0., 0., 0., 0., 0., 0., 0., 0., 0., 0., 0., 0., 0., 0., 0., 0.,\n",
              "       0., 0., 0., 0., 0., 0., 0., 0., 0., 0., 0., 0., 0., 0., 0., 0., 0.,\n",
              "       0., 0., 0., 0., 0., 0., 0., 0., 0., 0., 0., 0., 0., 0., 0., 0., 0.,\n",
              "       0., 0., 0., 0., 0., 0., 0., 0., 0., 0., 0., 0., 0., 0., 0., 0., 0.,\n",
              "       0., 0., 0., 0., 0., 0., 0., 0., 0., 0., 0., 0., 0., 0., 0., 0., 0.,\n",
              "       0., 0., 0., 0., 0., 0., 0., 0., 0., 0., 0., 0., 0., 0., 0., 0., 0.,\n",
              "       0., 0., 0., 0., 0., 0., 0., 0., 0., 0., 0., 0., 0., 0., 0., 0., 0.,\n",
              "       0., 0., 0., 0., 0., 0., 0., 0., 0., 0., 0., 0., 0., 0., 0., 0., 0.,\n",
              "       0., 0., 0., 0., 0., 0., 0., 0., 0., 0., 0., 0., 0., 0., 0., 0., 0.,\n",
              "       0., 0., 0., 0., 0., 0., 0., 0., 0., 0., 0., 0., 0., 0., 0., 0., 0.])"
            ]
          },
          "metadata": {},
          "execution_count": 72
        }
      ]
    },
    {
      "cell_type": "code",
      "source": [
        "D[0,0,1,:]"
      ],
      "metadata": {
        "colab": {
          "base_uri": "https://localhost:8080/"
        },
        "id": "8t6LHVXFaQyY",
        "outputId": "b0161621-1460-49f4-dd93-836540a610f0"
      },
      "execution_count": null,
      "outputs": [
        {
          "output_type": "execute_result",
          "data": {
            "text/plain": [
              "array([0., 0., 0., 0., 0., 0., 0., 0., 0., 0., 0., 0., 0., 0., 0., 0., 0.,\n",
              "       0., 0., 0., 0., 0., 0., 0., 0., 0., 0., 0., 0., 0., 0., 0., 0., 0.,\n",
              "       0., 0., 0., 0., 0., 0., 0., 0., 0., 0., 0., 0., 0., 0., 0., 0., 0.,\n",
              "       0., 0., 0., 0., 0., 0., 0., 0., 0., 0., 0., 0., 0., 0., 0., 0., 0.,\n",
              "       0., 0., 0., 0., 0., 0., 0., 0., 0., 0., 0., 0., 0., 0., 0., 0., 0.,\n",
              "       0., 0., 0., 0., 0., 0., 0., 0., 0., 0., 0., 0., 0., 0., 0., 0., 0.,\n",
              "       0., 0., 0., 0., 0., 0., 0., 0., 0., 0., 0., 0., 0., 0., 0., 0., 0.,\n",
              "       0., 0., 0., 0., 0., 0., 0., 0., 0., 0., 0., 0., 0., 0., 0., 0., 0.,\n",
              "       0., 0., 0., 0., 0., 0., 0., 0., 0., 0., 0., 0., 0., 0., 0., 0., 0.,\n",
              "       0., 0., 0., 0., 0., 0., 0., 0., 0., 0., 0., 0., 0., 0., 0., 0., 0.])"
            ]
          },
          "metadata": {},
          "execution_count": 73
        }
      ]
    },
    {
      "cell_type": "code",
      "source": [
        "kk = d[i,j,k,:].reshape(-1,1) -  beta*V2\n",
        "\n",
        "# np.array(kk)\n",
        "# D[0,1,0,:]\n",
        "d[i,j,k,:]"
      ],
      "metadata": {
        "colab": {
          "base_uri": "https://localhost:8080/"
        },
        "id": "7nYYkIiY2Azm",
        "outputId": "0ea78c3b-a25d-4d07-d98b-562fe7044a27"
      },
      "execution_count": null,
      "outputs": [
        {
          "output_type": "execute_result",
          "data": {
            "text/plain": [
              "array([768., 775., 779., 789., 785., 784., 790., 801., 782., 783., 774.,\n",
              "       788., 788., 786., 806., 783., 812., 790., 789., 789., 787., 776.,\n",
              "       775., 789., 805., 798., 802., 791., 793., 791., 808., 805., 801.,\n",
              "       806., 807., 803., 797., 790., 796., 785., 786., 795., 800., 803.,\n",
              "       801., 799., 801., 810., 801., 809., 800., 802., 807., 811., 812.,\n",
              "       798., 794., 801., 797., 803., 810., 804., 805., 801., 813., 807.,\n",
              "       806., 804., 805., 803., 808., 806., 804., 805., 801., 804., 798.,\n",
              "       814., 816., 787., 806., 794., 713., 726., 710., 709., 710., 713.,\n",
              "       722., 718., 716., 710., 720., 722., 720., 731., 745., 741., 743.,\n",
              "       745., 743., 759., 763., 760., 766., 749., 746., 782., 786., 784.,\n",
              "       795., 769., 767., 775., 779., 776., 770., 765., 780., 771., 769.,\n",
              "       768., 784., 778., 782., 806., 791., 791., 793., 799., 793., 799.,\n",
              "       797., 799., 789., 794., 801., 789., 809., 788., 787., 794., 798.,\n",
              "       811., 800., 799., 796., 804., 807., 803., 812., 804., 809., 809.,\n",
              "       806., 799., 812., 818., 809., 804., 797., 803., 800., 788., 814.,\n",
              "       818., 811., 803., 810., 797.])"
            ]
          },
          "metadata": {},
          "execution_count": 52
        }
      ]
    },
    {
      "cell_type": "code",
      "source": [
        "\n",
        "D[i,j,k,:] = kk.reshape(1,-1) [0]\n",
        "# kk"
      ],
      "metadata": {
        "id": "obiUxNeCUo7h"
      },
      "execution_count": null,
      "outputs": []
    },
    {
      "cell_type": "code",
      "source": [
        "\n",
        "D.shape\n",
        "d"
      ],
      "metadata": {
        "colab": {
          "base_uri": "https://localhost:8080/"
        },
        "id": "-ttICMSL1P60",
        "outputId": "20eac364-63ee-4939-90b3-6fd814fb1dd6"
      },
      "execution_count": null,
      "outputs": [
        {
          "output_type": "execute_result",
          "data": {
            "text/plain": [
              "memmap([[[[0., 0., 0., ..., 0., 0., 0.],\n",
              "          [0., 0., 0., ..., 0., 0., 0.],\n",
              "          [0., 0., 0., ..., 0., 0., 0.],\n",
              "          ...,\n",
              "          [0., 0., 0., ..., 0., 0., 0.],\n",
              "          [0., 0., 0., ..., 0., 0., 0.],\n",
              "          [0., 0., 0., ..., 0., 0., 0.]],\n",
              "\n",
              "         [[0., 0., 0., ..., 0., 0., 0.],\n",
              "          [0., 0., 0., ..., 0., 0., 0.],\n",
              "          [0., 0., 0., ..., 0., 0., 0.],\n",
              "          ...,\n",
              "          [0., 0., 0., ..., 0., 0., 0.],\n",
              "          [0., 0., 0., ..., 0., 0., 0.],\n",
              "          [0., 0., 0., ..., 0., 0., 0.]],\n",
              "\n",
              "         [[0., 0., 0., ..., 0., 0., 0.],\n",
              "          [0., 0., 0., ..., 0., 0., 0.],\n",
              "          [0., 0., 0., ..., 0., 0., 0.],\n",
              "          ...,\n",
              "          [0., 0., 0., ..., 0., 0., 0.],\n",
              "          [0., 0., 0., ..., 0., 0., 0.],\n",
              "          [0., 0., 0., ..., 0., 0., 0.]],\n",
              "\n",
              "         ...,\n",
              "\n",
              "         [[0., 0., 0., ..., 0., 0., 0.],\n",
              "          [0., 0., 0., ..., 0., 0., 0.],\n",
              "          [1., 1., 1., ..., 1., 1., 1.],\n",
              "          ...,\n",
              "          [0., 0., 0., ..., 0., 0., 0.],\n",
              "          [0., 0., 0., ..., 0., 0., 0.],\n",
              "          [0., 0., 0., ..., 0., 0., 0.]],\n",
              "\n",
              "         [[0., 0., 0., ..., 0., 0., 0.],\n",
              "          [0., 0., 0., ..., 0., 0., 0.],\n",
              "          [2., 2., 2., ..., 2., 2., 2.],\n",
              "          ...,\n",
              "          [0., 0., 0., ..., 0., 0., 0.],\n",
              "          [0., 0., 0., ..., 0., 0., 0.],\n",
              "          [0., 0., 0., ..., 0., 0., 0.]],\n",
              "\n",
              "         [[0., 0., 0., ..., 0., 0., 0.],\n",
              "          [0., 0., 0., ..., 0., 0., 0.],\n",
              "          [1., 1., 1., ..., 1., 1., 1.],\n",
              "          ...,\n",
              "          [0., 0., 0., ..., 0., 0., 0.],\n",
              "          [0., 0., 0., ..., 0., 0., 0.],\n",
              "          [0., 0., 0., ..., 0., 0., 0.]]],\n",
              "\n",
              "\n",
              "        [[[0., 0., 0., ..., 0., 0., 0.],\n",
              "          [0., 0., 0., ..., 0., 0., 0.],\n",
              "          [0., 0., 0., ..., 0., 0., 0.],\n",
              "          ...,\n",
              "          [0., 0., 0., ..., 0., 0., 0.],\n",
              "          [0., 0., 0., ..., 0., 0., 0.],\n",
              "          [0., 0., 0., ..., 0., 0., 0.]],\n",
              "\n",
              "         [[0., 0., 0., ..., 0., 0., 0.],\n",
              "          [0., 0., 0., ..., 0., 0., 0.],\n",
              "          [0., 0., 0., ..., 0., 0., 0.],\n",
              "          ...,\n",
              "          [0., 0., 0., ..., 0., 0., 0.],\n",
              "          [0., 0., 0., ..., 0., 0., 0.],\n",
              "          [0., 0., 0., ..., 0., 0., 0.]],\n",
              "\n",
              "         [[0., 0., 0., ..., 0., 0., 0.],\n",
              "          [0., 0., 0., ..., 0., 0., 0.],\n",
              "          [0., 0., 0., ..., 0., 0., 0.],\n",
              "          ...,\n",
              "          [0., 0., 0., ..., 0., 0., 0.],\n",
              "          [0., 0., 0., ..., 0., 0., 0.],\n",
              "          [0., 0., 0., ..., 0., 0., 0.]],\n",
              "\n",
              "         ...,\n",
              "\n",
              "         [[0., 0., 0., ..., 0., 0., 0.],\n",
              "          [0., 0., 0., ..., 0., 0., 0.],\n",
              "          [1., 1., 1., ..., 1., 1., 1.],\n",
              "          ...,\n",
              "          [0., 0., 0., ..., 0., 0., 0.],\n",
              "          [0., 0., 0., ..., 0., 0., 0.],\n",
              "          [0., 0., 0., ..., 0., 0., 0.]],\n",
              "\n",
              "         [[0., 0., 0., ..., 0., 0., 0.],\n",
              "          [0., 0., 0., ..., 0., 0., 0.],\n",
              "          [2., 2., 1., ..., 1., 2., 1.],\n",
              "          ...,\n",
              "          [0., 0., 0., ..., 0., 0., 0.],\n",
              "          [0., 0., 0., ..., 0., 0., 0.],\n",
              "          [0., 0., 0., ..., 0., 0., 0.]],\n",
              "\n",
              "         [[0., 0., 0., ..., 0., 0., 0.],\n",
              "          [0., 0., 0., ..., 0., 0., 0.],\n",
              "          [1., 1., 1., ..., 1., 1., 1.],\n",
              "          ...,\n",
              "          [0., 0., 0., ..., 0., 0., 0.],\n",
              "          [0., 0., 0., ..., 0., 0., 0.],\n",
              "          [0., 0., 0., ..., 0., 0., 0.]]],\n",
              "\n",
              "\n",
              "        [[[0., 0., 0., ..., 0., 0., 0.],\n",
              "          [0., 0., 0., ..., 0., 0., 0.],\n",
              "          [0., 0., 0., ..., 0., 0., 0.],\n",
              "          ...,\n",
              "          [0., 0., 0., ..., 0., 0., 0.],\n",
              "          [0., 0., 0., ..., 0., 0., 0.],\n",
              "          [0., 0., 0., ..., 0., 0., 0.]],\n",
              "\n",
              "         [[0., 0., 0., ..., 0., 0., 0.],\n",
              "          [0., 0., 0., ..., 0., 0., 0.],\n",
              "          [0., 0., 0., ..., 0., 0., 0.],\n",
              "          ...,\n",
              "          [0., 0., 0., ..., 0., 0., 0.],\n",
              "          [0., 0., 0., ..., 0., 0., 0.],\n",
              "          [0., 0., 0., ..., 0., 0., 0.]],\n",
              "\n",
              "         [[0., 0., 0., ..., 0., 0., 0.],\n",
              "          [0., 0., 0., ..., 0., 0., 0.],\n",
              "          [0., 0., 0., ..., 0., 0., 0.],\n",
              "          ...,\n",
              "          [0., 0., 0., ..., 0., 0., 0.],\n",
              "          [0., 0., 0., ..., 0., 0., 0.],\n",
              "          [0., 0., 0., ..., 0., 0., 0.]],\n",
              "\n",
              "         ...,\n",
              "\n",
              "         [[0., 0., 0., ..., 0., 0., 0.],\n",
              "          [0., 0., 0., ..., 0., 0., 0.],\n",
              "          [1., 1., 1., ..., 1., 1., 0.],\n",
              "          ...,\n",
              "          [0., 0., 0., ..., 0., 0., 0.],\n",
              "          [0., 0., 0., ..., 0., 0., 0.],\n",
              "          [0., 0., 0., ..., 0., 0., 0.]],\n",
              "\n",
              "         [[0., 0., 0., ..., 0., 0., 0.],\n",
              "          [0., 0., 0., ..., 0., 0., 0.],\n",
              "          [1., 1., 1., ..., 1., 1., 1.],\n",
              "          ...,\n",
              "          [0., 0., 0., ..., 0., 0., 0.],\n",
              "          [0., 0., 0., ..., 0., 0., 0.],\n",
              "          [0., 0., 0., ..., 0., 0., 0.]],\n",
              "\n",
              "         [[0., 0., 0., ..., 0., 0., 0.],\n",
              "          [0., 0., 0., ..., 0., 0., 0.],\n",
              "          [1., 1., 1., ..., 1., 1., 1.],\n",
              "          ...,\n",
              "          [0., 0., 0., ..., 0., 0., 0.],\n",
              "          [0., 0., 0., ..., 0., 0., 0.],\n",
              "          [0., 0., 0., ..., 0., 0., 0.]]],\n",
              "\n",
              "\n",
              "        ...,\n",
              "\n",
              "\n",
              "        [[[0., 0., 0., ..., 0., 0., 0.],\n",
              "          [0., 0., 0., ..., 0., 0., 0.],\n",
              "          [0., 0., 0., ..., 0., 0., 0.],\n",
              "          ...,\n",
              "          [0., 0., 0., ..., 0., 0., 0.],\n",
              "          [0., 0., 0., ..., 0., 0., 0.],\n",
              "          [0., 0., 0., ..., 0., 0., 0.]],\n",
              "\n",
              "         [[0., 0., 0., ..., 0., 0., 0.],\n",
              "          [0., 0., 0., ..., 0., 0., 0.],\n",
              "          [0., 0., 0., ..., 0., 0., 0.],\n",
              "          ...,\n",
              "          [0., 0., 0., ..., 0., 0., 0.],\n",
              "          [0., 0., 0., ..., 0., 0., 0.],\n",
              "          [0., 0., 0., ..., 0., 0., 0.]],\n",
              "\n",
              "         [[0., 0., 0., ..., 0., 0., 0.],\n",
              "          [0., 0., 0., ..., 0., 0., 0.],\n",
              "          [0., 0., 0., ..., 0., 0., 0.],\n",
              "          ...,\n",
              "          [0., 0., 0., ..., 0., 0., 0.],\n",
              "          [0., 0., 0., ..., 0., 0., 0.],\n",
              "          [0., 0., 0., ..., 0., 0., 0.]],\n",
              "\n",
              "         ...,\n",
              "\n",
              "         [[0., 0., 0., ..., 0., 0., 0.],\n",
              "          [0., 0., 0., ..., 0., 0., 0.],\n",
              "          [0., 0., 0., ..., 0., 0., 0.],\n",
              "          ...,\n",
              "          [0., 0., 0., ..., 0., 0., 0.],\n",
              "          [0., 0., 0., ..., 0., 0., 0.],\n",
              "          [0., 0., 0., ..., 0., 0., 0.]],\n",
              "\n",
              "         [[0., 0., 0., ..., 0., 0., 0.],\n",
              "          [0., 0., 0., ..., 0., 0., 0.],\n",
              "          [0., 0., 0., ..., 0., 0., 0.],\n",
              "          ...,\n",
              "          [0., 0., 0., ..., 0., 0., 0.],\n",
              "          [0., 0., 0., ..., 0., 0., 0.],\n",
              "          [0., 0., 0., ..., 0., 0., 0.]],\n",
              "\n",
              "         [[0., 0., 0., ..., 0., 0., 0.],\n",
              "          [0., 0., 0., ..., 0., 0., 0.],\n",
              "          [0., 0., 0., ..., 0., 0., 0.],\n",
              "          ...,\n",
              "          [0., 0., 0., ..., 0., 0., 0.],\n",
              "          [0., 0., 0., ..., 0., 0., 0.],\n",
              "          [0., 0., 0., ..., 0., 0., 0.]]],\n",
              "\n",
              "\n",
              "        [[[0., 0., 0., ..., 0., 0., 0.],\n",
              "          [0., 0., 0., ..., 0., 0., 0.],\n",
              "          [0., 0., 0., ..., 0., 0., 0.],\n",
              "          ...,\n",
              "          [0., 0., 0., ..., 0., 0., 0.],\n",
              "          [0., 0., 0., ..., 0., 0., 0.],\n",
              "          [0., 0., 0., ..., 0., 0., 0.]],\n",
              "\n",
              "         [[0., 0., 0., ..., 0., 0., 0.],\n",
              "          [0., 0., 0., ..., 0., 0., 0.],\n",
              "          [0., 0., 0., ..., 0., 0., 0.],\n",
              "          ...,\n",
              "          [0., 0., 0., ..., 0., 0., 0.],\n",
              "          [0., 0., 0., ..., 0., 0., 0.],\n",
              "          [0., 0., 0., ..., 0., 0., 0.]],\n",
              "\n",
              "         [[0., 0., 0., ..., 0., 0., 0.],\n",
              "          [0., 0., 0., ..., 0., 0., 0.],\n",
              "          [0., 0., 0., ..., 0., 0., 0.],\n",
              "          ...,\n",
              "          [0., 0., 0., ..., 0., 0., 0.],\n",
              "          [0., 0., 0., ..., 0., 0., 0.],\n",
              "          [0., 0., 0., ..., 0., 0., 0.]],\n",
              "\n",
              "         ...,\n",
              "\n",
              "         [[0., 0., 0., ..., 0., 0., 0.],\n",
              "          [0., 0., 0., ..., 0., 0., 0.],\n",
              "          [0., 0., 0., ..., 0., 0., 0.],\n",
              "          ...,\n",
              "          [0., 0., 0., ..., 0., 0., 0.],\n",
              "          [0., 0., 0., ..., 0., 0., 0.],\n",
              "          [0., 0., 0., ..., 0., 0., 0.]],\n",
              "\n",
              "         [[0., 0., 0., ..., 0., 0., 0.],\n",
              "          [0., 0., 0., ..., 0., 0., 0.],\n",
              "          [0., 0., 0., ..., 0., 0., 0.],\n",
              "          ...,\n",
              "          [0., 0., 0., ..., 0., 0., 0.],\n",
              "          [0., 0., 0., ..., 0., 0., 0.],\n",
              "          [0., 0., 0., ..., 0., 0., 0.]],\n",
              "\n",
              "         [[0., 0., 0., ..., 0., 0., 0.],\n",
              "          [0., 0., 0., ..., 0., 0., 0.],\n",
              "          [0., 0., 0., ..., 0., 0., 0.],\n",
              "          ...,\n",
              "          [0., 0., 0., ..., 0., 0., 0.],\n",
              "          [0., 0., 0., ..., 0., 0., 0.],\n",
              "          [0., 0., 0., ..., 0., 0., 0.]]],\n",
              "\n",
              "\n",
              "        [[[0., 0., 0., ..., 0., 0., 0.],\n",
              "          [0., 0., 0., ..., 0., 0., 0.],\n",
              "          [0., 0., 0., ..., 0., 0., 0.],\n",
              "          ...,\n",
              "          [0., 0., 0., ..., 0., 0., 0.],\n",
              "          [0., 0., 0., ..., 0., 0., 0.],\n",
              "          [0., 0., 0., ..., 0., 0., 0.]],\n",
              "\n",
              "         [[0., 0., 0., ..., 0., 0., 0.],\n",
              "          [0., 0., 0., ..., 0., 0., 0.],\n",
              "          [0., 0., 0., ..., 0., 0., 0.],\n",
              "          ...,\n",
              "          [0., 0., 0., ..., 0., 0., 0.],\n",
              "          [0., 0., 0., ..., 0., 0., 0.],\n",
              "          [0., 0., 0., ..., 0., 0., 0.]],\n",
              "\n",
              "         [[0., 0., 0., ..., 0., 0., 0.],\n",
              "          [0., 0., 0., ..., 0., 0., 0.],\n",
              "          [0., 0., 0., ..., 0., 0., 0.],\n",
              "          ...,\n",
              "          [0., 0., 0., ..., 0., 0., 0.],\n",
              "          [0., 0., 0., ..., 0., 0., 0.],\n",
              "          [0., 0., 0., ..., 0., 0., 0.]],\n",
              "\n",
              "         ...,\n",
              "\n",
              "         [[0., 0., 0., ..., 0., 0., 0.],\n",
              "          [0., 0., 0., ..., 0., 0., 0.],\n",
              "          [0., 0., 0., ..., 0., 0., 0.],\n",
              "          ...,\n",
              "          [0., 0., 0., ..., 0., 0., 0.],\n",
              "          [0., 0., 0., ..., 0., 0., 0.],\n",
              "          [0., 0., 0., ..., 0., 0., 0.]],\n",
              "\n",
              "         [[0., 0., 0., ..., 0., 0., 0.],\n",
              "          [0., 0., 0., ..., 0., 0., 0.],\n",
              "          [0., 0., 0., ..., 0., 0., 0.],\n",
              "          ...,\n",
              "          [0., 0., 0., ..., 0., 0., 0.],\n",
              "          [0., 0., 0., ..., 0., 0., 0.],\n",
              "          [0., 0., 0., ..., 0., 0., 0.]],\n",
              "\n",
              "         [[0., 0., 0., ..., 0., 0., 0.],\n",
              "          [0., 0., 0., ..., 0., 0., 0.],\n",
              "          [0., 0., 0., ..., 0., 0., 0.],\n",
              "          ...,\n",
              "          [0., 0., 0., ..., 0., 0., 0.],\n",
              "          [0., 0., 0., ..., 0., 0., 0.],\n",
              "          [0., 0., 0., ..., 0., 0., 0.]]]])"
            ]
          },
          "metadata": {},
          "execution_count": 220
        }
      ]
    },
    {
      "cell_type": "code",
      "source": [
        "\n",
        "\n",
        "# V2 = V2.reshape(-1,1)\n",
        "# np.array(V2).reshape(-1,1)\n",
        "V2 = V2.values.reshape((-1,1))"
      ],
      "metadata": {
        "id": "hUIglo7LkTAC"
      },
      "execution_count": null,
      "outputs": []
    },
    {
      "cell_type": "code",
      "source": [
        "y.shape\n",
        "V2.shape"
      ],
      "metadata": {
        "colab": {
          "base_uri": "https://localhost:8080/"
        },
        "id": "hr-Dm4SBjTMD",
        "outputId": "76ab4432-eeae-41fb-f9ec-b9f6533692ec"
      },
      "execution_count": null,
      "outputs": [
        {
          "output_type": "execute_result",
          "data": {
            "text/plain": [
              "(85, 1)"
            ]
          },
          "metadata": {},
          "execution_count": 182
        }
      ]
    },
    {
      "cell_type": "code",
      "source": [
        "from sklearn.linear_model import LinearRegression\n",
        "model = LinearRegression()\n",
        "model.fit(V2,y)\n"
      ],
      "metadata": {
        "colab": {
          "base_uri": "https://localhost:8080/"
        },
        "id": "s7akktBOjTOy",
        "outputId": "eb1ab7e4-d0df-4957-8c6f-169b9a5d6437"
      },
      "execution_count": null,
      "outputs": [
        {
          "output_type": "execute_result",
          "data": {
            "text/plain": [
              "LinearRegression()"
            ]
          },
          "metadata": {},
          "execution_count": 183
        }
      ]
    },
    {
      "cell_type": "code",
      "source": [
        "model.intercept_"
      ],
      "metadata": {
        "id": "MZq3XsTpjTSC"
      },
      "execution_count": null,
      "outputs": []
    },
    {
      "cell_type": "code",
      "source": [
        "model.coef_"
      ],
      "metadata": {
        "id": "Bjqku_zbjTUY"
      },
      "execution_count": null,
      "outputs": []
    },
    {
      "cell_type": "code",
      "source": [
        "ypred = model.predict(V2)"
      ],
      "metadata": {
        "id": "SkgtJPRTjTWp"
      },
      "execution_count": null,
      "outputs": []
    },
    {
      "cell_type": "code",
      "source": [
        "model.score(V2,y)"
      ],
      "metadata": {
        "colab": {
          "base_uri": "https://localhost:8080/"
        },
        "id": "-jCqhusOmTQ8",
        "outputId": "ccf58141-fb2a-4533-ec3d-3e4bfd7b8c14"
      },
      "execution_count": null,
      "outputs": [
        {
          "output_type": "execute_result",
          "data": {
            "text/plain": [
              "0.24690214800235966"
            ]
          },
          "metadata": {},
          "execution_count": 188
        }
      ]
    },
    {
      "cell_type": "code",
      "source": [
        "# # file1 = open('myfile.txt', 'r')\n",
        "# Lines = MOTION.readlines()\n",
        "  \n",
        "# count = 0\n",
        "# # Strips the newline character\n",
        "# for line in Lines:\n",
        "#     count += 1\n",
        "#     print(\"Line{}: {}\".format(count, line.strip()))\n"
      ],
      "metadata": {
        "id": "B4KSOwyBxabq"
      },
      "execution_count": null,
      "outputs": []
    },
    {
      "cell_type": "code",
      "source": [
        "# #We read the existing text from file in READ mode.\n",
        "\n",
        "# src=open(\"/content/gdrive/MyDrive/NIM project/rp_arun-7.txt\",\"r\")\n",
        "# fline = \"1 2 3 4 5 6\\n\" #Prepending string.\n",
        "# oline = src.readlines()\n",
        "\n",
        "# #Here, we prepend the string we want to on first line.\n",
        "# oline.insert(0,fline)\n",
        "\n",
        "# src.close()\n",
        "\n",
        "# #We again open the file in WRITE mode.\n",
        "\n",
        "# # pd.read_csv(oline)\n",
        "# # f= open(oline,\"w+\") \n",
        "# # for i in range(10): \n",
        "# #   f.write(\"This is line %d\\r\\n\" % (i+1)) ...\n",
        "# # f.close() ...\n",
        "# # f=open(\"guru99.txt\", \"a+\")\n",
        "# # df.to_csv('/content/gdrive/MyDrive/NIM project/rp_arun-7.csv', header=False)\n",
        "# oline"
      ],
      "metadata": {
        "colab": {
          "base_uri": "https://localhost:8080/"
        },
        "id": "1hKg9c5B4HRl",
        "outputId": "5db433d1-27fe-4998-f1be-f9e83da8cc8b"
      },
      "execution_count": null,
      "outputs": [
        {
          "output_type": "execute_result",
          "data": {
            "text/plain": [
              "['1 2 3 4 5 6\\n',\n",
              " '   0.0000000e+00   0.0000000e+00   0.0000000e+00   0.0000000e+00   0.0000000e+00   3.4694470e-18\\n',\n",
              " '   1.4499780e-02   2.6647544e-02   1.0054374e-02  -6.2982194e-04  -3.8025229e-04  -7.3487399e-04\\n',\n",
              " '   4.8873415e-02   1.0044626e-01  -5.5367851e-02  -1.8941381e-03  -1.7800541e-03  -2.3409172e-03\\n',\n",
              " '   3.9873130e-02   5.3698396e-02  -7.9099377e-03  -8.3417974e-04  -1.9110104e-03  -1.6626539e-03\\n',\n",
              " '   1.6343145e-01   2.0987321e-01  -5.9420538e-02  -6.1574795e-03  -4.0453453e-03  -9.8166548e-04\\n',\n",
              " '   1.3829998e-01   2.6746249e-01  -1.1197484e-01  -5.7286742e-03  -3.7822182e-03  -2.1986595e-03\\n',\n",
              " '   8.6931049e-02   1.2413310e-01  -5.9184460e-02  -1.2744539e-03  -3.0232427e-03  -2.5810685e-03\\n',\n",
              " '   5.3515949e-02   8.2039050e-02  -6.5469956e-02   9.4632053e-04  -2.6208197e-03  -4.0518994e-03\\n',\n",
              " '   3.7941176e-02   1.4138566e-02  -5.1022067e-02   1.4027834e-03  -2.7355471e-03  -4.6523693e-03\\n',\n",
              " '   5.8358512e-02   6.2054271e-03  -5.3497991e-03   1.2958165e-03  -3.0767762e-03  -4.7813607e-03\\n',\n",
              " '   4.0702496e-02  -7.6579051e-03   4.9648027e-04   1.5752430e-03  -2.8842945e-03  -5.5113354e-03\\n',\n",
              " '   6.2275955e-02   7.4707257e-03  -1.8689062e-02   3.1933679e-04  -3.1643325e-03  -5.0883604e-03\\n',\n",
              " '   5.9380556e-02   2.9069888e-02  -3.1518293e-02   3.9552829e-04  -3.0552205e-03  -4.9647019e-03\\n',\n",
              " '   9.2892835e-02   9.5571222e-02  -6.2220276e-02  -1.3191733e-03  -3.8328349e-03  -4.6365896e-03\\n',\n",
              " '   2.0525849e-01   2.4433449e-01  -2.6095903e-01  -6.4011440e-03  -5.9870842e-03  -3.3979991e-03\\n',\n",
              " '   1.5665927e-01   2.4009875e-01  -2.4526732e-01  -4.8242341e-03  -5.2440077e-03  -3.5657349e-03\\n',\n",
              " '   1.8475941e-01   2.4033154e-01  -2.6785559e-01  -5.1399412e-03  -5.7589576e-03  -3.5444421e-03\\n',\n",
              " '   1.6853038e-01   2.5190950e-01  -3.0855324e-01  -5.1338428e-03  -5.6169561e-03  -3.6670315e-03\\n',\n",
              " '   1.4642011e-01   2.0337807e-01  -2.5418905e-01  -4.2424228e-03  -5.3483932e-03  -3.8090565e-03\\n',\n",
              " '   1.3379210e-01   2.2864904e-01  -2.4990334e-01  -4.5480244e-03  -5.4564858e-03  -4.1248324e-03\\n',\n",
              " '   1.4324949e-01   2.1635279e-01  -2.2761910e-01  -4.3076220e-03  -5.6535546e-03  -4.0573331e-03\\n',\n",
              " '   1.6611737e-01   2.1320139e-01  -2.1312913e-01  -4.3259755e-03  -5.8359804e-03  -4.2530104e-03\\n',\n",
              " '   2.4457354e-01   2.3726803e-01  -1.4554386e-01  -5.4484665e-03  -7.0500442e-03  -2.7555873e-03\\n',\n",
              " '   2.2825711e-01   2.9381083e-01  -1.8138248e-01  -6.8218789e-03  -6.9327185e-03  -2.8147388e-03\\n',\n",
              " '   2.3908449e-01   2.1663846e-01  -2.3830164e-01  -5.1157784e-03  -7.2300613e-03  -3.7992815e-03\\n',\n",
              " '   5.4202460e-01  -2.6030334e-01  -2.2421907e-01  -8.3329052e-05  -1.2401320e-02  -4.8104577e-03\\n',\n",
              " '   5.5003858e-01  -2.5366227e-01  -2.3641286e-01  -2.8504915e-04  -1.2517406e-02  -5.1312278e-03\\n',\n",
              " '   5.4208495e-01  -2.4023634e-01  -2.6146948e-01  -1.3214491e-04  -1.2429646e-02  -5.1662607e-03\\n',\n",
              " '   5.3366887e-01  -2.5960092e-01  -2.4810508e-01   6.0017464e-05  -1.2342109e-02  -5.1725442e-03\\n',\n",
              " '   5.2667651e-01  -2.4552527e-01  -2.4820801e-01   1.3248724e-04  -1.2219686e-02  -5.3321455e-03\\n',\n",
              " '   5.3254059e-01  -2.4724522e-01  -2.5768574e-01  -2.7007521e-04  -1.2254819e-02  -5.7203528e-03\\n',\n",
              " '   5.4840272e-01  -2.0966339e-01  -2.9168372e-01  -9.2378888e-04  -1.2587892e-02  -5.6110921e-03\\n',\n",
              " '   5.5646704e-01  -1.6600495e-01  -2.8277829e-01  -1.4439929e-03  -1.2920066e-02  -5.4615557e-03\\n',\n",
              " '   5.4526182e-01  -1.6274061e-01  -2.7091666e-01  -1.0286911e-03  -1.2844772e-02  -5.9016585e-03\\n',\n",
              " '   5.3481692e-01  -1.8920019e-01  -2.5851334e-01  -6.5563869e-04  -1.2763495e-02  -6.3311414e-03\\n',\n",
              " '   5.3637121e-01  -1.6132013e-01  -2.7356350e-01  -1.2097586e-03  -1.2976284e-02  -6.5530782e-03\\n',\n",
              " '   5.4345570e-01  -1.6194452e-01  -2.7551658e-01  -1.4557481e-03  -1.3205264e-02  -6.8439737e-03\\n',\n",
              " '   5.5198968e-01  -1.7005097e-01  -2.5937376e-01  -1.0808238e-03  -1.3447909e-02  -7.3984829e-03\\n',\n",
              " '   5.5052177e-01  -1.5870796e-01  -2.5988243e-01  -8.0773362e-04  -1.3509755e-02  -7.9919561e-03\\n',\n",
              " '   5.6041738e-01  -1.6266983e-01  -2.6322199e-01  -7.7447188e-04  -1.3978600e-02  -8.3274811e-03\\n',\n",
              " '   5.4059445e-01  -1.3923256e-01  -2.3140949e-01  -7.3538437e-04  -1.3918313e-02  -8.3889573e-03\\n',\n",
              " '   5.4890302e-01  -1.4840211e-01  -2.4098759e-01  -1.1917795e-03  -1.4203312e-02  -8.5153967e-03\\n',\n",
              " '   5.4242577e-01  -1.7632281e-01  -2.5489539e-01  -1.4996650e-03  -1.4096241e-02  -8.6636689e-03\\n',\n",
              " '   5.4322852e-01  -1.2119611e-01  -2.7561116e-01  -1.5963724e-03  -1.4278643e-02  -9.5263757e-03\\n',\n",
              " '   5.4169516e-01  -1.0872537e-01  -2.9726686e-01  -1.4267267e-03  -1.4508991e-02  -1.0249775e-02\\n',\n",
              " '   5.4248209e-01  -8.2729111e-02  -2.9715376e-01  -1.3309979e-03  -1.4668008e-02  -1.1030023e-02\\n',\n",
              " '   5.2515811e-01  -8.7507336e-02  -2.8199505e-01  -9.4497816e-04  -1.4411098e-02  -1.1481122e-02\\n',\n",
              " '   5.2873010e-01  -7.8586196e-02  -3.1729478e-01  -1.6878561e-03  -1.4550902e-02  -1.1490143e-02\\n',\n",
              " '   5.3681944e-01  -5.1686399e-02  -3.3172211e-01  -1.8536324e-03  -1.4589737e-02  -1.2005097e-02\\n',\n",
              " '   5.3366788e-01  -4.9329533e-02  -3.4220487e-01  -1.8071383e-03  -1.4612787e-02  -1.2088416e-02\\n',\n",
              " '   5.0174573e-01  -2.3390672e-02  -3.4818486e-01  -1.3914513e-03  -1.4250877e-02  -1.3279607e-02\\n',\n",
              " '   4.8579552e-01  -2.5102330e-02  -3.5459490e-01  -9.9411139e-04  -1.3813419e-02  -1.3657340e-02\\n',\n",
              " '   4.7975197e-01  -4.1246703e-02  -3.5248202e-01  -8.9097833e-04  -1.3616602e-02  -1.3657702e-02\\n',\n",
              " '   4.8461792e-01  -3.3475519e-02  -3.6192292e-01  -1.5295062e-03  -1.3432354e-02  -1.3559371e-02\\n',\n",
              " '   4.9774104e-01  -9.4971829e-03  -3.5688291e-01  -2.0086302e-03  -1.3339142e-02  -1.2283632e-02\\n',\n",
              " '   4.7673625e-01  -6.4646647e-05  -3.6615245e-01  -2.4392058e-03  -1.3038978e-02  -1.2741275e-02\\n',\n",
              " '   4.8747379e-01   1.4517764e-02  -3.9469338e-01  -3.3858934e-03  -1.3238937e-02  -1.2816514e-02\\n',\n",
              " '   4.9636650e-01   6.9364557e-02  -4.2990019e-01  -4.0122078e-03  -1.3467649e-02  -1.3098137e-02\\n',\n",
              " '   4.8477632e-01   5.4644614e-02  -4.2578268e-01  -3.4261855e-03  -1.3313247e-02  -1.3450655e-02\\n',\n",
              " '   4.9189590e-01   6.2145715e-02  -4.2972836e-01  -3.7468177e-03  -1.3515443e-02  -1.3515712e-02\\n',\n",
              " '   4.7900575e-01   4.8891587e-02  -4.3998448e-01  -3.2089145e-03  -1.3262970e-02  -1.4067931e-02\\n',\n",
              " '   4.9798842e-01   7.9240231e-02  -4.7025706e-01  -3.8527414e-03  -1.3393534e-02  -1.3985956e-02\\n',\n",
              " '   5.0723479e-01   1.0516162e-01  -4.7751852e-01  -4.0120474e-03  -1.3632061e-02  -1.4056983e-02\\n',\n",
              " '   5.2531852e-01   1.3554276e-01  -5.1147920e-01  -5.1151582e-03  -1.3887662e-02  -1.3797390e-02\\n',\n",
              " '   5.0960335e-01   1.2051184e-01  -5.3192306e-01  -4.8182517e-03  -1.3835399e-02  -1.4066707e-02\\n',\n",
              " '   4.8903287e-01   1.2840217e-01  -5.0695378e-01  -4.8258601e-03  -1.3477329e-02  -1.4104534e-02\\n',\n",
              " '   4.7249415e-01   1.8219634e-01  -5.1136444e-01  -6.0394527e-03  -1.2783226e-02  -1.4002745e-02\\n',\n",
              " '   4.7508762e-01   1.8786728e-01  -4.8353158e-01  -5.8086962e-03  -1.3076742e-02  -1.4334311e-02\\n',\n",
              " '   4.1760893e-01   2.7448563e-01  -1.5515204e-01  -4.1380543e-03  -1.1164391e-02  -1.4510003e-02\\n',\n",
              " '   3.9016937e-01   2.1453518e-01  -4.4165713e-01  -5.1066717e-03  -1.1007656e-02  -1.5165618e-02\\n',\n",
              " '   4.1124788e-01   2.8775404e-01  -4.9809031e-01  -7.2418504e-03  -1.1467270e-02  -1.4903258e-02\\n',\n",
              " '   4.0254197e-01   2.9649451e-01  -4.7808492e-01  -6.9147864e-03  -1.1163862e-02  -1.4971380e-02\\n',\n",
              " '   4.0828253e-01   2.9199360e-01  -5.0722668e-01  -6.8310687e-03  -1.1290826e-02  -1.5202070e-02\\n',\n",
              " '   4.0855794e-01   2.4322859e-01  -5.1896669e-01  -6.0154595e-03  -1.0973844e-02  -1.5006547e-02\\n',\n",
              " '   4.0328748e-01   2.6786035e-01  -4.8096968e-01  -6.0691326e-03  -1.1006309e-02  -1.5455432e-02\\n',\n",
              " '   4.2372853e-01   3.0269375e-01  -5.0920468e-01  -7.3876117e-03  -1.1316636e-02  -1.4657483e-02\\n',\n",
              " '   4.1355227e-01   3.1809601e-01  -4.8823729e-01  -7.6022443e-03  -1.1212723e-02  -1.4790430e-02\\n',\n",
              " '   4.0450249e-01   3.3215187e-01  -5.1326192e-01  -7.9517426e-03  -1.1088843e-02  -1.4769544e-02\\n',\n",
              " '   3.9174511e-01   3.0844682e-01  -5.2933356e-01  -7.3617780e-03  -1.0935920e-02  -1.5368234e-02\\n',\n",
              " '   4.0964756e-01   3.7906368e-01  -5.6750168e-01  -8.8677194e-03  -1.1031766e-02  -1.4350433e-02\\n',\n",
              " '   3.4317818e-01   2.0105707e-01  -5.5301670e-01  -2.5766417e-03  -1.0648058e-02  -1.7189603e-02\\n',\n",
              " '   2.1670410e-01  -2.4264617e-01  -1.4587643e-02   1.6390797e-02  -7.1030141e-03  -1.2781270e-02\\n',\n",
              " '  -1.6573721e-01  -8.4428320e-01   7.9203798e-01   3.5491592e-02   1.3919098e-02   1.9755534e-02\\n',\n",
              " '  -2.0845830e-01  -1.0376266e+00   5.8445309e-01   3.1806344e-02   1.3145554e-02   2.1322027e-02\\n',\n",
              " '  -1.2848049e-01  -9.3409533e-01   4.2169963e-01   2.5666425e-02   8.8204603e-03   1.6301797e-02\\n',\n",
              " '  -1.5412726e-01  -9.4183077e-01   4.8856313e-01   2.7025928e-02   8.7843694e-03   1.5210958e-02\\n',\n",
              " '  -1.2404545e-01  -9.1371019e-01   4.2226807e-01   2.3764120e-02   7.6141555e-03   1.2953558e-02\\n',\n",
              " '  -1.6703849e-01  -7.9692492e-01   4.1525721e-01   2.1959551e-02   7.7669414e-03   1.0525005e-02\\n',\n",
              " '  -1.6810074e-01  -7.3786914e-01   3.1124234e-01   1.9645788e-02   7.3018115e-03   9.7054814e-03\\n',\n",
              " '  -1.6726103e-01  -7.0399212e-01   3.0242101e-01   1.9467738e-02   6.8175388e-03   9.0920005e-03\\n',\n",
              " '  -1.8225269e-01  -6.9564803e-01   2.9754268e-01   1.8786356e-02   6.3720056e-03   7.4146952e-03\\n',\n",
              " '  -1.8354143e-01  -6.0863716e-01   2.1951701e-01   1.6390895e-02   5.8176146e-03   5.6867663e-03\\n',\n",
              " '  -1.7660097e-01  -5.7939274e-01   1.2818147e-01   1.5579256e-02   5.6333422e-03   4.9669999e-03\\n',\n",
              " '  -1.9838284e-01  -5.3805923e-01   1.1007519e-01   1.4420371e-02   5.6673790e-03   4.5555881e-03\\n',\n",
              " '  -2.0442794e-01  -4.4194554e-01   5.5746927e-02   1.1758198e-02   5.3653749e-03   3.1825088e-03\\n',\n",
              " '  -2.0874016e-01  -4.0493428e-01   5.2963911e-02   1.0790124e-02   5.2266327e-03   2.0104168e-03\\n',\n",
              " '  -2.0966735e-01  -3.4557146e-01   5.2870505e-02   9.5815009e-03   5.3052626e-03   2.1277323e-03\\n',\n",
              " '  -1.7359852e-01  -2.9610180e-01   3.5228176e-02   7.4203191e-03   4.4502591e-03   1.7092131e-03\\n',\n",
              " '  -1.8462963e-01  -2.8124756e-01   6.2642507e-02   7.5665604e-03   4.7835782e-03   1.3046235e-03\\n',\n",
              " '  -1.7769739e-01  -2.7420791e-01   6.0974326e-02   7.3874002e-03   4.5887660e-03   1.5753774e-03\\n',\n",
              " '  -1.6037724e-01  -2.3473714e-01   1.0300851e-01   7.1738357e-03   4.4745194e-03   1.4629142e-03\\n',\n",
              " '  -8.2221939e-02  -2.0394739e-01   7.1668416e-02   5.7489583e-03   2.6718452e-03   8.0342874e-04\\n',\n",
              " '  -1.0101754e-01  -1.9453287e-01   8.4424399e-02   6.0263648e-03   3.0588898e-03   1.2916440e-03\\n',\n",
              " '  -1.1503952e-01  -2.0695895e-01   9.9379826e-02   5.0732422e-03   3.9258974e-03   2.5195905e-03\\n',\n",
              " '  -8.5160720e-02  -1.3666188e-01   8.1392737e-02   3.8661327e-03   2.8322987e-03   1.8226518e-03\\n',\n",
              " '  -1.3172275e-01  -1.6073945e-01   1.0066842e-01   5.2277772e-03   4.1195181e-03   1.4411002e-03\\n',\n",
              " '  -7.8681745e-02  -1.2886623e-01   1.9030221e-01   4.3611783e-03   3.3621212e-03   2.7980544e-03\\n',\n",
              " '   5.2378071e-02   2.8076245e-02   5.3074107e-02  -1.3547461e-03   4.3686694e-04   2.5952053e-03\\n',\n",
              " '   1.4474586e-01   1.5811396e-01  -9.9163014e-02  -4.4696010e-03  -2.3536930e-03   2.1031791e-03\\n',\n",
              " '   5.6523539e-02   8.1991688e-02  -3.8004089e-02  -1.3482250e-03  -7.9349591e-04   1.2505213e-03\\n',\n",
              " '   5.3281276e-02   8.3029733e-03  -9.6005822e-02  -5.4572873e-04  -3.5098738e-04   1.5780511e-03\\n',\n",
              " '   3.2869894e-02   1.3309534e-02  -6.8291638e-02   1.1301784e-03  -5.0950964e-04   1.3905472e-03\\n',\n",
              " '   5.4036840e-03  -5.3342495e-02  -4.4221715e-02   1.1443963e-03  -5.3935800e-04   3.6774706e-04\\n',\n",
              " '   1.1919630e-02  -4.8993127e-02  -2.4560437e-02   1.0083755e-03  -6.7641008e-04   6.9323436e-04\\n',\n",
              " '   2.1487141e-02  -6.8205920e-02   1.9782174e-03   8.6519153e-04  -8.4809202e-04   6.1225182e-04\\n',\n",
              " '   1.3937894e-02  -4.7550567e-02   2.7358747e-03   3.1768296e-04  -7.2193630e-04   1.0613979e-03\\n',\n",
              " '   1.0466695e-02  -1.8313683e-02  -2.2525379e-02   1.8435736e-04  -5.3222460e-04   8.2409971e-04\\n',\n",
              " '   2.3973905e-02  -3.6221781e-02  -1.2475499e-02   3.1038667e-04  -3.9339804e-04   1.6924021e-03\\n',\n",
              " '   2.4871220e-02  -3.7096304e-03  -2.7099011e-02  -3.4089853e-04  -4.8023760e-04   1.0977107e-03\\n',\n",
              " '   4.2454444e-03  -3.4256404e-02   5.9303369e-05   7.8313713e-04  -2.2996143e-05   9.2263105e-04\\n',\n",
              " '   3.5694122e-02  -2.1849237e-02  -1.3621350e-02   4.1997142e-04  -5.9788968e-04   1.1463841e-03\\n',\n",
              " '   4.6848247e-04   2.1604808e-02  -4.9072019e-03   2.3448554e-04   2.9224332e-05   6.7311563e-04\\n',\n",
              " '   1.5804288e-02  -1.1413250e-02   1.3289752e-02   5.3586176e-04  -3.0851318e-04   5.5438390e-04\\n',\n",
              " '  -3.1943325e-02   3.8836080e-02   2.1402472e-02   2.8234362e-04   4.8900880e-04   2.7824856e-04\\n',\n",
              " '   2.4487200e-02  -9.4151228e-02   1.2921794e-02   2.1119682e-03  -5.9762015e-04  -5.7947904e-04\\n',\n",
              " '   3.9866048e-01  -8.2515595e-01  -4.3381997e-03   1.3031108e-02  -9.6170793e-03  -6.5807002e-03\\n',\n",
              " '   4.1679057e-01  -8.4923712e-01   5.2692461e-02   1.3242967e-02  -1.0298634e-02  -6.3733216e-03\\n',\n",
              " '   4.1900133e-01  -8.4590202e-01   1.0352799e-01   1.3159866e-02  -1.0327796e-02  -6.4055386e-03\\n',\n",
              " '   4.2966165e-01  -8.1785244e-01   8.4682707e-02   1.2449773e-02  -1.0353651e-02  -6.3686500e-03\\n',\n",
              " '   4.3673379e-01  -8.1996133e-01   6.5842715e-02   1.2317477e-02  -1.0553723e-02  -6.6124748e-03\\n',\n",
              " '   4.2459082e-01  -7.6979101e-01   5.5301238e-02   1.2108702e-02  -1.0688346e-02  -6.9451126e-03\\n',\n",
              " '   4.0941188e-01  -7.7794897e-01   5.5411357e-02   1.2352395e-02  -1.0521769e-02  -7.2056078e-03\\n',\n",
              " '   4.0386819e-01  -7.7551286e-01   5.4531004e-02   1.2392111e-02  -1.0401024e-02  -7.4817008e-03\\n',\n",
              " '   4.0609181e-01  -7.8166310e-01   3.1075892e-02   1.2367022e-02  -1.0451903e-02  -7.6593689e-03\\n',\n",
              " '   3.9902629e-01  -7.5114487e-01   5.1913506e-02   1.2399938e-02  -1.0251657e-02  -7.7074717e-03\\n',\n",
              " '   3.9319893e-01  -7.5894638e-01   1.9747132e-02   1.2244348e-02  -9.6881268e-03  -7.3630666e-03\\n',\n",
              " '   4.1767037e-01  -7.1898200e-01  -4.6883911e-02   1.0251383e-02  -1.0112228e-02  -6.5303538e-03\\n',\n",
              " '   3.8898066e-01  -7.1304288e-01   3.2965150e-02   1.1242798e-02  -9.7456924e-03  -6.9231610e-03\\n',\n",
              " '   3.9349918e-01  -7.2135813e-01   2.1188557e-02   1.0978143e-02  -9.7208719e-03  -6.9049574e-03\\n',\n",
              " '   4.0591172e-01  -7.0704375e-01   3.4645040e-02   1.0805381e-02  -1.0006267e-02  -6.7052655e-03\\n',\n",
              " '   4.1457037e-01  -7.0787819e-01   5.7660846e-02   1.0632040e-02  -9.9860115e-03  -6.6819525e-03\\n',\n",
              " '   4.1955804e-01  -6.9300670e-01   8.7555293e-02   1.0462997e-02  -9.8317938e-03  -6.5102997e-03\\n',\n",
              " '   4.3674246e-01  -6.4883756e-01   7.8647967e-02   9.7200427e-03  -1.0093992e-02  -6.0152123e-03\\n',\n",
              " '   4.2408390e-01  -6.7312951e-01   6.2491953e-02   9.8698127e-03  -9.9796146e-03  -6.2521584e-03\\n',\n",
              " '   4.3751103e-01  -6.5571001e-01   4.0118995e-02   9.0027676e-03  -1.0213878e-02  -5.8964313e-03\\n',\n",
              " '   4.4186549e-01  -6.5303853e-01  -6.2465060e-03   8.9712606e-03  -1.0325779e-02  -6.2017883e-03\\n',\n",
              " '   4.4963893e-01  -6.1932214e-01   2.2961605e-03   8.5380009e-03  -1.0505270e-02  -5.9412111e-03\\n',\n",
              " '   4.5377962e-01  -5.6631584e-01  -2.5253238e-02   7.8752100e-03  -1.0583998e-02  -5.9807105e-03\\n',\n",
              " '   4.5379107e-01  -5.5962297e-01  -5.5876220e-02   6.9395039e-03  -1.0605096e-02  -5.4686407e-03\\n',\n",
              " '   4.5708951e-01  -5.1577872e-01  -7.3248327e-02   6.4095581e-03  -1.0680424e-02  -5.2291120e-03\\n',\n",
              " '   4.6923741e-01  -5.1392042e-01  -6.8177262e-02   6.0959518e-03  -1.0881952e-02  -4.8805329e-03\\n',\n",
              " '   4.8031411e-01  -4.7901884e-01  -8.9253796e-02   5.5925631e-03  -1.0987501e-02  -4.9279224e-03\\n',\n",
              " '   4.8264409e-01  -5.0290602e-01  -9.6051217e-02   5.6607071e-03  -1.0908567e-02  -5.1476188e-03\\n',\n",
              " '   4.9221061e-01  -4.5834284e-01  -1.5203119e-01   4.5967780e-03  -1.1155587e-02  -5.0775090e-03\\n',\n",
              " '   4.9090690e-01  -4.4761847e-01  -1.5167564e-01   4.4555534e-03  -1.1197207e-02  -4.8859594e-03\\n',\n",
              " '   4.9973654e-01  -4.2276385e-01  -1.5561503e-01   3.9113102e-03  -1.1235501e-02  -4.9402968e-03\\n',\n",
              " '   5.0450882e-01  -3.8154328e-01  -1.7509206e-01   3.3553060e-03  -1.1408084e-02  -5.2690029e-03\\n',\n",
              " '   4.8864931e-01  -4.3103550e-01  -1.3150355e-01   4.3863923e-03  -1.1520102e-02  -5.6009156e-03\\n',\n",
              " '   5.0667381e-01  -4.1759433e-01  -1.3789883e-01   4.0463432e-03  -1.1781354e-02  -5.4850971e-03\\n',\n",
              " '   4.9679022e-01  -3.9686833e-01  -1.2542368e-01   4.2196548e-03  -1.1658150e-02  -5.5671106e-03\\n',\n",
              " '   5.0809712e-01  -4.0742510e-01  -1.3289708e-01   4.0978299e-03  -1.1773564e-02  -5.6456853e-03\\n',\n",
              " '   5.0812470e-01  -3.9213507e-01  -1.2998193e-01   3.2734966e-03  -1.1915536e-02  -5.4727871e-03\\n',\n",
              " '   5.0789788e-01  -3.8780836e-01  -1.2418259e-01   2.8987440e-03  -1.1821665e-02  -5.2030156e-03\\n',\n",
              " '   5.1069756e-01  -3.6597195e-01  -1.0389165e-01   3.0994308e-03  -1.1876788e-02  -5.4944356e-03\\n',\n",
              " '   5.0513312e-01  -3.4936397e-01  -1.1347686e-01   2.8307258e-03  -1.1822475e-02  -5.6759260e-03\\n',\n",
              " '   5.2242123e-01  -3.4308229e-01  -1.5506360e-01   2.0986537e-03  -1.2164630e-02  -5.3482095e-03\\n',\n",
              " '   5.3947403e-01  -3.2007685e-01  -1.7087889e-01   1.3245120e-03  -1.2265363e-02  -5.0436222e-03\\n',\n",
              " '   5.5620044e-01  -2.8258739e-01  -1.8411279e-01   5.4362800e-04  -1.2410868e-02  -5.3116777e-03\\n',\n",
              " '   5.4620754e-01  -2.6462787e-01  -1.7542964e-01   7.0536165e-04  -1.2355020e-02  -5.2390522e-03\\n',\n",
              " '   5.4899892e-01  -2.8671749e-01  -1.9111477e-01   4.1933558e-04  -1.2559506e-02  -4.9640135e-03\\n']"
            ]
          },
          "metadata": {},
          "execution_count": 86
        }
      ]
    },
    {
      "cell_type": "code",
      "source": [],
      "metadata": {
        "id": "UpWGFIwi4HVC"
      },
      "execution_count": null,
      "outputs": []
    },
    {
      "cell_type": "code",
      "source": [],
      "metadata": {
        "id": "MmADp5qx4HYK"
      },
      "execution_count": null,
      "outputs": []
    },
    {
      "cell_type": "code",
      "source": [
        "\n"
      ],
      "metadata": {
        "id": "fiNUTPbrpu4o"
      },
      "execution_count": null,
      "outputs": []
    },
    {
      "cell_type": "code",
      "source": [],
      "metadata": {
        "id": "jUPRpvpwpu7Y"
      },
      "execution_count": null,
      "outputs": []
    },
    {
      "cell_type": "code",
      "source": [],
      "metadata": {
        "id": "KmVL2X1ppu-H"
      },
      "execution_count": null,
      "outputs": []
    },
    {
      "cell_type": "code",
      "source": [],
      "metadata": {
        "id": "cAt6aEcCc3k1"
      },
      "execution_count": null,
      "outputs": []
    },
    {
      "cell_type": "markdown",
      "source": [
        "## REGRESS-OUT FUNCTION:"
      ],
      "metadata": {
        "id": "SpBebX8BmrUV"
      }
    },
    {
      "cell_type": "markdown",
      "source": [
        "# New Section"
      ],
      "metadata": {
        "id": "8EycBX1lICli"
      }
    },
    {
      "cell_type": "code",
      "source": [
        "# In this function data is the raw data with the shape of (I,J,K,signal dimention) and motion is a matrix of (signal dimension, 6) dimension \n",
        "\n",
        "def Regressout(data, MOTION,CSF_mask )#, CSF_MASK, WHITE_MASK): #data is a 4d data\n",
        "\n",
        "      # np.set_printoptions(precision=5)\n",
        "      from sklearn.linear_model import LinearRegression\n",
        "\n",
        "\n",
        "      D = data\n",
        "\n",
        "      from sklearn.linear_model import LinearRegression\n",
        "\n",
        "      v1 = CSF_mask.mean(axis=1).values\n",
        "\n",
        "      \n",
        "      v2 = MOTION.mean(axis=1).value\n",
        "      # v3 = WHITE_MASK.mean(axis=1).values\n",
        "\n",
        "\n",
        "\n",
        "      # v1 = CSF_MASK.mean(axis=1).values\n",
        "\n",
        "\n",
        "      \n",
        "\n",
        "      # V1 = v1.reshape((-1,1))\n",
        "      # V3 = v3.reshape((-1,1))\n",
        "\n",
        "      V1 = v1.reshape((-1,1))\n",
        "      V2 = v2.reshape((-1,1))\n",
        "      # V3 = v3.reshape((-1,1))\n",
        "      V = V1+V2 #+V3\n",
        "\n",
        "\n",
        "      # V = \n",
        "\n",
        "\n",
        "      I = data.shape[0]\n",
        "      J = data.shape[1]\n",
        "      K = data.shape[2]\n",
        "      \n",
        "\n",
        "      for i in range(I):\n",
        "        for j in range(J):\n",
        "          for k in range(K):\n",
        "\n",
        "                y = data[i,j,k,:]\n",
        "                model = LinearRegression()\n",
        "                model.fit(V,y)\n",
        "                beta = model.coef_\n",
        "                # beta = np.around(beta,100)\n",
        "\n",
        "                # print(np.corrcoef(y,V1))\n",
        "                # c = model.intercept_\n",
        "\n",
        "          # .reshape((-1,1))\n",
        "          # kk = d[i,j,k,:].reshape(-1,1) -  beta*V2\n",
        "                D[i,j,k,:] = (data[i,j,k,:].reshape(-1,1) -  beta*V).reshape(1,-1)[0]\n",
        "          # print('beta is : {0} and \\n regressour data is {1} and {2}\\n and raw data is{2} \\n'.format(beta, kk,D[i,j,k,:],d[i,j,k,:]))\n",
        "          # print(beta)\n",
        "          return(D)\n",
        "\n",
        "\n",
        "#1/ MIXED_DATA['rumination'] .values\n",
        "\n",
        "# np.corrcoef(V1,y)\n",
        "\n"
      ],
      "metadata": {
        "id": "OkL2HBOAxaf_"
      },
      "execution_count": null,
      "outputs": []
    },
    {
      "cell_type": "code",
      "source": [],
      "metadata": {
        "id": "im17Vmwuotau"
      },
      "execution_count": null,
      "outputs": []
    },
    {
      "cell_type": "code",
      "source": [],
      "metadata": {
        "id": "zTuRG9H_5hqW"
      },
      "execution_count": null,
      "outputs": []
    },
    {
      "cell_type": "code",
      "source": [],
      "metadata": {
        "id": "7FHFBOGu5htR"
      },
      "execution_count": null,
      "outputs": []
    },
    {
      "cell_type": "code",
      "source": [],
      "metadata": {
        "id": "sYomNw6g5hwA"
      },
      "execution_count": null,
      "outputs": []
    },
    {
      "cell_type": "code",
      "source": [
        "\n"
      ],
      "metadata": {
        "id": "laW8eLgD5hys"
      },
      "execution_count": null,
      "outputs": []
    },
    {
      "cell_type": "code",
      "source": [
        "# CSF_SUB1_REST1 = nib.load( \"/content/gdrive/MyDrive/NIM project/Coding and Data/wc3art_mean_uarun-7.nii\")\n",
        "# CSF_SUB1_REST1 = # mask-2d MATRIX\n"
      ],
      "metadata": {
        "id": "f7OUzGFTc3fU"
      },
      "execution_count": null,
      "outputs": []
    },
    {
      "cell_type": "code",
      "source": [],
      "metadata": {
        "id": "UW_hxsR4pu1w"
      },
      "execution_count": null,
      "outputs": []
    },
    {
      "cell_type": "code",
      "source": [],
      "metadata": {
        "id": "9rsWFnuA5qwD"
      },
      "execution_count": null,
      "outputs": []
    },
    {
      "cell_type": "code",
      "source": [],
      "metadata": {
        "id": "YbtsB9io5wIV"
      },
      "execution_count": null,
      "outputs": []
    },
    {
      "cell_type": "code",
      "source": [],
      "metadata": {
        "id": "4iAcrAJj5wLF"
      },
      "execution_count": null,
      "outputs": []
    },
    {
      "cell_type": "code",
      "source": [],
      "metadata": {
        "id": "JC2UGT685wN0"
      },
      "execution_count": null,
      "outputs": []
    },
    {
      "cell_type": "code",
      "source": [
        "128 s > 1/128 htz>> for low frequency= cut off"
      ],
      "metadata": {
        "id": "TXEGsejx5wQs"
      },
      "execution_count": null,
      "outputs": []
    },
    {
      "cell_type": "code",
      "source": [],
      "metadata": {
        "id": "gCG1G1dXiuwP"
      },
      "execution_count": null,
      "outputs": []
    },
    {
      "cell_type": "code",
      "source": [],
      "metadata": {
        "id": "UstIRE-7iu1b"
      },
      "execution_count": null,
      "outputs": []
    },
    {
      "cell_type": "code",
      "source": [],
      "metadata": {
        "id": "P-3-Jzmsiu7u"
      },
      "execution_count": null,
      "outputs": []
    },
    {
      "cell_type": "code",
      "source": [],
      "metadata": {
        "id": "KgzGUOTLiu-V"
      },
      "execution_count": null,
      "outputs": []
    },
    {
      "cell_type": "markdown",
      "source": [
        "# New Section"
      ],
      "metadata": {
        "id": "37eOt7oHIFDT"
      }
    },
    {
      "cell_type": "code",
      "source": [
        "# In this function data is the raw data with the shape of (I,J,K,signal dimention) and motion is a matrix of (signal dimension, 6) dimension \n",
        "\n",
        "def Regressout(data, MOTION ) :#, CSF_MASK, WHITE_MASK): #data is a 4d data\n",
        "\n",
        "      # np.set_printoptions(precision=5)\n",
        "      from sklearn.linear_model import LinearRegression\n",
        "\n",
        "\n",
        "      D = data\n",
        "\n",
        "      from sklearn.linear_model import LinearRegression\n",
        "\n",
        "      #v1 = CSF_mask.mean(axis=1).values\n",
        "\n",
        "      \n",
        "      v2 = MOTION.mean(axis=1).value\n",
        "      # v3 = WHITE_MASK.mean(axis=1).values\n",
        "\n",
        "\n",
        "\n",
        "      # v1 = CSF_MASK.mean(axis=1).values\n",
        "\n",
        "\n",
        "      \n",
        "\n",
        "      # V1 = v1.reshape((-1,1))\n",
        "      # V3 = v3.reshape((-1,1))\n",
        "\n",
        "      #V1 = v1.reshape((-1,1))\n",
        "      V2 = v2.reshape((-1,1))\n",
        "      # V3 = v3.reshape((-1,1))\n",
        "      V = V2 #+V3+ V1\n",
        "\n",
        "\n",
        "      # V = \n",
        "\n",
        "\n",
        "      I = data.shape[0]\n",
        "      J = data.shape[1]\n",
        "      K = data.shape[2]\n",
        "      \n",
        "\n",
        "      for i in range(I):\n",
        "        for j in range(J):\n",
        "          for k in range(K):\n",
        "\n",
        "                y = data[i,j,k,:]\n",
        "                model = LinearRegression()\n",
        "                model.fit(V,y)\n",
        "                beta = model.coef_\n",
        "                # beta = np.around(beta,100)\n",
        "\n",
        "                # print(np.corrcoef(y,V1))\n",
        "                # c = model.intercept_\n",
        "\n",
        "          # .reshape((-1,1))\n",
        "          # kk = d[i,j,k,:].reshape(-1,1) -  beta*V2\n",
        "                D[i,j,k,:] = (data[i,j,k,:].reshape(-1,1) -  beta*V).reshape(1,-1)[0]\n",
        "          # print('beta is : {0} and \\n regressour data is {1} and {2}\\n and raw data is{2} \\n'.format(beta, kk,D[i,j,k,:],d[i,j,k,:]))\n",
        "          # print(beta)\n",
        "          return(D)\n",
        "\n",
        "\n",
        "#1/ MIXED_DATA['rumination'] .values\n",
        "\n",
        "# np.corrcoef(V1,y)\n",
        "\n"
      ],
      "metadata": {
        "id": "Z-z5-N89IGB3"
      },
      "execution_count": null,
      "outputs": []
    },
    {
      "cell_type": "code",
      "source": [
        "from scipy import signal\n",
        "import scipy \n",
        "import nibabel as nib\n",
        "import numpy as np\n",
        "import nilearn as nl \n",
        "import os \n",
        "from nilearn.maskers import NiftiMasker\n",
        "import nilearn.image as image\n",
        "from nilearn.plotting import plot_roi, plot_epi, show\n",
        "import matplotlib.pyplot as plt\n",
        "%matplotlib inline\n",
        "import sklearn"
      ],
      "metadata": {
        "id": "rX1bgff8IMhB"
      },
      "execution_count": null,
      "outputs": []
    },
    {
      "cell_type": "code",
      "source": [
        "\n",
        "rest1 = data.get_fdata()"
      ],
      "metadata": {
        "id": "yEU7e2X0IP9A"
      },
      "execution_count": null,
      "outputs": []
    },
    {
      "cell_type": "code",
      "source": [
        "# import pandas as pd\n",
        "# df = pd.read_csv('C:/Users/Reyhan/Desktop/rp_arun-7.txt', sep='  ', header=None)\n",
        "# df.to_csv('C:/Users/Reyhan/Desktop/rp_arun-7.csv', index = None)\n",
        "# MOTION = pd.read_csv('C:/Users/Reyhan/Desktop/rp_arun-7.csv')"
      ],
      "metadata": {
        "id": "eI22Ib2CIUXD"
      },
      "execution_count": null,
      "outputs": []
    },
    {
      "cell_type": "code",
      "source": [
        "# regressouted_signal = Regressout(rest1 ,MOTION )\n",
        "regressouted_signal = D.copy()\n",
        "\n",
        "\n"
      ],
      "metadata": {
        "id": "VaWTC9TqIap1"
      },
      "execution_count": null,
      "outputs": []
    },
    {
      "cell_type": "code",
      "source": [
        "# from sklearn.preprocessing import MinMaxScaler\n",
        "# scaler = MinMaxScaler(feature_range=(0.00000001, 1))\n",
        "\n",
        "\n",
        "# NORMALAIZED_REST = rest_detrend.copy()\n",
        "\n",
        "# I = rest_detrend.shape[0]\n",
        "# J = rest_detrend.shape[1]\n",
        "# K = rest_detrend.shape[2]\n",
        "# for i in range(I):\n",
        "#     for j in range(J):\n",
        "#         for k in range(K):\n",
        "\n",
        "#             scaler.fit(rest_detrend[i,j,k,:].reshape(-1,1))\n",
        "            \n",
        "# #             NORMALAIZED_REST[i,j,k,:] = \n",
        "#             NORMALAIZED_REST[i,j,k,:] = scaler.transform(rest_detrend[i,j,k,:].reshape(-1,1)).flatten()\n",
        "\n",
        "# #              print(rest_detrend[i,j,k,:])\n",
        "\n",
        "                \n",
        "                \n"
      ],
      "metadata": {
        "id": "dF0Nq6qaL3pl"
      },
      "execution_count": null,
      "outputs": []
    },
    {
      "cell_type": "code",
      "source": [
        "n_row= 61*61*73\n",
        "\n",
        "n_col = 170\n",
        "\n",
        "d1 = np.reshape(regressouted_signal, (n_row,n_col))"
      ],
      "metadata": {
        "id": "RqyYGhTWIeqi"
      },
      "execution_count": null,
      "outputs": []
    },
    {
      "cell_type": "code",
      "source": [
        "\n",
        "D_reshaped = nl.signal.clean(d1, runs=None, detrend=True, standardize='zscore', sample_mask=None, \n",
        "                     confounds=None, standardize_confounds=True, filter='butterworth',\n",
        "                     low_pass=None, high_pass=None, t_r=2.43, ensure_finite=False)"
      ],
      "metadata": {
        "id": "0vjTD5YmItzn"
      },
      "execution_count": null,
      "outputs": []
    },
    {
      "cell_type": "code",
      "source": [
        "plt.figure(figsize=(7, 5))\n",
        "plt.plot(D_reshaped[40000:40300][:])\n",
        "plt.figure(figsize=(7, 5))\n",
        "plt.plot(D_reshaped[202:500][:])\n",
        "plt.figure(figsize=(7, 5))\n",
        "plt.plot(D_reshaped[1000:1500][:])\n",
        "\n",
        "plt.xlabel('Time [TRs]', fontsize=16)\n",
        "plt.ylabel('Intensity', fontsize=16)\n",
        "# plt.xlim(0, 150)\n",
        "plt.subplots_adjust(bottom=.12, top=.95, right=.95, left=.12)\n",
        "\n",
        "plt.show()"
      ],
      "metadata": {
        "id": "QW1uIg64I3cT",
        "colab": {
          "base_uri": "https://localhost:8080/",
          "height": 972
        },
        "outputId": "51d50413-6e14-4b1e-f0c3-54d29a747836"
      },
      "execution_count": null,
      "outputs": [
        {
          "output_type": "display_data",
          "data": {
            "text/plain": [
              "<Figure size 504x360 with 1 Axes>"
            ],
            "image/png": "[encoded data removed]"
          },
          "metadata": {
            "needs_background": "light"
          }
        },
        {
          "output_type": "display_data",
          "data": {
            "text/plain": [
              "<Figure size 504x360 with 1 Axes>"
            ],
            "image/png": "[encoded data removed]"
          },
          "metadata": {
            "needs_background": "light"
          }
        },
        {
          "output_type": "display_data",
          "data": {
            "text/plain": [
              "<Figure size 504x360 with 1 Axes>"
            ],
            "image/png": "[encoded data removed]"
          },
          "metadata": {
            "needs_background": "light"
          }
        }
      ]
    },
    {
      "cell_type": "code",
      "source": [
        "REST = np.reshape(D_reshaped, (61, 73, 61, 170))"
      ],
      "metadata": {
        "id": "WAYKPRpqI-FJ"
      },
      "execution_count": null,
      "outputs": []
    },
    {
      "cell_type": "code",
      "source": [
        "from nilearn.maskers import NiftiMasker\n",
        "\n",
        "# we can change mask_strategy with : whole-brain-template > uses MNI , gm-template > for gray matter\n",
        "nifti_masker = NiftiMasker(standardize=False, mask_strategy='epi',\n",
        "                           memory=\"nilearn_cache\", memory_level=2,\n",
        "                           smoothing_fwhm=8, verbose=True, detrend= False)\n",
        "\n",
        "nifti_masker.fit(REST)\n",
        "mask_img = nifti_masker.mask_img_\n",
        "nifti_masker.fit(REST)\n",
        "fmri_masked = nifti_masker.transform(REST)"
      ],
      "metadata": {
        "id": "phYNUbXnJDIj",
        "colab": {
          "base_uri": "https://localhost:8080/",
          "height": 1000
        },
        "outputId": "25beda00-6250-4922-8754-a5f6180fa845"
      },
      "execution_count": null,
      "outputs": [
        {
          "output_type": "stream",
          "name": "stderr",
          "text": [
            "IOPub data rate exceeded.\n",
            "The notebook server will temporarily stop sending output\n",
            "to the client in order to avoid crashing it.\n",
            "To change this limit, set the config variable\n",
            "`--NotebookApp.iopub_data_rate_limit`.\n",
            "\n",
            "Current values:\n",
            "NotebookApp.iopub_data_rate_limit=1000000.0 (bytes/sec)\n",
            "NotebookApp.rate_limit_window=3.0 (secs)\n",
            "\n"
          ]
        },
        {
          "output_type": "stream",
          "name": "stdout",
          "text": [
            "________________________________________________________________________________\n",
            "[Memory] Calling nilearn.masking.compute_epi_mask...\n",
            "compute_epi_mask(array([[[[-0.695346, ..., -0.694067],\n",
            "         ...,\n",
            "         [-0.695346, ..., -0.694067]],\n",
            "\n",
            "        ...,\n",
            "\n",
            "        [[-0.695325, ..., -0.694071],\n",
            "         ...,\n",
            "         [-0.695324, ..., -0.694071]]],\n",
            "\n",
            "\n",
            "       ...,\n",
            "\n",
            "\n",
            "       [[[-0.694059, ..., -0.694333],\n",
            "         ...,\n",
            "         [-0.694058, ..., -0.694333]],\n",
            "\n",
            "        ...,\n",
            "\n",
            "        [[-0.694037, ..., -0.694337],\n",
            "         ...,\n",
            "         [-0.694037, ..., -0.694337]]]]), verbose=0)\n"
          ]
        },
        {
          "output_type": "error",
          "ename": "TypeError",
          "evalue": "ignored",
          "traceback": [
            "\u001b[0;31m---------------------------------------------------------------------------\u001b[0m",
            "\u001b[0;31mTypeError\u001b[0m                                 Traceback (most recent call last)",
            "\u001b[0;32m<ipython-input-25-6ffabf55aaaa>\u001b[0m in \u001b[0;36m<module>\u001b[0;34m\u001b[0m\n\u001b[1;32m      6\u001b[0m                            smoothing_fwhm=8, verbose=True, detrend= False)\n\u001b[1;32m      7\u001b[0m \u001b[0;34m\u001b[0m\u001b[0m\n\u001b[0;32m----> 8\u001b[0;31m \u001b[0mnifti_masker\u001b[0m\u001b[0;34m.\u001b[0m\u001b[0mfit\u001b[0m\u001b[0;34m(\u001b[0m\u001b[0mREST\u001b[0m\u001b[0;34m)\u001b[0m\u001b[0;34m\u001b[0m\u001b[0;34m\u001b[0m\u001b[0m\n\u001b[0m\u001b[1;32m      9\u001b[0m \u001b[0mmask_img\u001b[0m \u001b[0;34m=\u001b[0m \u001b[0mnifti_masker\u001b[0m\u001b[0;34m.\u001b[0m\u001b[0mmask_img_\u001b[0m\u001b[0;34m\u001b[0m\u001b[0;34m\u001b[0m\u001b[0m\n\u001b[1;32m     10\u001b[0m \u001b[0mnifti_masker\u001b[0m\u001b[0;34m.\u001b[0m\u001b[0mfit\u001b[0m\u001b[0;34m(\u001b[0m\u001b[0mREST\u001b[0m\u001b[0;34m)\u001b[0m\u001b[0;34m\u001b[0m\u001b[0;34m\u001b[0m\u001b[0m\n",
            "\u001b[0;32m/usr/local/lib/python3.8/dist-packages/nilearn/maskers/nifti_masker.py\u001b[0m in \u001b[0;36mfit\u001b[0;34m(self, imgs, y)\u001b[0m\n\u001b[1;32m    450\u001b[0m             \u001b[0;32mif\u001b[0m \u001b[0mself\u001b[0m\u001b[0;34m.\u001b[0m\u001b[0mverbose\u001b[0m \u001b[0;34m>\u001b[0m \u001b[0;36m0\u001b[0m\u001b[0;34m:\u001b[0m\u001b[0;34m\u001b[0m\u001b[0;34m\u001b[0m\u001b[0m\n\u001b[1;32m    451\u001b[0m                 \u001b[0mprint\u001b[0m\u001b[0;34m(\u001b[0m\u001b[0;34mf'[{self.__class__.__name__}.fit] Computing the mask'\u001b[0m\u001b[0;34m)\u001b[0m\u001b[0;34m\u001b[0m\u001b[0;34m\u001b[0m\u001b[0m\n\u001b[0;32m--> 452\u001b[0;31m             self.mask_img_ = self._cache(compute_mask, ignore=['verbose'])(\n\u001b[0m\u001b[1;32m    453\u001b[0m                 \u001b[0mimgs\u001b[0m\u001b[0;34m,\u001b[0m \u001b[0mverbose\u001b[0m\u001b[0;34m=\u001b[0m\u001b[0mmax\u001b[0m\u001b[0;34m(\u001b[0m\u001b[0;36m0\u001b[0m\u001b[0;34m,\u001b[0m \u001b[0mself\u001b[0m\u001b[0;34m.\u001b[0m\u001b[0mverbose\u001b[0m \u001b[0;34m-\u001b[0m \u001b[0;36m1\u001b[0m\u001b[0;34m)\u001b[0m\u001b[0;34m,\u001b[0m \u001b[0;34m**\u001b[0m\u001b[0mmask_args\u001b[0m\u001b[0;34m\u001b[0m\u001b[0;34m\u001b[0m\u001b[0m\n\u001b[1;32m    454\u001b[0m             )\n",
            "\u001b[0;32m/usr/local/lib/python3.8/dist-packages/joblib/memory.py\u001b[0m in \u001b[0;36m__call__\u001b[0;34m(self, *args, **kwargs)\u001b[0m\n\u001b[1;32m    592\u001b[0m \u001b[0;34m\u001b[0m\u001b[0m\n\u001b[1;32m    593\u001b[0m     \u001b[0;32mdef\u001b[0m \u001b[0m__call__\u001b[0m\u001b[0;34m(\u001b[0m\u001b[0mself\u001b[0m\u001b[0;34m,\u001b[0m \u001b[0;34m*\u001b[0m\u001b[0margs\u001b[0m\u001b[0;34m,\u001b[0m \u001b[0;34m**\u001b[0m\u001b[0mkwargs\u001b[0m\u001b[0;34m)\u001b[0m\u001b[0;34m:\u001b[0m\u001b[0;34m\u001b[0m\u001b[0;34m\u001b[0m\u001b[0m\n\u001b[0;32m--> 594\u001b[0;31m         \u001b[0;32mreturn\u001b[0m \u001b[0mself\u001b[0m\u001b[0;34m.\u001b[0m\u001b[0m_cached_call\u001b[0m\u001b[0;34m(\u001b[0m\u001b[0margs\u001b[0m\u001b[0;34m,\u001b[0m \u001b[0mkwargs\u001b[0m\u001b[0;34m)\u001b[0m\u001b[0;34m[\u001b[0m\u001b[0;36m0\u001b[0m\u001b[0;34m]\u001b[0m\u001b[0;34m\u001b[0m\u001b[0;34m\u001b[0m\u001b[0m\n\u001b[0m\u001b[1;32m    595\u001b[0m \u001b[0;34m\u001b[0m\u001b[0m\n\u001b[1;32m    596\u001b[0m     \u001b[0;32mdef\u001b[0m \u001b[0m__getstate__\u001b[0m\u001b[0;34m(\u001b[0m\u001b[0mself\u001b[0m\u001b[0;34m)\u001b[0m\u001b[0;34m:\u001b[0m\u001b[0;34m\u001b[0m\u001b[0;34m\u001b[0m\u001b[0m\n",
            "\u001b[0;32m/usr/local/lib/python3.8/dist-packages/joblib/memory.py\u001b[0m in \u001b[0;36m_cached_call\u001b[0;34m(self, args, kwargs, shelving)\u001b[0m\n\u001b[1;32m    535\u001b[0m \u001b[0;34m\u001b[0m\u001b[0m\n\u001b[1;32m    536\u001b[0m         \u001b[0;32mif\u001b[0m \u001b[0mmust_call\u001b[0m\u001b[0;34m:\u001b[0m\u001b[0;34m\u001b[0m\u001b[0;34m\u001b[0m\u001b[0m\n\u001b[0;32m--> 537\u001b[0;31m             \u001b[0mout\u001b[0m\u001b[0;34m,\u001b[0m \u001b[0mmetadata\u001b[0m \u001b[0;34m=\u001b[0m \u001b[0mself\u001b[0m\u001b[0;34m.\u001b[0m\u001b[0mcall\u001b[0m\u001b[0;34m(\u001b[0m\u001b[0;34m*\u001b[0m\u001b[0margs\u001b[0m\u001b[0;34m,\u001b[0m \u001b[0;34m**\u001b[0m\u001b[0mkwargs\u001b[0m\u001b[0;34m)\u001b[0m\u001b[0;34m\u001b[0m\u001b[0;34m\u001b[0m\u001b[0m\n\u001b[0m\u001b[1;32m    538\u001b[0m             \u001b[0;32mif\u001b[0m \u001b[0mself\u001b[0m\u001b[0;34m.\u001b[0m\u001b[0mmmap_mode\u001b[0m \u001b[0;32mis\u001b[0m \u001b[0;32mnot\u001b[0m \u001b[0;32mNone\u001b[0m\u001b[0;34m:\u001b[0m\u001b[0;34m\u001b[0m\u001b[0;34m\u001b[0m\u001b[0m\n\u001b[1;32m    539\u001b[0m                 \u001b[0;31m# Memmap the output at the first call to be consistent with\u001b[0m\u001b[0;34m\u001b[0m\u001b[0;34m\u001b[0m\u001b[0;34m\u001b[0m\u001b[0m\n",
            "\u001b[0;32m/usr/local/lib/python3.8/dist-packages/joblib/memory.py\u001b[0m in \u001b[0;36mcall\u001b[0;34m(self, *args, **kwargs)\u001b[0m\n\u001b[1;32m    777\u001b[0m         \u001b[0;32mif\u001b[0m \u001b[0mself\u001b[0m\u001b[0;34m.\u001b[0m\u001b[0m_verbose\u001b[0m \u001b[0;34m>\u001b[0m \u001b[0;36m0\u001b[0m\u001b[0;34m:\u001b[0m\u001b[0;34m\u001b[0m\u001b[0;34m\u001b[0m\u001b[0m\n\u001b[1;32m    778\u001b[0m             \u001b[0mprint\u001b[0m\u001b[0;34m(\u001b[0m\u001b[0mformat_call\u001b[0m\u001b[0;34m(\u001b[0m\u001b[0mself\u001b[0m\u001b[0;34m.\u001b[0m\u001b[0mfunc\u001b[0m\u001b[0;34m,\u001b[0m \u001b[0margs\u001b[0m\u001b[0;34m,\u001b[0m \u001b[0mkwargs\u001b[0m\u001b[0;34m)\u001b[0m\u001b[0;34m)\u001b[0m\u001b[0;34m\u001b[0m\u001b[0;34m\u001b[0m\u001b[0m\n\u001b[0;32m--> 779\u001b[0;31m         \u001b[0moutput\u001b[0m \u001b[0;34m=\u001b[0m \u001b[0mself\u001b[0m\u001b[0;34m.\u001b[0m\u001b[0mfunc\u001b[0m\u001b[0;34m(\u001b[0m\u001b[0;34m*\u001b[0m\u001b[0margs\u001b[0m\u001b[0;34m,\u001b[0m \u001b[0;34m**\u001b[0m\u001b[0mkwargs\u001b[0m\u001b[0;34m)\u001b[0m\u001b[0;34m\u001b[0m\u001b[0;34m\u001b[0m\u001b[0m\n\u001b[0m\u001b[1;32m    780\u001b[0m         self.store_backend.dump_item(\n\u001b[1;32m    781\u001b[0m             [func_id, args_id], output, verbose=self._verbose)\n",
            "\u001b[0;32m/usr/local/lib/python3.8/dist-packages/nilearn/masking.py\u001b[0m in \u001b[0;36mcompute_epi_mask\u001b[0;34m(epi_img, lower_cutoff, upper_cutoff, connected, opening, exclude_zeros, ensure_finite, target_affine, target_shape, memory, verbose)\u001b[0m\n\u001b[1;32m    270\u001b[0m     \u001b[0;32mfrom\u001b[0m \u001b[0;34m.\u001b[0m\u001b[0mimage\u001b[0m\u001b[0;34m.\u001b[0m\u001b[0mimage\u001b[0m \u001b[0;32mimport\u001b[0m \u001b[0m_compute_mean\u001b[0m\u001b[0;34m\u001b[0m\u001b[0;34m\u001b[0m\u001b[0m\n\u001b[1;32m    271\u001b[0m     \u001b[0mmean_epi\u001b[0m\u001b[0;34m,\u001b[0m \u001b[0maffine\u001b[0m \u001b[0;34m=\u001b[0m\u001b[0;31m \u001b[0m\u001b[0;31m\\\u001b[0m\u001b[0;34m\u001b[0m\u001b[0;34m\u001b[0m\u001b[0m\n\u001b[0;32m--> 272\u001b[0;31m         cache(_compute_mean, memory)(epi_img, target_affine=target_affine,\n\u001b[0m\u001b[1;32m    273\u001b[0m                                      \u001b[0mtarget_shape\u001b[0m\u001b[0;34m=\u001b[0m\u001b[0mtarget_shape\u001b[0m\u001b[0;34m,\u001b[0m\u001b[0;34m\u001b[0m\u001b[0;34m\u001b[0m\u001b[0m\n\u001b[1;32m    274\u001b[0m                                      smooth=(1 if opening else False))\n",
            "\u001b[0;32m/usr/local/lib/python3.8/dist-packages/joblib/memory.py\u001b[0m in \u001b[0;36m__call__\u001b[0;34m(self, *args, **kwargs)\u001b[0m\n\u001b[1;32m    347\u001b[0m \u001b[0;34m\u001b[0m\u001b[0m\n\u001b[1;32m    348\u001b[0m     \u001b[0;32mdef\u001b[0m \u001b[0m__call__\u001b[0m\u001b[0;34m(\u001b[0m\u001b[0mself\u001b[0m\u001b[0;34m,\u001b[0m \u001b[0;34m*\u001b[0m\u001b[0margs\u001b[0m\u001b[0;34m,\u001b[0m \u001b[0;34m**\u001b[0m\u001b[0mkwargs\u001b[0m\u001b[0;34m)\u001b[0m\u001b[0;34m:\u001b[0m\u001b[0;34m\u001b[0m\u001b[0;34m\u001b[0m\u001b[0m\n\u001b[0;32m--> 349\u001b[0;31m         \u001b[0;32mreturn\u001b[0m \u001b[0mself\u001b[0m\u001b[0;34m.\u001b[0m\u001b[0mfunc\u001b[0m\u001b[0;34m(\u001b[0m\u001b[0;34m*\u001b[0m\u001b[0margs\u001b[0m\u001b[0;34m,\u001b[0m \u001b[0;34m**\u001b[0m\u001b[0mkwargs\u001b[0m\u001b[0;34m)\u001b[0m\u001b[0;34m\u001b[0m\u001b[0;34m\u001b[0m\u001b[0m\n\u001b[0m\u001b[1;32m    350\u001b[0m \u001b[0;34m\u001b[0m\u001b[0m\n\u001b[1;32m    351\u001b[0m     \u001b[0;32mdef\u001b[0m \u001b[0mcall_and_shelve\u001b[0m\u001b[0;34m(\u001b[0m\u001b[0mself\u001b[0m\u001b[0;34m,\u001b[0m \u001b[0;34m*\u001b[0m\u001b[0margs\u001b[0m\u001b[0;34m,\u001b[0m \u001b[0;34m**\u001b[0m\u001b[0mkwargs\u001b[0m\u001b[0;34m)\u001b[0m\u001b[0;34m:\u001b[0m\u001b[0;34m\u001b[0m\u001b[0;34m\u001b[0m\u001b[0m\n",
            "\u001b[0;32m/usr/local/lib/python3.8/dist-packages/nilearn/image/image.py\u001b[0m in \u001b[0;36m_compute_mean\u001b[0;34m(imgs, target_affine, target_shape, smooth)\u001b[0m\n\u001b[1;32m    456\u001b[0m     \u001b[0minput_repr\u001b[0m \u001b[0;34m=\u001b[0m \u001b[0m_repr_niimgs\u001b[0m\u001b[0;34m(\u001b[0m\u001b[0mimgs\u001b[0m\u001b[0;34m,\u001b[0m \u001b[0mshorten\u001b[0m\u001b[0;34m=\u001b[0m\u001b[0;32mTrue\u001b[0m\u001b[0;34m)\u001b[0m\u001b[0;34m\u001b[0m\u001b[0;34m\u001b[0m\u001b[0m\n\u001b[1;32m    457\u001b[0m \u001b[0;34m\u001b[0m\u001b[0m\n\u001b[0;32m--> 458\u001b[0;31m     \u001b[0mimgs\u001b[0m \u001b[0;34m=\u001b[0m \u001b[0mcheck_niimg\u001b[0m\u001b[0;34m(\u001b[0m\u001b[0mimgs\u001b[0m\u001b[0;34m)\u001b[0m\u001b[0;34m\u001b[0m\u001b[0;34m\u001b[0m\u001b[0m\n\u001b[0m\u001b[1;32m    459\u001b[0m     \u001b[0mmean_data\u001b[0m \u001b[0;34m=\u001b[0m \u001b[0m_safe_get_data\u001b[0m\u001b[0;34m(\u001b[0m\u001b[0mimgs\u001b[0m\u001b[0;34m)\u001b[0m\u001b[0;34m\u001b[0m\u001b[0;34m\u001b[0m\u001b[0m\n\u001b[1;32m    460\u001b[0m     \u001b[0maffine\u001b[0m \u001b[0;34m=\u001b[0m \u001b[0mimgs\u001b[0m\u001b[0;34m.\u001b[0m\u001b[0maffine\u001b[0m\u001b[0;34m\u001b[0m\u001b[0;34m\u001b[0m\u001b[0m\n",
            "\u001b[0;32m/usr/local/lib/python3.8/dist-packages/nilearn/_utils/niimg_conversions.py\u001b[0m in \u001b[0;36mcheck_niimg\u001b[0;34m(niimg, ensure_ndim, atleast_4d, dtype, return_iterator, wildcards)\u001b[0m\n\u001b[1;32m    281\u001b[0m             return _iter_check_niimg(niimg, ensure_ndim=ensure_ndim,\n\u001b[1;32m    282\u001b[0m                                      dtype=dtype)\n\u001b[0;32m--> 283\u001b[0;31m         \u001b[0;32mreturn\u001b[0m \u001b[0mconcat_niimgs\u001b[0m\u001b[0;34m(\u001b[0m\u001b[0mniimg\u001b[0m\u001b[0;34m,\u001b[0m \u001b[0mensure_ndim\u001b[0m\u001b[0;34m=\u001b[0m\u001b[0mensure_ndim\u001b[0m\u001b[0;34m,\u001b[0m \u001b[0mdtype\u001b[0m\u001b[0;34m=\u001b[0m\u001b[0mdtype\u001b[0m\u001b[0;34m)\u001b[0m\u001b[0;34m\u001b[0m\u001b[0;34m\u001b[0m\u001b[0m\n\u001b[0m\u001b[1;32m    284\u001b[0m \u001b[0;34m\u001b[0m\u001b[0m\n\u001b[1;32m    285\u001b[0m     \u001b[0;31m# Otherwise, it should be a filename or a SpatialImage, we load it\u001b[0m\u001b[0;34m\u001b[0m\u001b[0;34m\u001b[0m\u001b[0;34m\u001b[0m\u001b[0m\n",
            "\u001b[0;32m/usr/local/lib/python3.8/dist-packages/nilearn/_utils/niimg_conversions.py\u001b[0m in \u001b[0;36mconcat_niimgs\u001b[0;34m(niimgs, dtype, ensure_ndim, memory, memory_level, auto_resample, verbose)\u001b[0m\n\u001b[1;32m    451\u001b[0m     \u001b[0miterator\u001b[0m\u001b[0;34m,\u001b[0m \u001b[0mliterator\u001b[0m \u001b[0;34m=\u001b[0m \u001b[0mitertools\u001b[0m\u001b[0;34m.\u001b[0m\u001b[0mtee\u001b[0m\u001b[0;34m(\u001b[0m\u001b[0miter\u001b[0m\u001b[0;34m(\u001b[0m\u001b[0mniimgs\u001b[0m\u001b[0;34m)\u001b[0m\u001b[0;34m)\u001b[0m\u001b[0;34m\u001b[0m\u001b[0;34m\u001b[0m\u001b[0m\n\u001b[1;32m    452\u001b[0m     \u001b[0;32mtry\u001b[0m\u001b[0;34m:\u001b[0m\u001b[0;34m\u001b[0m\u001b[0;34m\u001b[0m\u001b[0m\n\u001b[0;32m--> 453\u001b[0;31m         \u001b[0mfirst_niimg\u001b[0m \u001b[0;34m=\u001b[0m \u001b[0mcheck_niimg\u001b[0m\u001b[0;34m(\u001b[0m\u001b[0mnext\u001b[0m\u001b[0;34m(\u001b[0m\u001b[0mliterator\u001b[0m\u001b[0;34m)\u001b[0m\u001b[0;34m,\u001b[0m \u001b[0mensure_ndim\u001b[0m\u001b[0;34m=\u001b[0m\u001b[0mndim\u001b[0m\u001b[0;34m)\u001b[0m\u001b[0;34m\u001b[0m\u001b[0;34m\u001b[0m\u001b[0m\n\u001b[0m\u001b[1;32m    454\u001b[0m     \u001b[0;32mexcept\u001b[0m \u001b[0mStopIteration\u001b[0m\u001b[0;34m:\u001b[0m\u001b[0;34m\u001b[0m\u001b[0;34m\u001b[0m\u001b[0m\n\u001b[1;32m    455\u001b[0m         \u001b[0;32mraise\u001b[0m \u001b[0mTypeError\u001b[0m\u001b[0;34m(\u001b[0m\u001b[0;34m'Cannot concatenate empty objects'\u001b[0m\u001b[0;34m)\u001b[0m\u001b[0;34m\u001b[0m\u001b[0;34m\u001b[0m\u001b[0m\n",
            "\u001b[0;32m/usr/local/lib/python3.8/dist-packages/nilearn/_utils/niimg_conversions.py\u001b[0m in \u001b[0;36mcheck_niimg\u001b[0;34m(niimg, ensure_ndim, atleast_4d, dtype, return_iterator, wildcards)\u001b[0m\n\u001b[1;32m    281\u001b[0m             return _iter_check_niimg(niimg, ensure_ndim=ensure_ndim,\n\u001b[1;32m    282\u001b[0m                                      dtype=dtype)\n\u001b[0;32m--> 283\u001b[0;31m         \u001b[0;32mreturn\u001b[0m \u001b[0mconcat_niimgs\u001b[0m\u001b[0;34m(\u001b[0m\u001b[0mniimg\u001b[0m\u001b[0;34m,\u001b[0m \u001b[0mensure_ndim\u001b[0m\u001b[0;34m=\u001b[0m\u001b[0mensure_ndim\u001b[0m\u001b[0;34m,\u001b[0m \u001b[0mdtype\u001b[0m\u001b[0;34m=\u001b[0m\u001b[0mdtype\u001b[0m\u001b[0;34m)\u001b[0m\u001b[0;34m\u001b[0m\u001b[0;34m\u001b[0m\u001b[0m\n\u001b[0m\u001b[1;32m    284\u001b[0m \u001b[0;34m\u001b[0m\u001b[0m\n\u001b[1;32m    285\u001b[0m     \u001b[0;31m# Otherwise, it should be a filename or a SpatialImage, we load it\u001b[0m\u001b[0;34m\u001b[0m\u001b[0;34m\u001b[0m\u001b[0;34m\u001b[0m\u001b[0m\n",
            "\u001b[0;32m/usr/local/lib/python3.8/dist-packages/nilearn/_utils/niimg_conversions.py\u001b[0m in \u001b[0;36mconcat_niimgs\u001b[0;34m(niimgs, dtype, ensure_ndim, memory, memory_level, auto_resample, verbose)\u001b[0m\n\u001b[1;32m    451\u001b[0m     \u001b[0miterator\u001b[0m\u001b[0;34m,\u001b[0m \u001b[0mliterator\u001b[0m \u001b[0;34m=\u001b[0m \u001b[0mitertools\u001b[0m\u001b[0;34m.\u001b[0m\u001b[0mtee\u001b[0m\u001b[0;34m(\u001b[0m\u001b[0miter\u001b[0m\u001b[0;34m(\u001b[0m\u001b[0mniimgs\u001b[0m\u001b[0;34m)\u001b[0m\u001b[0;34m)\u001b[0m\u001b[0;34m\u001b[0m\u001b[0;34m\u001b[0m\u001b[0m\n\u001b[1;32m    452\u001b[0m     \u001b[0;32mtry\u001b[0m\u001b[0;34m:\u001b[0m\u001b[0;34m\u001b[0m\u001b[0;34m\u001b[0m\u001b[0m\n\u001b[0;32m--> 453\u001b[0;31m         \u001b[0mfirst_niimg\u001b[0m \u001b[0;34m=\u001b[0m \u001b[0mcheck_niimg\u001b[0m\u001b[0;34m(\u001b[0m\u001b[0mnext\u001b[0m\u001b[0;34m(\u001b[0m\u001b[0mliterator\u001b[0m\u001b[0;34m)\u001b[0m\u001b[0;34m,\u001b[0m \u001b[0mensure_ndim\u001b[0m\u001b[0;34m=\u001b[0m\u001b[0mndim\u001b[0m\u001b[0;34m)\u001b[0m\u001b[0;34m\u001b[0m\u001b[0;34m\u001b[0m\u001b[0m\n\u001b[0m\u001b[1;32m    454\u001b[0m     \u001b[0;32mexcept\u001b[0m \u001b[0mStopIteration\u001b[0m\u001b[0;34m:\u001b[0m\u001b[0;34m\u001b[0m\u001b[0;34m\u001b[0m\u001b[0m\n\u001b[1;32m    455\u001b[0m         \u001b[0;32mraise\u001b[0m \u001b[0mTypeError\u001b[0m\u001b[0;34m(\u001b[0m\u001b[0;34m'Cannot concatenate empty objects'\u001b[0m\u001b[0;34m)\u001b[0m\u001b[0;34m\u001b[0m\u001b[0;34m\u001b[0m\u001b[0m\n",
            "\u001b[0;32m/usr/local/lib/python3.8/dist-packages/nilearn/_utils/niimg_conversions.py\u001b[0m in \u001b[0;36mcheck_niimg\u001b[0;34m(niimg, ensure_ndim, atleast_4d, dtype, return_iterator, wildcards)\u001b[0m\n\u001b[1;32m    281\u001b[0m             return _iter_check_niimg(niimg, ensure_ndim=ensure_ndim,\n\u001b[1;32m    282\u001b[0m                                      dtype=dtype)\n\u001b[0;32m--> 283\u001b[0;31m         \u001b[0;32mreturn\u001b[0m \u001b[0mconcat_niimgs\u001b[0m\u001b[0;34m(\u001b[0m\u001b[0mniimg\u001b[0m\u001b[0;34m,\u001b[0m \u001b[0mensure_ndim\u001b[0m\u001b[0;34m=\u001b[0m\u001b[0mensure_ndim\u001b[0m\u001b[0;34m,\u001b[0m \u001b[0mdtype\u001b[0m\u001b[0;34m=\u001b[0m\u001b[0mdtype\u001b[0m\u001b[0;34m)\u001b[0m\u001b[0;34m\u001b[0m\u001b[0;34m\u001b[0m\u001b[0m\n\u001b[0m\u001b[1;32m    284\u001b[0m \u001b[0;34m\u001b[0m\u001b[0m\n\u001b[1;32m    285\u001b[0m     \u001b[0;31m# Otherwise, it should be a filename or a SpatialImage, we load it\u001b[0m\u001b[0;34m\u001b[0m\u001b[0;34m\u001b[0m\u001b[0;34m\u001b[0m\u001b[0m\n",
            "\u001b[0;32m/usr/local/lib/python3.8/dist-packages/nilearn/_utils/niimg_conversions.py\u001b[0m in \u001b[0;36mconcat_niimgs\u001b[0;34m(niimgs, dtype, ensure_ndim, memory, memory_level, auto_resample, verbose)\u001b[0m\n\u001b[1;32m    451\u001b[0m     \u001b[0miterator\u001b[0m\u001b[0;34m,\u001b[0m \u001b[0mliterator\u001b[0m \u001b[0;34m=\u001b[0m \u001b[0mitertools\u001b[0m\u001b[0;34m.\u001b[0m\u001b[0mtee\u001b[0m\u001b[0;34m(\u001b[0m\u001b[0miter\u001b[0m\u001b[0;34m(\u001b[0m\u001b[0mniimgs\u001b[0m\u001b[0;34m)\u001b[0m\u001b[0;34m)\u001b[0m\u001b[0;34m\u001b[0m\u001b[0;34m\u001b[0m\u001b[0m\n\u001b[1;32m    452\u001b[0m     \u001b[0;32mtry\u001b[0m\u001b[0;34m:\u001b[0m\u001b[0;34m\u001b[0m\u001b[0;34m\u001b[0m\u001b[0m\n\u001b[0;32m--> 453\u001b[0;31m         \u001b[0mfirst_niimg\u001b[0m \u001b[0;34m=\u001b[0m \u001b[0mcheck_niimg\u001b[0m\u001b[0;34m(\u001b[0m\u001b[0mnext\u001b[0m\u001b[0;34m(\u001b[0m\u001b[0mliterator\u001b[0m\u001b[0;34m)\u001b[0m\u001b[0;34m,\u001b[0m \u001b[0mensure_ndim\u001b[0m\u001b[0;34m=\u001b[0m\u001b[0mndim\u001b[0m\u001b[0;34m)\u001b[0m\u001b[0;34m\u001b[0m\u001b[0;34m\u001b[0m\u001b[0m\n\u001b[0m\u001b[1;32m    454\u001b[0m     \u001b[0;32mexcept\u001b[0m \u001b[0mStopIteration\u001b[0m\u001b[0;34m:\u001b[0m\u001b[0;34m\u001b[0m\u001b[0;34m\u001b[0m\u001b[0m\n\u001b[1;32m    455\u001b[0m         \u001b[0;32mraise\u001b[0m \u001b[0mTypeError\u001b[0m\u001b[0;34m(\u001b[0m\u001b[0;34m'Cannot concatenate empty objects'\u001b[0m\u001b[0;34m)\u001b[0m\u001b[0;34m\u001b[0m\u001b[0;34m\u001b[0m\u001b[0m\n",
            "\u001b[0;32m/usr/local/lib/python3.8/dist-packages/nilearn/_utils/niimg_conversions.py\u001b[0m in \u001b[0;36mcheck_niimg\u001b[0;34m(niimg, ensure_ndim, atleast_4d, dtype, return_iterator, wildcards)\u001b[0m\n\u001b[1;32m    281\u001b[0m             return _iter_check_niimg(niimg, ensure_ndim=ensure_ndim,\n\u001b[1;32m    282\u001b[0m                                      dtype=dtype)\n\u001b[0;32m--> 283\u001b[0;31m         \u001b[0;32mreturn\u001b[0m \u001b[0mconcat_niimgs\u001b[0m\u001b[0;34m(\u001b[0m\u001b[0mniimg\u001b[0m\u001b[0;34m,\u001b[0m \u001b[0mensure_ndim\u001b[0m\u001b[0;34m=\u001b[0m\u001b[0mensure_ndim\u001b[0m\u001b[0;34m,\u001b[0m \u001b[0mdtype\u001b[0m\u001b[0;34m=\u001b[0m\u001b[0mdtype\u001b[0m\u001b[0;34m)\u001b[0m\u001b[0;34m\u001b[0m\u001b[0;34m\u001b[0m\u001b[0m\n\u001b[0m\u001b[1;32m    284\u001b[0m \u001b[0;34m\u001b[0m\u001b[0m\n\u001b[1;32m    285\u001b[0m     \u001b[0;31m# Otherwise, it should be a filename or a SpatialImage, we load it\u001b[0m\u001b[0;34m\u001b[0m\u001b[0;34m\u001b[0m\u001b[0;34m\u001b[0m\u001b[0m\n",
            "\u001b[0;32m/usr/local/lib/python3.8/dist-packages/nilearn/_utils/niimg_conversions.py\u001b[0m in \u001b[0;36mconcat_niimgs\u001b[0;34m(niimgs, dtype, ensure_ndim, memory, memory_level, auto_resample, verbose)\u001b[0m\n\u001b[1;32m    451\u001b[0m     \u001b[0miterator\u001b[0m\u001b[0;34m,\u001b[0m \u001b[0mliterator\u001b[0m \u001b[0;34m=\u001b[0m \u001b[0mitertools\u001b[0m\u001b[0;34m.\u001b[0m\u001b[0mtee\u001b[0m\u001b[0;34m(\u001b[0m\u001b[0miter\u001b[0m\u001b[0;34m(\u001b[0m\u001b[0mniimgs\u001b[0m\u001b[0;34m)\u001b[0m\u001b[0;34m)\u001b[0m\u001b[0;34m\u001b[0m\u001b[0;34m\u001b[0m\u001b[0m\n\u001b[1;32m    452\u001b[0m     \u001b[0;32mtry\u001b[0m\u001b[0;34m:\u001b[0m\u001b[0;34m\u001b[0m\u001b[0;34m\u001b[0m\u001b[0m\n\u001b[0;32m--> 453\u001b[0;31m         \u001b[0mfirst_niimg\u001b[0m \u001b[0;34m=\u001b[0m \u001b[0mcheck_niimg\u001b[0m\u001b[0;34m(\u001b[0m\u001b[0mnext\u001b[0m\u001b[0;34m(\u001b[0m\u001b[0mliterator\u001b[0m\u001b[0;34m)\u001b[0m\u001b[0;34m,\u001b[0m \u001b[0mensure_ndim\u001b[0m\u001b[0;34m=\u001b[0m\u001b[0mndim\u001b[0m\u001b[0;34m)\u001b[0m\u001b[0;34m\u001b[0m\u001b[0;34m\u001b[0m\u001b[0m\n\u001b[0m\u001b[1;32m    454\u001b[0m     \u001b[0;32mexcept\u001b[0m \u001b[0mStopIteration\u001b[0m\u001b[0;34m:\u001b[0m\u001b[0;34m\u001b[0m\u001b[0;34m\u001b[0m\u001b[0m\n\u001b[1;32m    455\u001b[0m         \u001b[0;32mraise\u001b[0m \u001b[0mTypeError\u001b[0m\u001b[0;34m(\u001b[0m\u001b[0;34m'Cannot concatenate empty objects'\u001b[0m\u001b[0;34m)\u001b[0m\u001b[0;34m\u001b[0m\u001b[0;34m\u001b[0m\u001b[0m\n",
            "\u001b[0;32m/usr/local/lib/python3.8/dist-packages/nilearn/_utils/niimg_conversions.py\u001b[0m in \u001b[0;36mcheck_niimg\u001b[0;34m(niimg, ensure_ndim, atleast_4d, dtype, return_iterator, wildcards)\u001b[0m\n\u001b[1;32m    284\u001b[0m \u001b[0;34m\u001b[0m\u001b[0m\n\u001b[1;32m    285\u001b[0m     \u001b[0;31m# Otherwise, it should be a filename or a SpatialImage, we load it\u001b[0m\u001b[0;34m\u001b[0m\u001b[0;34m\u001b[0m\u001b[0;34m\u001b[0m\u001b[0m\n\u001b[0;32m--> 286\u001b[0;31m     \u001b[0mniimg\u001b[0m \u001b[0;34m=\u001b[0m \u001b[0mload_niimg\u001b[0m\u001b[0;34m(\u001b[0m\u001b[0mniimg\u001b[0m\u001b[0;34m,\u001b[0m \u001b[0mdtype\u001b[0m\u001b[0;34m=\u001b[0m\u001b[0mdtype\u001b[0m\u001b[0;34m)\u001b[0m\u001b[0;34m\u001b[0m\u001b[0;34m\u001b[0m\u001b[0m\n\u001b[0m\u001b[1;32m    287\u001b[0m \u001b[0;34m\u001b[0m\u001b[0m\n\u001b[1;32m    288\u001b[0m     \u001b[0;32mif\u001b[0m \u001b[0mensure_ndim\u001b[0m \u001b[0;34m==\u001b[0m \u001b[0;36m3\u001b[0m \u001b[0;32mand\u001b[0m \u001b[0mlen\u001b[0m\u001b[0;34m(\u001b[0m\u001b[0mniimg\u001b[0m\u001b[0;34m.\u001b[0m\u001b[0mshape\u001b[0m\u001b[0;34m)\u001b[0m \u001b[0;34m==\u001b[0m \u001b[0;36m4\u001b[0m \u001b[0;32mand\u001b[0m \u001b[0mniimg\u001b[0m\u001b[0;34m.\u001b[0m\u001b[0mshape\u001b[0m\u001b[0;34m[\u001b[0m\u001b[0;36m3\u001b[0m\u001b[0;34m]\u001b[0m \u001b[0;34m==\u001b[0m \u001b[0;36m1\u001b[0m\u001b[0;34m:\u001b[0m\u001b[0;34m\u001b[0m\u001b[0;34m\u001b[0m\u001b[0m\n",
            "\u001b[0;32m/usr/local/lib/python3.8/dist-packages/nilearn/_utils/niimg.py\u001b[0m in \u001b[0;36mload_niimg\u001b[0;34m(niimg, dtype)\u001b[0m\n\u001b[1;32m    131\u001b[0m         \u001b[0mniimg\u001b[0m \u001b[0;34m=\u001b[0m \u001b[0mnibabel\u001b[0m\u001b[0;34m.\u001b[0m\u001b[0mload\u001b[0m\u001b[0;34m(\u001b[0m\u001b[0mniimg\u001b[0m\u001b[0;34m)\u001b[0m\u001b[0;34m\u001b[0m\u001b[0;34m\u001b[0m\u001b[0m\n\u001b[1;32m    132\u001b[0m     \u001b[0;32melif\u001b[0m \u001b[0;32mnot\u001b[0m \u001b[0misinstance\u001b[0m\u001b[0;34m(\u001b[0m\u001b[0mniimg\u001b[0m\u001b[0;34m,\u001b[0m \u001b[0mnibabel\u001b[0m\u001b[0;34m.\u001b[0m\u001b[0mspatialimages\u001b[0m\u001b[0;34m.\u001b[0m\u001b[0mSpatialImage\u001b[0m\u001b[0;34m)\u001b[0m\u001b[0;34m:\u001b[0m\u001b[0;34m\u001b[0m\u001b[0;34m\u001b[0m\u001b[0m\n\u001b[0;32m--> 133\u001b[0;31m         raise TypeError(\"Data given cannot be loaded because it is\"\n\u001b[0m\u001b[1;32m    134\u001b[0m                         \u001b[0;34m\" not compatible with nibabel format:\\n\"\u001b[0m\u001b[0;34m\u001b[0m\u001b[0;34m\u001b[0m\u001b[0m\n\u001b[1;32m    135\u001b[0m                         + _repr_niimgs(niimg, shorten=True))\n",
            "\u001b[0;31mTypeError\u001b[0m: Data given cannot be loaded because it is not compatible with nibabel format:\n-0.6953459355175242"
          ]
        }
      ]
    },
    {
      "cell_type": "code",
      "source": [],
      "metadata": {
        "id": "51AxQfMPN2C5"
      },
      "execution_count": null,
      "outputs": []
    },
    {
      "cell_type": "code",
      "source": [],
      "metadata": {
        "id": "1_J8zKADN2N-"
      },
      "execution_count": null,
      "outputs": []
    },
    {
      "cell_type": "code",
      "source": [],
      "metadata": {
        "id": "3YqGUe9oN2Rf"
      },
      "execution_count": null,
      "outputs": []
    },
    {
      "cell_type": "code",
      "source": [],
      "metadata": {
        "id": "p1qoy6iQN2UT"
      },
      "execution_count": null,
      "outputs": []
    },
    {
      "cell_type": "code",
      "source": [],
      "metadata": {
        "id": "npZFR2F6N2do"
      },
      "execution_count": null,
      "outputs": []
    },
    {
      "cell_type": "code",
      "source": [],
      "metadata": {
        "id": "C5btVXYmN2gN"
      },
      "execution_count": null,
      "outputs": []
    },
    {
      "cell_type": "code",
      "source": [],
      "metadata": {
        "id": "lEbKLTSnN2i0"
      },
      "execution_count": null,
      "outputs": []
    },
    {
      "cell_type": "code",
      "source": [],
      "metadata": {
        "id": "BSOE72OFN2lN"
      },
      "execution_count": null,
      "outputs": []
    },
    {
      "cell_type": "code",
      "source": [],
      "metadata": {
        "id": "Q0Pgja3rN2nl"
      },
      "execution_count": null,
      "outputs": []
    }
  ]
}